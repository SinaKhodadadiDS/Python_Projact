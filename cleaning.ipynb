{
 "cells": [
  {
   "cell_type": "markdown",
   "id": "7212871a-1164-4bf1-8108-3db231eaa538",
   "metadata": {},
   "source": [
    "### Importing Liberies"
   ]
  },
  {
   "cell_type": "code",
   "execution_count": 2,
   "id": "91a18dd4-f334-4f5f-bd73-df70c63a69e9",
   "metadata": {},
   "outputs": [],
   "source": [
    "import pandas as pd\n",
    "import numpy as np\n",
    "import matplotlib.pyplot as plt\n",
    "import seaborn as sns"
   ]
  },
  {
   "cell_type": "markdown",
   "id": "e9e4a0a7-c0bb-407b-8d53-4f4c9fa83e30",
   "metadata": {},
   "source": [
    "### Importing Data"
   ]
  },
  {
   "cell_type": "code",
   "execution_count": 4,
   "id": "10ce8214-2140-4415-97db-ec1bb1acc694",
   "metadata": {},
   "outputs": [
    {
     "data": {
      "text/html": [
       "<div>\n",
       "<style scoped>\n",
       "    .dataframe tbody tr th:only-of-type {\n",
       "        vertical-align: middle;\n",
       "    }\n",
       "\n",
       "    .dataframe tbody tr th {\n",
       "        vertical-align: top;\n",
       "    }\n",
       "\n",
       "    .dataframe thead th {\n",
       "        text-align: right;\n",
       "    }\n",
       "</style>\n",
       "<table border=\"1\" class=\"dataframe\">\n",
       "  <thead>\n",
       "    <tr style=\"text-align: right;\">\n",
       "      <th></th>\n",
       "      <th>id</th>\n",
       "      <th>id_order</th>\n",
       "      <th>product_id</th>\n",
       "      <th>product_quantity</th>\n",
       "      <th>sku</th>\n",
       "      <th>unit_price</th>\n",
       "      <th>date</th>\n",
       "    </tr>\n",
       "  </thead>\n",
       "  <tbody>\n",
       "    <tr>\n",
       "      <th>0</th>\n",
       "      <td>1119109</td>\n",
       "      <td>299539</td>\n",
       "      <td>0</td>\n",
       "      <td>1</td>\n",
       "      <td>OTT0133</td>\n",
       "      <td>18.99</td>\n",
       "      <td>2017-01-01 00:07:19</td>\n",
       "    </tr>\n",
       "    <tr>\n",
       "      <th>1</th>\n",
       "      <td>1119110</td>\n",
       "      <td>299540</td>\n",
       "      <td>0</td>\n",
       "      <td>1</td>\n",
       "      <td>LGE0043</td>\n",
       "      <td>399.00</td>\n",
       "      <td>2017-01-01 00:19:45</td>\n",
       "    </tr>\n",
       "    <tr>\n",
       "      <th>2</th>\n",
       "      <td>1119111</td>\n",
       "      <td>299541</td>\n",
       "      <td>0</td>\n",
       "      <td>1</td>\n",
       "      <td>PAR0071</td>\n",
       "      <td>474.05</td>\n",
       "      <td>2017-01-01 00:20:57</td>\n",
       "    </tr>\n",
       "    <tr>\n",
       "      <th>3</th>\n",
       "      <td>1119112</td>\n",
       "      <td>299542</td>\n",
       "      <td>0</td>\n",
       "      <td>1</td>\n",
       "      <td>WDT0315</td>\n",
       "      <td>68.39</td>\n",
       "      <td>2017-01-01 00:51:40</td>\n",
       "    </tr>\n",
       "    <tr>\n",
       "      <th>4</th>\n",
       "      <td>1119113</td>\n",
       "      <td>299543</td>\n",
       "      <td>0</td>\n",
       "      <td>1</td>\n",
       "      <td>JBL0104</td>\n",
       "      <td>23.74</td>\n",
       "      <td>2017-01-01 01:06:38</td>\n",
       "    </tr>\n",
       "  </tbody>\n",
       "</table>\n",
       "</div>"
      ],
      "text/plain": [
       "        id  id_order  product_id  product_quantity      sku unit_price  \\\n",
       "0  1119109    299539           0                 1  OTT0133      18.99   \n",
       "1  1119110    299540           0                 1  LGE0043     399.00   \n",
       "2  1119111    299541           0                 1  PAR0071     474.05   \n",
       "3  1119112    299542           0                 1  WDT0315      68.39   \n",
       "4  1119113    299543           0                 1  JBL0104      23.74   \n",
       "\n",
       "                  date  \n",
       "0  2017-01-01 00:07:19  \n",
       "1  2017-01-01 00:19:45  \n",
       "2  2017-01-01 00:20:57  \n",
       "3  2017-01-01 00:51:40  \n",
       "4  2017-01-01 01:06:38  "
      ]
     },
     "execution_count": 4,
     "metadata": {},
     "output_type": "execute_result"
    }
   ],
   "source": [
    "path = f\"C:\\\\My projects\\\\pandas\\\\data\\\\orderlines.csv\"\n",
    "orderlines = pd.read_csv(path)\n",
    "orderlines.head()"
   ]
  },
  {
   "cell_type": "code",
   "execution_count": 6,
   "id": "96abd541-bcbb-492d-a763-4bb5dc37ef34",
   "metadata": {},
   "outputs": [
    {
     "data": {
      "text/html": [
       "<div>\n",
       "<style scoped>\n",
       "    .dataframe tbody tr th:only-of-type {\n",
       "        vertical-align: middle;\n",
       "    }\n",
       "\n",
       "    .dataframe tbody tr th {\n",
       "        vertical-align: top;\n",
       "    }\n",
       "\n",
       "    .dataframe thead th {\n",
       "        text-align: right;\n",
       "    }\n",
       "</style>\n",
       "<table border=\"1\" class=\"dataframe\">\n",
       "  <thead>\n",
       "    <tr style=\"text-align: right;\">\n",
       "      <th></th>\n",
       "      <th>order_id</th>\n",
       "      <th>created_date</th>\n",
       "      <th>total_paid</th>\n",
       "      <th>state</th>\n",
       "    </tr>\n",
       "  </thead>\n",
       "  <tbody>\n",
       "    <tr>\n",
       "      <th>0</th>\n",
       "      <td>241319</td>\n",
       "      <td>2017-01-02 13:35:40</td>\n",
       "      <td>44.99</td>\n",
       "      <td>Cancelled</td>\n",
       "    </tr>\n",
       "    <tr>\n",
       "      <th>1</th>\n",
       "      <td>241423</td>\n",
       "      <td>2017-11-06 13:10:02</td>\n",
       "      <td>136.15</td>\n",
       "      <td>Completed</td>\n",
       "    </tr>\n",
       "    <tr>\n",
       "      <th>2</th>\n",
       "      <td>242832</td>\n",
       "      <td>2017-12-31 17:40:03</td>\n",
       "      <td>15.76</td>\n",
       "      <td>Completed</td>\n",
       "    </tr>\n",
       "    <tr>\n",
       "      <th>3</th>\n",
       "      <td>243330</td>\n",
       "      <td>2017-02-16 10:59:38</td>\n",
       "      <td>84.98</td>\n",
       "      <td>Completed</td>\n",
       "    </tr>\n",
       "    <tr>\n",
       "      <th>4</th>\n",
       "      <td>243784</td>\n",
       "      <td>2017-11-24 13:35:19</td>\n",
       "      <td>157.86</td>\n",
       "      <td>Cancelled</td>\n",
       "    </tr>\n",
       "  </tbody>\n",
       "</table>\n",
       "</div>"
      ],
      "text/plain": [
       "   order_id         created_date  total_paid      state\n",
       "0    241319  2017-01-02 13:35:40       44.99  Cancelled\n",
       "1    241423  2017-11-06 13:10:02      136.15  Completed\n",
       "2    242832  2017-12-31 17:40:03       15.76  Completed\n",
       "3    243330  2017-02-16 10:59:38       84.98  Completed\n",
       "4    243784  2017-11-24 13:35:19      157.86  Cancelled"
      ]
     },
     "execution_count": 6,
     "metadata": {},
     "output_type": "execute_result"
    }
   ],
   "source": [
    "path = f\"C:\\\\My projects\\\\pandas\\\\data\\\\orders.csv\"\n",
    "orders = pd.read_csv(path)\n",
    "orders.head()"
   ]
  },
  {
   "cell_type": "code",
   "execution_count": 8,
   "id": "edfe1dba-2ac0-4c45-ae3e-193069229aa9",
   "metadata": {},
   "outputs": [
    {
     "data": {
      "text/html": [
       "<div>\n",
       "<style scoped>\n",
       "    .dataframe tbody tr th:only-of-type {\n",
       "        vertical-align: middle;\n",
       "    }\n",
       "\n",
       "    .dataframe tbody tr th {\n",
       "        vertical-align: top;\n",
       "    }\n",
       "\n",
       "    .dataframe thead th {\n",
       "        text-align: right;\n",
       "    }\n",
       "</style>\n",
       "<table border=\"1\" class=\"dataframe\">\n",
       "  <thead>\n",
       "    <tr style=\"text-align: right;\">\n",
       "      <th></th>\n",
       "      <th>sku</th>\n",
       "      <th>name</th>\n",
       "      <th>desc</th>\n",
       "      <th>price</th>\n",
       "      <th>promo_price</th>\n",
       "      <th>in_stock</th>\n",
       "      <th>type</th>\n",
       "    </tr>\n",
       "  </thead>\n",
       "  <tbody>\n",
       "    <tr>\n",
       "      <th>0</th>\n",
       "      <td>RAI0007</td>\n",
       "      <td>Silver Rain Design mStand Support</td>\n",
       "      <td>Aluminum support compatible with all MacBook</td>\n",
       "      <td>59.99</td>\n",
       "      <td>499.899</td>\n",
       "      <td>1</td>\n",
       "      <td>8696</td>\n",
       "    </tr>\n",
       "    <tr>\n",
       "      <th>1</th>\n",
       "      <td>APP0023</td>\n",
       "      <td>Apple Mac Keyboard Keypad Spanish</td>\n",
       "      <td>USB ultrathin keyboard Apple Mac Spanish.</td>\n",
       "      <td>59</td>\n",
       "      <td>589.996</td>\n",
       "      <td>0</td>\n",
       "      <td>13855401</td>\n",
       "    </tr>\n",
       "    <tr>\n",
       "      <th>2</th>\n",
       "      <td>APP0025</td>\n",
       "      <td>Mighty Mouse Apple Mouse for Mac</td>\n",
       "      <td>mouse Apple USB cable.</td>\n",
       "      <td>59</td>\n",
       "      <td>569.898</td>\n",
       "      <td>0</td>\n",
       "      <td>1387</td>\n",
       "    </tr>\n",
       "    <tr>\n",
       "      <th>3</th>\n",
       "      <td>APP0072</td>\n",
       "      <td>Apple Dock to USB Cable iPhone and iPod white</td>\n",
       "      <td>IPhone dock and USB Cable Apple iPod.</td>\n",
       "      <td>25</td>\n",
       "      <td>229.997</td>\n",
       "      <td>0</td>\n",
       "      <td>1230</td>\n",
       "    </tr>\n",
       "    <tr>\n",
       "      <th>4</th>\n",
       "      <td>KIN0007</td>\n",
       "      <td>Mac Memory Kingston 2GB 667MHz DDR2 SO-DIMM</td>\n",
       "      <td>2GB RAM Mac mini and iMac (2006/07) MacBook Pr...</td>\n",
       "      <td>34.99</td>\n",
       "      <td>31.99</td>\n",
       "      <td>1</td>\n",
       "      <td>1364</td>\n",
       "    </tr>\n",
       "  </tbody>\n",
       "</table>\n",
       "</div>"
      ],
      "text/plain": [
       "       sku                                           name  \\\n",
       "0  RAI0007              Silver Rain Design mStand Support   \n",
       "1  APP0023              Apple Mac Keyboard Keypad Spanish   \n",
       "2  APP0025               Mighty Mouse Apple Mouse for Mac   \n",
       "3  APP0072  Apple Dock to USB Cable iPhone and iPod white   \n",
       "4  KIN0007    Mac Memory Kingston 2GB 667MHz DDR2 SO-DIMM   \n",
       "\n",
       "                                                desc  price promo_price  \\\n",
       "0       Aluminum support compatible with all MacBook  59.99     499.899   \n",
       "1          USB ultrathin keyboard Apple Mac Spanish.     59     589.996   \n",
       "2                             mouse Apple USB cable.     59     569.898   \n",
       "3              IPhone dock and USB Cable Apple iPod.     25     229.997   \n",
       "4  2GB RAM Mac mini and iMac (2006/07) MacBook Pr...  34.99       31.99   \n",
       "\n",
       "   in_stock      type  \n",
       "0         1      8696  \n",
       "1         0  13855401  \n",
       "2         0      1387  \n",
       "3         0      1230  \n",
       "4         1      1364  "
      ]
     },
     "execution_count": 8,
     "metadata": {},
     "output_type": "execute_result"
    }
   ],
   "source": [
    "path = f\"C:\\\\My projects\\\\pandas\\\\data\\\\products.csv\"\n",
    "products = pd.read_csv(path)\n",
    "products.head()"
   ]
  },
  {
   "cell_type": "code",
   "execution_count": 10,
   "id": "b08e23f6-eec3-4938-8ab4-31244979a364",
   "metadata": {},
   "outputs": [
    {
     "data": {
      "text/html": [
       "<div>\n",
       "<style scoped>\n",
       "    .dataframe tbody tr th:only-of-type {\n",
       "        vertical-align: middle;\n",
       "    }\n",
       "\n",
       "    .dataframe tbody tr th {\n",
       "        vertical-align: top;\n",
       "    }\n",
       "\n",
       "    .dataframe thead th {\n",
       "        text-align: right;\n",
       "    }\n",
       "</style>\n",
       "<table border=\"1\" class=\"dataframe\">\n",
       "  <thead>\n",
       "    <tr style=\"text-align: right;\">\n",
       "      <th></th>\n",
       "      <th>short</th>\n",
       "      <th>long</th>\n",
       "    </tr>\n",
       "  </thead>\n",
       "  <tbody>\n",
       "    <tr>\n",
       "      <th>0</th>\n",
       "      <td>8MO</td>\n",
       "      <td>8Mobility</td>\n",
       "    </tr>\n",
       "    <tr>\n",
       "      <th>1</th>\n",
       "      <td>ACM</td>\n",
       "      <td>Acme</td>\n",
       "    </tr>\n",
       "    <tr>\n",
       "      <th>2</th>\n",
       "      <td>ADN</td>\n",
       "      <td>Adonit</td>\n",
       "    </tr>\n",
       "    <tr>\n",
       "      <th>3</th>\n",
       "      <td>AII</td>\n",
       "      <td>Aiino</td>\n",
       "    </tr>\n",
       "    <tr>\n",
       "      <th>4</th>\n",
       "      <td>AKI</td>\n",
       "      <td>Akitio</td>\n",
       "    </tr>\n",
       "  </tbody>\n",
       "</table>\n",
       "</div>"
      ],
      "text/plain": [
       "  short       long\n",
       "0   8MO  8Mobility\n",
       "1   ACM       Acme\n",
       "2   ADN     Adonit\n",
       "3   AII      Aiino\n",
       "4   AKI     Akitio"
      ]
     },
     "execution_count": 10,
     "metadata": {},
     "output_type": "execute_result"
    }
   ],
   "source": [
    "path = \"C:\\\\My projects\\\\pandas\\\\data\\\\brands.csv\"\n",
    "brands = pd.read_csv(path)\n",
    "brands.head()"
   ]
  },
  {
   "cell_type": "markdown",
   "id": "3a76e100-1302-4d88-95c9-6f6127562598",
   "metadata": {},
   "source": [
    "### Data Explatory"
   ]
  },
  {
   "cell_type": "markdown",
   "id": "03d740b0-6315-43dc-a64b-1378c608f284",
   "metadata": {},
   "source": [
    "#### 1: orderlines"
   ]
  },
  {
   "cell_type": "code",
   "execution_count": 12,
   "id": "a5e0ec36-2c6f-4c22-84aa-c9d7077d9bac",
   "metadata": {},
   "outputs": [
    {
     "name": "stdout",
     "output_type": "stream",
     "text": [
      "<class 'pandas.core.frame.DataFrame'>\n",
      "RangeIndex: 293983 entries, 0 to 293982\n",
      "Data columns (total 7 columns):\n",
      " #   Column            Non-Null Count   Dtype \n",
      "---  ------            --------------   ----- \n",
      " 0   id                293983 non-null  int64 \n",
      " 1   id_order          293983 non-null  int64 \n",
      " 2   product_id        293983 non-null  int64 \n",
      " 3   product_quantity  293983 non-null  int64 \n",
      " 4   sku               293983 non-null  object\n",
      " 5   unit_price        293983 non-null  object\n",
      " 6   date              293983 non-null  object\n",
      "dtypes: int64(4), object(3)\n",
      "memory usage: 15.7+ MB\n"
     ]
    }
   ],
   "source": [
    "orderlines.info()"
   ]
  },
  {
   "cell_type": "markdown",
   "id": "797a596f-679e-42c1-822a-39f9b6b03452",
   "metadata": {},
   "source": [
    "As you can see the type of `date` is **object**. I want to change it to **datetime**\n",
    "\n",
    "Also, the type of `unit_price` is **object**. I want to change it to **float**"
   ]
  },
  {
   "cell_type": "markdown",
   "id": "3416bdd7-14ab-40e5-84e4-d1976edea65c",
   "metadata": {},
   "source": [
    "first `date`:"
   ]
  },
  {
   "cell_type": "code",
   "execution_count": 14,
   "id": "320eb3de-46a7-44a0-a381-f267d9f32c8d",
   "metadata": {},
   "outputs": [],
   "source": [
    "orderlines['date'] = pd.to_datetime(orderlines['date'])"
   ]
  },
  {
   "cell_type": "code",
   "execution_count": 16,
   "id": "8d0a716e-9327-4e6f-80c7-05f21b97bb08",
   "metadata": {},
   "outputs": [
    {
     "name": "stdout",
     "output_type": "stream",
     "text": [
      "<class 'pandas.core.frame.DataFrame'>\n",
      "RangeIndex: 293983 entries, 0 to 293982\n",
      "Data columns (total 7 columns):\n",
      " #   Column            Non-Null Count   Dtype         \n",
      "---  ------            --------------   -----         \n",
      " 0   id                293983 non-null  int64         \n",
      " 1   id_order          293983 non-null  int64         \n",
      " 2   product_id        293983 non-null  int64         \n",
      " 3   product_quantity  293983 non-null  int64         \n",
      " 4   sku               293983 non-null  object        \n",
      " 5   unit_price        293983 non-null  object        \n",
      " 6   date              293983 non-null  datetime64[ns]\n",
      "dtypes: datetime64[ns](1), int64(4), object(2)\n",
      "memory usage: 15.7+ MB\n"
     ]
    }
   ],
   "source": [
    "orderlines.info()"
   ]
  },
  {
   "cell_type": "markdown",
   "id": "3cfeee6f-db4a-4593-a57c-3670ebae910d",
   "metadata": {},
   "source": [
    "Now `unit_price` :"
   ]
  },
  {
   "cell_type": "code",
   "execution_count": 18,
   "id": "6f03894a-7464-4524-852c-9e770f9db650",
   "metadata": {},
   "outputs": [],
   "source": [
    "# first solution\n",
    "\n",
    "#orderlines['unit_price'] = pd.to_numeric(orderlines['unit_price'])"
   ]
  },
  {
   "cell_type": "code",
   "execution_count": 20,
   "id": "66d36dce-3407-4c7d-b404-888ff2c6ba13",
   "metadata": {},
   "outputs": [
    {
     "ename": "ValueError",
     "evalue": "could not convert string to float: '1.137.99'",
     "output_type": "error",
     "traceback": [
      "\u001b[1;31m---------------------------------------------------------------------------\u001b[0m",
      "\u001b[1;31mValueError\u001b[0m                                Traceback (most recent call last)",
      "Cell \u001b[1;32mIn[20], line 3\u001b[0m\n\u001b[0;32m      1\u001b[0m \u001b[38;5;66;03m# Second solution\u001b[39;00m\n\u001b[1;32m----> 3\u001b[0m orderlines[\u001b[38;5;124m'\u001b[39m\u001b[38;5;124munit_price\u001b[39m\u001b[38;5;124m'\u001b[39m] \u001b[38;5;241m=\u001b[39m orderlines[\u001b[38;5;124m'\u001b[39m\u001b[38;5;124munit_price\u001b[39m\u001b[38;5;124m'\u001b[39m]\u001b[38;5;241m.\u001b[39mastype(\u001b[38;5;28mfloat\u001b[39m)\n",
      "File \u001b[1;32m~\\anaconda3\\Lib\\site-packages\\pandas\\core\\generic.py:6643\u001b[0m, in \u001b[0;36mNDFrame.astype\u001b[1;34m(self, dtype, copy, errors)\u001b[0m\n\u001b[0;32m   6637\u001b[0m     results \u001b[38;5;241m=\u001b[39m [\n\u001b[0;32m   6638\u001b[0m         ser\u001b[38;5;241m.\u001b[39mastype(dtype, copy\u001b[38;5;241m=\u001b[39mcopy, errors\u001b[38;5;241m=\u001b[39merrors) \u001b[38;5;28;01mfor\u001b[39;00m _, ser \u001b[38;5;129;01min\u001b[39;00m \u001b[38;5;28mself\u001b[39m\u001b[38;5;241m.\u001b[39mitems()\n\u001b[0;32m   6639\u001b[0m     ]\n\u001b[0;32m   6641\u001b[0m \u001b[38;5;28;01melse\u001b[39;00m:\n\u001b[0;32m   6642\u001b[0m     \u001b[38;5;66;03m# else, only a single dtype is given\u001b[39;00m\n\u001b[1;32m-> 6643\u001b[0m     new_data \u001b[38;5;241m=\u001b[39m \u001b[38;5;28mself\u001b[39m\u001b[38;5;241m.\u001b[39m_mgr\u001b[38;5;241m.\u001b[39mastype(dtype\u001b[38;5;241m=\u001b[39mdtype, copy\u001b[38;5;241m=\u001b[39mcopy, errors\u001b[38;5;241m=\u001b[39merrors)\n\u001b[0;32m   6644\u001b[0m     res \u001b[38;5;241m=\u001b[39m \u001b[38;5;28mself\u001b[39m\u001b[38;5;241m.\u001b[39m_constructor_from_mgr(new_data, axes\u001b[38;5;241m=\u001b[39mnew_data\u001b[38;5;241m.\u001b[39maxes)\n\u001b[0;32m   6645\u001b[0m     \u001b[38;5;28;01mreturn\u001b[39;00m res\u001b[38;5;241m.\u001b[39m__finalize__(\u001b[38;5;28mself\u001b[39m, method\u001b[38;5;241m=\u001b[39m\u001b[38;5;124m\"\u001b[39m\u001b[38;5;124mastype\u001b[39m\u001b[38;5;124m\"\u001b[39m)\n",
      "File \u001b[1;32m~\\anaconda3\\Lib\\site-packages\\pandas\\core\\internals\\managers.py:430\u001b[0m, in \u001b[0;36mBaseBlockManager.astype\u001b[1;34m(self, dtype, copy, errors)\u001b[0m\n\u001b[0;32m    427\u001b[0m \u001b[38;5;28;01melif\u001b[39;00m using_copy_on_write():\n\u001b[0;32m    428\u001b[0m     copy \u001b[38;5;241m=\u001b[39m \u001b[38;5;28;01mFalse\u001b[39;00m\n\u001b[1;32m--> 430\u001b[0m \u001b[38;5;28;01mreturn\u001b[39;00m \u001b[38;5;28mself\u001b[39m\u001b[38;5;241m.\u001b[39mapply(\n\u001b[0;32m    431\u001b[0m     \u001b[38;5;124m\"\u001b[39m\u001b[38;5;124mastype\u001b[39m\u001b[38;5;124m\"\u001b[39m,\n\u001b[0;32m    432\u001b[0m     dtype\u001b[38;5;241m=\u001b[39mdtype,\n\u001b[0;32m    433\u001b[0m     copy\u001b[38;5;241m=\u001b[39mcopy,\n\u001b[0;32m    434\u001b[0m     errors\u001b[38;5;241m=\u001b[39merrors,\n\u001b[0;32m    435\u001b[0m     using_cow\u001b[38;5;241m=\u001b[39musing_copy_on_write(),\n\u001b[0;32m    436\u001b[0m )\n",
      "File \u001b[1;32m~\\anaconda3\\Lib\\site-packages\\pandas\\core\\internals\\managers.py:363\u001b[0m, in \u001b[0;36mBaseBlockManager.apply\u001b[1;34m(self, f, align_keys, **kwargs)\u001b[0m\n\u001b[0;32m    361\u001b[0m         applied \u001b[38;5;241m=\u001b[39m b\u001b[38;5;241m.\u001b[39mapply(f, \u001b[38;5;241m*\u001b[39m\u001b[38;5;241m*\u001b[39mkwargs)\n\u001b[0;32m    362\u001b[0m     \u001b[38;5;28;01melse\u001b[39;00m:\n\u001b[1;32m--> 363\u001b[0m         applied \u001b[38;5;241m=\u001b[39m \u001b[38;5;28mgetattr\u001b[39m(b, f)(\u001b[38;5;241m*\u001b[39m\u001b[38;5;241m*\u001b[39mkwargs)\n\u001b[0;32m    364\u001b[0m     result_blocks \u001b[38;5;241m=\u001b[39m extend_blocks(applied, result_blocks)\n\u001b[0;32m    366\u001b[0m out \u001b[38;5;241m=\u001b[39m \u001b[38;5;28mtype\u001b[39m(\u001b[38;5;28mself\u001b[39m)\u001b[38;5;241m.\u001b[39mfrom_blocks(result_blocks, \u001b[38;5;28mself\u001b[39m\u001b[38;5;241m.\u001b[39maxes)\n",
      "File \u001b[1;32m~\\anaconda3\\Lib\\site-packages\\pandas\\core\\internals\\blocks.py:758\u001b[0m, in \u001b[0;36mBlock.astype\u001b[1;34m(self, dtype, copy, errors, using_cow, squeeze)\u001b[0m\n\u001b[0;32m    755\u001b[0m         \u001b[38;5;28;01mraise\u001b[39;00m \u001b[38;5;167;01mValueError\u001b[39;00m(\u001b[38;5;124m\"\u001b[39m\u001b[38;5;124mCan not squeeze with more than one column.\u001b[39m\u001b[38;5;124m\"\u001b[39m)\n\u001b[0;32m    756\u001b[0m     values \u001b[38;5;241m=\u001b[39m values[\u001b[38;5;241m0\u001b[39m, :]  \u001b[38;5;66;03m# type: ignore[call-overload]\u001b[39;00m\n\u001b[1;32m--> 758\u001b[0m new_values \u001b[38;5;241m=\u001b[39m astype_array_safe(values, dtype, copy\u001b[38;5;241m=\u001b[39mcopy, errors\u001b[38;5;241m=\u001b[39merrors)\n\u001b[0;32m    760\u001b[0m new_values \u001b[38;5;241m=\u001b[39m maybe_coerce_values(new_values)\n\u001b[0;32m    762\u001b[0m refs \u001b[38;5;241m=\u001b[39m \u001b[38;5;28;01mNone\u001b[39;00m\n",
      "File \u001b[1;32m~\\anaconda3\\Lib\\site-packages\\pandas\\core\\dtypes\\astype.py:237\u001b[0m, in \u001b[0;36mastype_array_safe\u001b[1;34m(values, dtype, copy, errors)\u001b[0m\n\u001b[0;32m    234\u001b[0m     dtype \u001b[38;5;241m=\u001b[39m dtype\u001b[38;5;241m.\u001b[39mnumpy_dtype\n\u001b[0;32m    236\u001b[0m \u001b[38;5;28;01mtry\u001b[39;00m:\n\u001b[1;32m--> 237\u001b[0m     new_values \u001b[38;5;241m=\u001b[39m astype_array(values, dtype, copy\u001b[38;5;241m=\u001b[39mcopy)\n\u001b[0;32m    238\u001b[0m \u001b[38;5;28;01mexcept\u001b[39;00m (\u001b[38;5;167;01mValueError\u001b[39;00m, \u001b[38;5;167;01mTypeError\u001b[39;00m):\n\u001b[0;32m    239\u001b[0m     \u001b[38;5;66;03m# e.g. _astype_nansafe can fail on object-dtype of strings\u001b[39;00m\n\u001b[0;32m    240\u001b[0m     \u001b[38;5;66;03m#  trying to convert to float\u001b[39;00m\n\u001b[0;32m    241\u001b[0m     \u001b[38;5;28;01mif\u001b[39;00m errors \u001b[38;5;241m==\u001b[39m \u001b[38;5;124m\"\u001b[39m\u001b[38;5;124mignore\u001b[39m\u001b[38;5;124m\"\u001b[39m:\n",
      "File \u001b[1;32m~\\anaconda3\\Lib\\site-packages\\pandas\\core\\dtypes\\astype.py:182\u001b[0m, in \u001b[0;36mastype_array\u001b[1;34m(values, dtype, copy)\u001b[0m\n\u001b[0;32m    179\u001b[0m     values \u001b[38;5;241m=\u001b[39m values\u001b[38;5;241m.\u001b[39mastype(dtype, copy\u001b[38;5;241m=\u001b[39mcopy)\n\u001b[0;32m    181\u001b[0m \u001b[38;5;28;01melse\u001b[39;00m:\n\u001b[1;32m--> 182\u001b[0m     values \u001b[38;5;241m=\u001b[39m _astype_nansafe(values, dtype, copy\u001b[38;5;241m=\u001b[39mcopy)\n\u001b[0;32m    184\u001b[0m \u001b[38;5;66;03m# in pandas we don't store numpy str dtypes, so convert to object\u001b[39;00m\n\u001b[0;32m    185\u001b[0m \u001b[38;5;28;01mif\u001b[39;00m \u001b[38;5;28misinstance\u001b[39m(dtype, np\u001b[38;5;241m.\u001b[39mdtype) \u001b[38;5;129;01mand\u001b[39;00m \u001b[38;5;28missubclass\u001b[39m(values\u001b[38;5;241m.\u001b[39mdtype\u001b[38;5;241m.\u001b[39mtype, \u001b[38;5;28mstr\u001b[39m):\n",
      "File \u001b[1;32m~\\anaconda3\\Lib\\site-packages\\pandas\\core\\dtypes\\astype.py:133\u001b[0m, in \u001b[0;36m_astype_nansafe\u001b[1;34m(arr, dtype, copy, skipna)\u001b[0m\n\u001b[0;32m    129\u001b[0m     \u001b[38;5;28;01mraise\u001b[39;00m \u001b[38;5;167;01mValueError\u001b[39;00m(msg)\n\u001b[0;32m    131\u001b[0m \u001b[38;5;28;01mif\u001b[39;00m copy \u001b[38;5;129;01mor\u001b[39;00m arr\u001b[38;5;241m.\u001b[39mdtype \u001b[38;5;241m==\u001b[39m \u001b[38;5;28mobject\u001b[39m \u001b[38;5;129;01mor\u001b[39;00m dtype \u001b[38;5;241m==\u001b[39m \u001b[38;5;28mobject\u001b[39m:\n\u001b[0;32m    132\u001b[0m     \u001b[38;5;66;03m# Explicit copy, or required since NumPy can't view from / to object.\u001b[39;00m\n\u001b[1;32m--> 133\u001b[0m     \u001b[38;5;28;01mreturn\u001b[39;00m arr\u001b[38;5;241m.\u001b[39mastype(dtype, copy\u001b[38;5;241m=\u001b[39m\u001b[38;5;28;01mTrue\u001b[39;00m)\n\u001b[0;32m    135\u001b[0m \u001b[38;5;28;01mreturn\u001b[39;00m arr\u001b[38;5;241m.\u001b[39mastype(dtype, copy\u001b[38;5;241m=\u001b[39mcopy)\n",
      "\u001b[1;31mValueError\u001b[0m: could not convert string to float: '1.137.99'"
     ]
    }
   ],
   "source": [
    "# Second solution\n",
    "\n",
    "orderlines['unit_price'] = orderlines['unit_price'].astype(float)"
   ]
  },
  {
   "cell_type": "markdown",
   "id": "282a9f53-10ac-49bc-a7d0-9d5b7a19e5a8",
   "metadata": {},
   "source": [
    "As you can see we have issue with **string values** (Notice to ValueError)\n",
    "\n",
    "` ValueError: could not convert string to float: '1.137.99' `"
   ]
  },
  {
   "cell_type": "markdown",
   "id": "4007117d-9d66-4aff-bb0d-a4d346218763",
   "metadata": {},
   "source": [
    "So, as you can see there are two dott (.) in one value ('1.137.99') \n",
    "\n",
    "Most important question is how can we manage it?\n",
    "How many coruppted valuse like this are there?\n",
    "\n",
    "Nice challange!! let's check it :-)"
   ]
  },
  {
   "cell_type": "markdown",
   "id": "ed32e627-1fff-4db3-8e33-73be5561780b",
   "metadata": {},
   "source": [
    "For this perpose I want to use **match pattern**"
   ]
  },
  {
   "cell_type": "code",
   "execution_count": 18,
   "id": "b666f66b-ff48-4f40-ac59-df91559fd54d",
   "metadata": {},
   "outputs": [],
   "source": [
    "pattern = r'\\d+\\.\\d+\\.\\d+'\n",
    "corrupted = orderlines['unit_price'].str.match(pattern)"
   ]
  },
  {
   "cell_type": "code",
   "execution_count": 20,
   "id": "302e6e90-6e47-4cd4-bbf7-822cecd4b327",
   "metadata": {},
   "outputs": [
    {
     "data": {
      "text/plain": [
       "unit_price\n",
       "False    257814\n",
       "True      36169\n",
       "Name: count, dtype: int64"
      ]
     },
     "execution_count": 20,
     "metadata": {},
     "output_type": "execute_result"
    }
   ],
   "source": [
    "corrupted.value_counts()"
   ]
  },
  {
   "cell_type": "code",
   "execution_count": 22,
   "id": "2ceab7d5-a032-43eb-96ad-d67ac5916967",
   "metadata": {},
   "outputs": [
    {
     "name": "stdout",
     "output_type": "stream",
     "text": [
      " 14.03% of values in unit_price coulumn are corrupted\n"
     ]
    }
   ],
   "source": [
    "print(f\" {round((36169 * 100 /257814), 2)}% of values in unit_price coulumn are corrupted\")"
   ]
  },
  {
   "cell_type": "markdown",
   "id": "94171165-f33d-47e2-ba4f-9d1326cd5103",
   "metadata": {},
   "source": [
    "*Let's look at corrupted data carefully*"
   ]
  },
  {
   "cell_type": "code",
   "execution_count": 24,
   "id": "2c27457f-d903-4803-b9e5-ae62d835115e",
   "metadata": {},
   "outputs": [
    {
     "data": {
      "text/html": [
       "<div>\n",
       "<style scoped>\n",
       "    .dataframe tbody tr th:only-of-type {\n",
       "        vertical-align: middle;\n",
       "    }\n",
       "\n",
       "    .dataframe tbody tr th {\n",
       "        vertical-align: top;\n",
       "    }\n",
       "\n",
       "    .dataframe thead th {\n",
       "        text-align: right;\n",
       "    }\n",
       "</style>\n",
       "<table border=\"1\" class=\"dataframe\">\n",
       "  <thead>\n",
       "    <tr style=\"text-align: right;\">\n",
       "      <th></th>\n",
       "      <th>id</th>\n",
       "      <th>id_order</th>\n",
       "      <th>product_id</th>\n",
       "      <th>product_quantity</th>\n",
       "      <th>sku</th>\n",
       "      <th>unit_price</th>\n",
       "      <th>date</th>\n",
       "    </tr>\n",
       "  </thead>\n",
       "  <tbody>\n",
       "    <tr>\n",
       "      <th>6</th>\n",
       "      <td>1119115</td>\n",
       "      <td>299544</td>\n",
       "      <td>0</td>\n",
       "      <td>1</td>\n",
       "      <td>APP1582</td>\n",
       "      <td>1.137.99</td>\n",
       "      <td>2017-01-01 01:17:21</td>\n",
       "    </tr>\n",
       "    <tr>\n",
       "      <th>11</th>\n",
       "      <td>1119126</td>\n",
       "      <td>299549</td>\n",
       "      <td>0</td>\n",
       "      <td>1</td>\n",
       "      <td>PAC0929</td>\n",
       "      <td>2.565.99</td>\n",
       "      <td>2017-01-01 02:07:42</td>\n",
       "    </tr>\n",
       "    <tr>\n",
       "      <th>15</th>\n",
       "      <td>1119131</td>\n",
       "      <td>299553</td>\n",
       "      <td>0</td>\n",
       "      <td>1</td>\n",
       "      <td>APP1854</td>\n",
       "      <td>3.278.99</td>\n",
       "      <td>2017-01-01 02:14:47</td>\n",
       "    </tr>\n",
       "    <tr>\n",
       "      <th>43</th>\n",
       "      <td>1119195</td>\n",
       "      <td>299582</td>\n",
       "      <td>0</td>\n",
       "      <td>1</td>\n",
       "      <td>PAC0961</td>\n",
       "      <td>2.616.99</td>\n",
       "      <td>2017-01-01 08:54:00</td>\n",
       "    </tr>\n",
       "    <tr>\n",
       "      <th>59</th>\n",
       "      <td>1119214</td>\n",
       "      <td>299596</td>\n",
       "      <td>0</td>\n",
       "      <td>1</td>\n",
       "      <td>PAC1599</td>\n",
       "      <td>2.873.99</td>\n",
       "      <td>2017-01-01 09:53:11</td>\n",
       "    </tr>\n",
       "  </tbody>\n",
       "</table>\n",
       "</div>"
      ],
      "text/plain": [
       "         id  id_order  product_id  product_quantity      sku unit_price  \\\n",
       "6   1119115    299544           0                 1  APP1582   1.137.99   \n",
       "11  1119126    299549           0                 1  PAC0929   2.565.99   \n",
       "15  1119131    299553           0                 1  APP1854   3.278.99   \n",
       "43  1119195    299582           0                 1  PAC0961   2.616.99   \n",
       "59  1119214    299596           0                 1  PAC1599   2.873.99   \n",
       "\n",
       "                  date  \n",
       "6  2017-01-01 01:17:21  \n",
       "11 2017-01-01 02:07:42  \n",
       "15 2017-01-01 02:14:47  \n",
       "43 2017-01-01 08:54:00  \n",
       "59 2017-01-01 09:53:11  "
      ]
     },
     "execution_count": 24,
     "metadata": {},
     "output_type": "execute_result"
    }
   ],
   "source": [
    "orderlines.loc[corrupted , :].head()"
   ]
  },
  {
   "cell_type": "markdown",
   "id": "22db6327-5e34-4ab1-8ddf-50914dfc59b9",
   "metadata": {},
   "source": [
    "*I want to merge the orderlines table with the products table. My goal is to identify which products have these types of prices. If I can find a logical pattern in this data, I will consider keeping the corrupted entries with some adjustments.*"
   ]
  },
  {
   "cell_type": "code",
   "execution_count": 26,
   "id": "7b1e6ae8-cc34-4e37-8260-1b3cc2eaa56d",
   "metadata": {},
   "outputs": [],
   "source": [
    "corr_check = orderlines.merge(products,\n",
    "                              on = 'sku',\n",
    "                              how = 'inner')"
   ]
  },
  {
   "cell_type": "code",
   "execution_count": 28,
   "id": "20a40e4e-2f2d-4ebc-908a-8331d19f4577",
   "metadata": {},
   "outputs": [],
   "source": [
    "corr = corr_check['unit_price'].str.match(pattern)"
   ]
  },
  {
   "cell_type": "code",
   "execution_count": 30,
   "id": "8aef0b61-f207-4108-a5e8-cf30ed80a327",
   "metadata": {},
   "outputs": [
    {
     "data": {
      "text/html": [
       "<div>\n",
       "<style scoped>\n",
       "    .dataframe tbody tr th:only-of-type {\n",
       "        vertical-align: middle;\n",
       "    }\n",
       "\n",
       "    .dataframe tbody tr th {\n",
       "        vertical-align: top;\n",
       "    }\n",
       "\n",
       "    .dataframe thead th {\n",
       "        text-align: right;\n",
       "    }\n",
       "</style>\n",
       "<table border=\"1\" class=\"dataframe\">\n",
       "  <thead>\n",
       "    <tr style=\"text-align: right;\">\n",
       "      <th></th>\n",
       "      <th>id</th>\n",
       "      <th>id_order</th>\n",
       "      <th>product_id</th>\n",
       "      <th>product_quantity</th>\n",
       "      <th>sku</th>\n",
       "      <th>unit_price</th>\n",
       "      <th>date</th>\n",
       "      <th>name</th>\n",
       "      <th>desc</th>\n",
       "      <th>price</th>\n",
       "      <th>promo_price</th>\n",
       "      <th>in_stock</th>\n",
       "      <th>type</th>\n",
       "    </tr>\n",
       "  </thead>\n",
       "  <tbody>\n",
       "    <tr>\n",
       "      <th>111346</th>\n",
       "      <td>1247045</td>\n",
       "      <td>355429</td>\n",
       "      <td>0</td>\n",
       "      <td>1</td>\n",
       "      <td>APP1814</td>\n",
       "      <td>2.029.99</td>\n",
       "      <td>2017-05-13 10:06:08</td>\n",
       "      <td>Apple MacBook Pro 13 \"with Touch Bar GHz Core ...</td>\n",
       "      <td>New MacBook Pro 13-inch Core i5 Touch Bar to 2...</td>\n",
       "      <td>2199</td>\n",
       "      <td>20.365.849</td>\n",
       "      <td>0</td>\n",
       "      <td>2158</td>\n",
       "    </tr>\n",
       "    <tr>\n",
       "      <th>118135</th>\n",
       "      <td>1254719</td>\n",
       "      <td>359037</td>\n",
       "      <td>0</td>\n",
       "      <td>1</td>\n",
       "      <td>PAC1593</td>\n",
       "      <td>2.673.99</td>\n",
       "      <td>2017-05-25 12:27:59</td>\n",
       "      <td>Apple iMac 27 \"Core i5 3.2GHz Retina 5K | 16GB...</td>\n",
       "      <td>Desktop computer iMac 27-inch 3.2GHz Core i5 5...</td>\n",
       "      <td>3409</td>\n",
       "      <td>26.739.899</td>\n",
       "      <td>0</td>\n",
       "      <td>5,74E+15</td>\n",
       "    </tr>\n",
       "    <tr>\n",
       "      <th>237477</th>\n",
       "      <td>1455806</td>\n",
       "      <td>447227</td>\n",
       "      <td>0</td>\n",
       "      <td>1</td>\n",
       "      <td>APP1008</td>\n",
       "      <td>2.348.59</td>\n",
       "      <td>2017-11-27 09:36:07</td>\n",
       "      <td>Apple MacBook Pro Retina 15 \"i7 28 Ghz | RAM 1...</td>\n",
       "      <td>New MacBook Pro 15-inch Retina screen Core i7 ...</td>\n",
       "      <td>2569</td>\n",
       "      <td>23.890.046</td>\n",
       "      <td>0</td>\n",
       "      <td>1282</td>\n",
       "    </tr>\n",
       "    <tr>\n",
       "      <th>184251</th>\n",
       "      <td>1367943</td>\n",
       "      <td>407586</td>\n",
       "      <td>0</td>\n",
       "      <td>1</td>\n",
       "      <td>APP2082</td>\n",
       "      <td>1.885.59</td>\n",
       "      <td>2017-10-02 20:08:28</td>\n",
       "      <td>Apple MacBook Pro 13 \"Core i5 with Touch Bar 3...</td>\n",
       "      <td>New MacBook Pro 13 inch Touch Bar 31 GHz Core ...</td>\n",
       "      <td>2005.59</td>\n",
       "      <td>18.850.046</td>\n",
       "      <td>0</td>\n",
       "      <td>1,02E+12</td>\n",
       "    </tr>\n",
       "    <tr>\n",
       "      <th>63892</th>\n",
       "      <td>1198629</td>\n",
       "      <td>331980</td>\n",
       "      <td>0</td>\n",
       "      <td>1</td>\n",
       "      <td>APP1879</td>\n",
       "      <td>2.937.32</td>\n",
       "      <td>2017-03-06 00:08:00</td>\n",
       "      <td>Apple MacBook Pro 15 \"Core i7 Touch Bar 26GHz ...</td>\n",
       "      <td>New MacBook Pro 15-inch Touch Bar to 26GHz Cor...</td>\n",
       "      <td>3179</td>\n",
       "      <td>2.875.594</td>\n",
       "      <td>0</td>\n",
       "      <td>2158</td>\n",
       "    </tr>\n",
       "    <tr>\n",
       "      <th>91853</th>\n",
       "      <td>1226280</td>\n",
       "      <td>345223</td>\n",
       "      <td>0</td>\n",
       "      <td>1</td>\n",
       "      <td>APP1199</td>\n",
       "      <td>2.189.99</td>\n",
       "      <td>2017-04-11 10:36:35</td>\n",
       "      <td>Apple iMac 27 \"Core i5 3.2GHz Retina 5K | 8GB ...</td>\n",
       "      <td>IMac desktop computer 27 inch 5K Retina 8GB RA...</td>\n",
       "      <td>2329</td>\n",
       "      <td>2.189.005</td>\n",
       "      <td>0</td>\n",
       "      <td>5,74E+15</td>\n",
       "    </tr>\n",
       "    <tr>\n",
       "      <th>123325</th>\n",
       "      <td>1260407</td>\n",
       "      <td>361695</td>\n",
       "      <td>0</td>\n",
       "      <td>1</td>\n",
       "      <td>PAC0960</td>\n",
       "      <td>2.308.99</td>\n",
       "      <td>2017-06-02 14:21:15</td>\n",
       "      <td>Apple iMac 27 \"Core i5 3.2GHz Retina 5K | 16GB...</td>\n",
       "      <td>IMac desktop computer 27 inch 5K Retina i5 3.2...</td>\n",
       "      <td>2569</td>\n",
       "      <td>24.150.045</td>\n",
       "      <td>0</td>\n",
       "      <td>5,74E+15</td>\n",
       "    </tr>\n",
       "    <tr>\n",
       "      <th>4955</th>\n",
       "      <td>1124471</td>\n",
       "      <td>301934</td>\n",
       "      <td>0</td>\n",
       "      <td>1</td>\n",
       "      <td>PAC1622</td>\n",
       "      <td>3.433.99</td>\n",
       "      <td>2017-01-03 20:23:03</td>\n",
       "      <td>Apple iMac 27 \"Core i5 3.3GHz Retina 5K | 8GB ...</td>\n",
       "      <td>Desktop computer iMac 27-inch 3.3GHz Core i5 5...</td>\n",
       "      <td>4369</td>\n",
       "      <td>34.999.903</td>\n",
       "      <td>0</td>\n",
       "      <td>5,74E+15</td>\n",
       "    </tr>\n",
       "    <tr>\n",
       "      <th>5873</th>\n",
       "      <td>1124493</td>\n",
       "      <td>301934</td>\n",
       "      <td>0</td>\n",
       "      <td>1</td>\n",
       "      <td>PAC1612</td>\n",
       "      <td>3.390.99</td>\n",
       "      <td>2017-01-03 20:24:11</td>\n",
       "      <td>Apple iMac 27 \"Core i5 3.3GHz Retina 5K | 32GB...</td>\n",
       "      <td>Desktop computer iMac 27-inch 3.3GHz Core i5 5...</td>\n",
       "      <td>4789</td>\n",
       "      <td>34.399.901</td>\n",
       "      <td>0</td>\n",
       "      <td>5,74E+15</td>\n",
       "    </tr>\n",
       "    <tr>\n",
       "      <th>68832</th>\n",
       "      <td>1204234</td>\n",
       "      <td>334807</td>\n",
       "      <td>0</td>\n",
       "      <td>1</td>\n",
       "      <td>PAC1055</td>\n",
       "      <td>3.435.99</td>\n",
       "      <td>2017-03-13 21:00:41</td>\n",
       "      <td>Apple iMac 27 \"Core i7 Retina 5K 4GHz | 32GB |...</td>\n",
       "      <td>IMac desktop computer 27 inch 5K Retina 4GHz i...</td>\n",
       "      <td>3949</td>\n",
       "      <td>33.669.896</td>\n",
       "      <td>0</td>\n",
       "      <td>5,74E+15</td>\n",
       "    </tr>\n",
       "  </tbody>\n",
       "</table>\n",
       "</div>"
      ],
      "text/plain": [
       "             id  id_order  product_id  product_quantity      sku unit_price  \\\n",
       "111346  1247045    355429           0                 1  APP1814   2.029.99   \n",
       "118135  1254719    359037           0                 1  PAC1593   2.673.99   \n",
       "237477  1455806    447227           0                 1  APP1008   2.348.59   \n",
       "184251  1367943    407586           0                 1  APP2082   1.885.59   \n",
       "63892   1198629    331980           0                 1  APP1879   2.937.32   \n",
       "91853   1226280    345223           0                 1  APP1199   2.189.99   \n",
       "123325  1260407    361695           0                 1  PAC0960   2.308.99   \n",
       "4955    1124471    301934           0                 1  PAC1622   3.433.99   \n",
       "5873    1124493    301934           0                 1  PAC1612   3.390.99   \n",
       "68832   1204234    334807           0                 1  PAC1055   3.435.99   \n",
       "\n",
       "                      date                                               name  \\\n",
       "111346 2017-05-13 10:06:08  Apple MacBook Pro 13 \"with Touch Bar GHz Core ...   \n",
       "118135 2017-05-25 12:27:59  Apple iMac 27 \"Core i5 3.2GHz Retina 5K | 16GB...   \n",
       "237477 2017-11-27 09:36:07  Apple MacBook Pro Retina 15 \"i7 28 Ghz | RAM 1...   \n",
       "184251 2017-10-02 20:08:28  Apple MacBook Pro 13 \"Core i5 with Touch Bar 3...   \n",
       "63892  2017-03-06 00:08:00  Apple MacBook Pro 15 \"Core i7 Touch Bar 26GHz ...   \n",
       "91853  2017-04-11 10:36:35  Apple iMac 27 \"Core i5 3.2GHz Retina 5K | 8GB ...   \n",
       "123325 2017-06-02 14:21:15  Apple iMac 27 \"Core i5 3.2GHz Retina 5K | 16GB...   \n",
       "4955   2017-01-03 20:23:03  Apple iMac 27 \"Core i5 3.3GHz Retina 5K | 8GB ...   \n",
       "5873   2017-01-03 20:24:11  Apple iMac 27 \"Core i5 3.3GHz Retina 5K | 32GB...   \n",
       "68832  2017-03-13 21:00:41  Apple iMac 27 \"Core i7 Retina 5K 4GHz | 32GB |...   \n",
       "\n",
       "                                                     desc    price  \\\n",
       "111346  New MacBook Pro 13-inch Core i5 Touch Bar to 2...     2199   \n",
       "118135  Desktop computer iMac 27-inch 3.2GHz Core i5 5...     3409   \n",
       "237477  New MacBook Pro 15-inch Retina screen Core i7 ...     2569   \n",
       "184251  New MacBook Pro 13 inch Touch Bar 31 GHz Core ...  2005.59   \n",
       "63892   New MacBook Pro 15-inch Touch Bar to 26GHz Cor...     3179   \n",
       "91853   IMac desktop computer 27 inch 5K Retina 8GB RA...     2329   \n",
       "123325  IMac desktop computer 27 inch 5K Retina i5 3.2...     2569   \n",
       "4955    Desktop computer iMac 27-inch 3.3GHz Core i5 5...     4369   \n",
       "5873    Desktop computer iMac 27-inch 3.3GHz Core i5 5...     4789   \n",
       "68832   IMac desktop computer 27 inch 5K Retina 4GHz i...     3949   \n",
       "\n",
       "       promo_price  in_stock      type  \n",
       "111346  20.365.849         0      2158  \n",
       "118135  26.739.899         0  5,74E+15  \n",
       "237477  23.890.046         0      1282  \n",
       "184251  18.850.046         0  1,02E+12  \n",
       "63892    2.875.594         0      2158  \n",
       "91853    2.189.005         0  5,74E+15  \n",
       "123325  24.150.045         0  5,74E+15  \n",
       "4955    34.999.903         0  5,74E+15  \n",
       "5873    34.399.901         0  5,74E+15  \n",
       "68832   33.669.896         0  5,74E+15  "
      ]
     },
     "execution_count": 30,
     "metadata": {},
     "output_type": "execute_result"
    }
   ],
   "source": [
    "corr_check.loc[corr , :].sample(10)"
   ]
  },
  {
   "cell_type": "markdown",
   "id": "c45996b4-24be-4402-96f7-22df5f63e95d",
   "metadata": {},
   "source": [
    "*As you can see, all the samples are related to expensive Apple products. If I simply remove the first dot from the prices, they would make sense. However, let’s not rush to modify the data just yet. Instead, I want to apply another filter that includes \"Apple\" and check for non-Apple products.*"
   ]
  },
  {
   "cell_type": "code",
   "execution_count": 32,
   "id": "371e8fc3-cb92-4683-bcff-39541b0d0bb9",
   "metadata": {},
   "outputs": [],
   "source": [
    "pattern = r'.*Apple.* | .*apple.*'\n",
    "\n",
    "apple_filter = corr_check['name'].str.contains(pattern)"
   ]
  },
  {
   "cell_type": "markdown",
   "id": "18a25616-05a0-44af-8540-a254d813a419",
   "metadata": {},
   "source": [
    "Regex Pattern:\n",
    "\n",
    ".* Apple. *  : Matches any string containing \"Apple\" (any characters before and after).\n",
    "\n",
    "|          : Logical OR operator in regex.\n",
    "\n",
    ".* apple. *  : Matches any string containing \"apple\" (case-sensitive in this form).\n",
    "\n",
    "^ and $    : Ensure the pattern matches the entire string (optional here but good practice)."
   ]
  },
  {
   "cell_type": "code",
   "execution_count": 34,
   "id": "932253ba-3b89-484e-832a-c95fb09b6b5b",
   "metadata": {},
   "outputs": [
    {
     "data": {
      "text/html": [
       "<div>\n",
       "<style scoped>\n",
       "    .dataframe tbody tr th:only-of-type {\n",
       "        vertical-align: middle;\n",
       "    }\n",
       "\n",
       "    .dataframe tbody tr th {\n",
       "        vertical-align: top;\n",
       "    }\n",
       "\n",
       "    .dataframe thead th {\n",
       "        text-align: right;\n",
       "    }\n",
       "</style>\n",
       "<table border=\"1\" class=\"dataframe\">\n",
       "  <thead>\n",
       "    <tr style=\"text-align: right;\">\n",
       "      <th></th>\n",
       "      <th>id</th>\n",
       "      <th>id_order</th>\n",
       "      <th>product_id</th>\n",
       "      <th>product_quantity</th>\n",
       "      <th>sku</th>\n",
       "      <th>unit_price</th>\n",
       "      <th>date</th>\n",
       "      <th>name</th>\n",
       "      <th>desc</th>\n",
       "      <th>price</th>\n",
       "      <th>promo_price</th>\n",
       "      <th>in_stock</th>\n",
       "      <th>type</th>\n",
       "    </tr>\n",
       "  </thead>\n",
       "  <tbody>\n",
       "    <tr>\n",
       "      <th>184337</th>\n",
       "      <td>1368075</td>\n",
       "      <td>407182</td>\n",
       "      <td>0</td>\n",
       "      <td>1</td>\n",
       "      <td>QNA0142</td>\n",
       "      <td>1.090.59</td>\n",
       "      <td>2017-10-02 22:39:30</td>\n",
       "      <td>QNAP TS-453U-RP</td>\n",
       "      <td>4-bay NAS Server for Mac and PC.</td>\n",
       "      <td>1148.29</td>\n",
       "      <td>11.479.899</td>\n",
       "      <td>0</td>\n",
       "      <td>12175397</td>\n",
       "    </tr>\n",
       "    <tr>\n",
       "      <th>278703</th>\n",
       "      <td>1509239</td>\n",
       "      <td>468710</td>\n",
       "      <td>0</td>\n",
       "      <td>1</td>\n",
       "      <td>PAC2264</td>\n",
       "      <td>1.383.37</td>\n",
       "      <td>2017-12-21 11:26:51</td>\n",
       "      <td>Synology DS918 + NAS Server | 4GB | 24TB (4x6T...</td>\n",
       "      <td>NAS server of the Plus Series for companies se...</td>\n",
       "      <td>1609.99</td>\n",
       "      <td>13.383.677</td>\n",
       "      <td>0</td>\n",
       "      <td>12175397</td>\n",
       "    </tr>\n",
       "    <tr>\n",
       "      <th>124087</th>\n",
       "      <td>1260943</td>\n",
       "      <td>361985</td>\n",
       "      <td>0</td>\n",
       "      <td>1</td>\n",
       "      <td>QNA0170</td>\n",
       "      <td>2.054.99</td>\n",
       "      <td>2017-06-03 17:16:44</td>\n",
       "      <td>QNAP NAS server TVS-682T i3 8GB RAM Thunderbol...</td>\n",
       "      <td>NAS 6 bays 2 2 3 HDMI ports Thunderbolt DDR4 8...</td>\n",
       "      <td>2297.79</td>\n",
       "      <td>22.969.902</td>\n",
       "      <td>0</td>\n",
       "      <td>12175397</td>\n",
       "    </tr>\n",
       "    <tr>\n",
       "      <th>116274</th>\n",
       "      <td>1252399</td>\n",
       "      <td>350846</td>\n",
       "      <td>0</td>\n",
       "      <td>1</td>\n",
       "      <td>PAC1417</td>\n",
       "      <td>1.027.99</td>\n",
       "      <td>2017-05-22 13:59:42</td>\n",
       "      <td>Synology DS716 + II Pack | 8GB RAM | WD 12TB N...</td>\n",
       "      <td>Synology DS716 + II with 8GB of RAM memory + 1...</td>\n",
       "      <td>1061.89</td>\n",
       "      <td>9.791.792</td>\n",
       "      <td>0</td>\n",
       "      <td>12175397</td>\n",
       "    </tr>\n",
       "    <tr>\n",
       "      <th>144454</th>\n",
       "      <td>1290919</td>\n",
       "      <td>376512</td>\n",
       "      <td>0</td>\n",
       "      <td>1</td>\n",
       "      <td>WAC0030</td>\n",
       "      <td>1.799.99</td>\n",
       "      <td>2017-07-12 17:05:19</td>\n",
       "      <td>Wacom Cintiq 22HD Interactive Pen Display Mac ...</td>\n",
       "      <td>LCD graphic display with 215-inch Full HD and ...</td>\n",
       "      <td>1799</td>\n",
       "      <td>15.120.039</td>\n",
       "      <td>0</td>\n",
       "      <td>1405</td>\n",
       "    </tr>\n",
       "    <tr>\n",
       "      <th>127857</th>\n",
       "      <td>1265430</td>\n",
       "      <td>364301</td>\n",
       "      <td>0</td>\n",
       "      <td>1</td>\n",
       "      <td>LGE0041-A</td>\n",
       "      <td>1.185.31</td>\n",
       "      <td>2017-06-10 20:26:55</td>\n",
       "      <td>Open - LG 38UC99-W Monitor 38 \"UHD 4K USB 3.0 ...</td>\n",
       "      <td>Monitor curved 38 inch IPS 4K ultra high defin...</td>\n",
       "      <td>1299</td>\n",
       "      <td>1120.99</td>\n",
       "      <td>0</td>\n",
       "      <td>1298</td>\n",
       "    </tr>\n",
       "    <tr>\n",
       "      <th>44805</th>\n",
       "      <td>1176864</td>\n",
       "      <td>322482</td>\n",
       "      <td>0</td>\n",
       "      <td>1</td>\n",
       "      <td>LGE0047</td>\n",
       "      <td>1.259.99</td>\n",
       "      <td>2017-02-11 00:51:52</td>\n",
       "      <td>LG 38UC99-W Monitor 38 \"UHD 4K USB 3.0 USB-C</td>\n",
       "      <td>Monitor curved 38 inch IPS 4K ultra high defin...</td>\n",
       "      <td>1299</td>\n",
       "      <td>998.999</td>\n",
       "      <td>1</td>\n",
       "      <td>1296</td>\n",
       "    </tr>\n",
       "    <tr>\n",
       "      <th>179038</th>\n",
       "      <td>1359482</td>\n",
       "      <td>403486</td>\n",
       "      <td>0</td>\n",
       "      <td>1</td>\n",
       "      <td>SYN0164</td>\n",
       "      <td>5.389.00</td>\n",
       "      <td>2017-09-22 23:51:56</td>\n",
       "      <td>Synology RackStation RS4017xs + Nas Server</td>\n",
       "      <td>Nas Format rack 16 bays with Intel Xeon proces...</td>\n",
       "      <td>5389</td>\n",
       "      <td>5389</td>\n",
       "      <td>0</td>\n",
       "      <td>12175397</td>\n",
       "    </tr>\n",
       "    <tr>\n",
       "      <th>210164</th>\n",
       "      <td>1412992</td>\n",
       "      <td>428151</td>\n",
       "      <td>0</td>\n",
       "      <td>1</td>\n",
       "      <td>WAC0030</td>\n",
       "      <td>1.699.99</td>\n",
       "      <td>2017-11-18 11:24:32</td>\n",
       "      <td>Wacom Cintiq 22HD Interactive Pen Display Mac ...</td>\n",
       "      <td>LCD graphic display with 215-inch Full HD and ...</td>\n",
       "      <td>1799</td>\n",
       "      <td>15.120.039</td>\n",
       "      <td>0</td>\n",
       "      <td>1405</td>\n",
       "    </tr>\n",
       "    <tr>\n",
       "      <th>80448</th>\n",
       "      <td>1215659</td>\n",
       "      <td>340171</td>\n",
       "      <td>0</td>\n",
       "      <td>1</td>\n",
       "      <td>WAC0030</td>\n",
       "      <td>1.429.99</td>\n",
       "      <td>2017-03-28 19:52:07</td>\n",
       "      <td>Wacom Cintiq 22HD Interactive Pen Display Mac ...</td>\n",
       "      <td>LCD graphic display with 215-inch Full HD and ...</td>\n",
       "      <td>1799</td>\n",
       "      <td>15.120.039</td>\n",
       "      <td>0</td>\n",
       "      <td>1405</td>\n",
       "    </tr>\n",
       "  </tbody>\n",
       "</table>\n",
       "</div>"
      ],
      "text/plain": [
       "             id  id_order  product_id  product_quantity        sku unit_price  \\\n",
       "184337  1368075    407182           0                 1    QNA0142   1.090.59   \n",
       "278703  1509239    468710           0                 1    PAC2264   1.383.37   \n",
       "124087  1260943    361985           0                 1    QNA0170   2.054.99   \n",
       "116274  1252399    350846           0                 1    PAC1417   1.027.99   \n",
       "144454  1290919    376512           0                 1    WAC0030   1.799.99   \n",
       "127857  1265430    364301           0                 1  LGE0041-A   1.185.31   \n",
       "44805   1176864    322482           0                 1    LGE0047   1.259.99   \n",
       "179038  1359482    403486           0                 1    SYN0164   5.389.00   \n",
       "210164  1412992    428151           0                 1    WAC0030   1.699.99   \n",
       "80448   1215659    340171           0                 1    WAC0030   1.429.99   \n",
       "\n",
       "                      date                                               name  \\\n",
       "184337 2017-10-02 22:39:30                                    QNAP TS-453U-RP   \n",
       "278703 2017-12-21 11:26:51  Synology DS918 + NAS Server | 4GB | 24TB (4x6T...   \n",
       "124087 2017-06-03 17:16:44  QNAP NAS server TVS-682T i3 8GB RAM Thunderbol...   \n",
       "116274 2017-05-22 13:59:42  Synology DS716 + II Pack | 8GB RAM | WD 12TB N...   \n",
       "144454 2017-07-12 17:05:19  Wacom Cintiq 22HD Interactive Pen Display Mac ...   \n",
       "127857 2017-06-10 20:26:55  Open - LG 38UC99-W Monitor 38 \"UHD 4K USB 3.0 ...   \n",
       "44805  2017-02-11 00:51:52       LG 38UC99-W Monitor 38 \"UHD 4K USB 3.0 USB-C   \n",
       "179038 2017-09-22 23:51:56         Synology RackStation RS4017xs + Nas Server   \n",
       "210164 2017-11-18 11:24:32  Wacom Cintiq 22HD Interactive Pen Display Mac ...   \n",
       "80448  2017-03-28 19:52:07  Wacom Cintiq 22HD Interactive Pen Display Mac ...   \n",
       "\n",
       "                                                     desc    price  \\\n",
       "184337                   4-bay NAS Server for Mac and PC.  1148.29   \n",
       "278703  NAS server of the Plus Series for companies se...  1609.99   \n",
       "124087  NAS 6 bays 2 2 3 HDMI ports Thunderbolt DDR4 8...  2297.79   \n",
       "116274  Synology DS716 + II with 8GB of RAM memory + 1...  1061.89   \n",
       "144454  LCD graphic display with 215-inch Full HD and ...     1799   \n",
       "127857  Monitor curved 38 inch IPS 4K ultra high defin...     1299   \n",
       "44805   Monitor curved 38 inch IPS 4K ultra high defin...     1299   \n",
       "179038  Nas Format rack 16 bays with Intel Xeon proces...     5389   \n",
       "210164  LCD graphic display with 215-inch Full HD and ...     1799   \n",
       "80448   LCD graphic display with 215-inch Full HD and ...     1799   \n",
       "\n",
       "       promo_price  in_stock      type  \n",
       "184337  11.479.899         0  12175397  \n",
       "278703  13.383.677         0  12175397  \n",
       "124087  22.969.902         0  12175397  \n",
       "116274   9.791.792         0  12175397  \n",
       "144454  15.120.039         0      1405  \n",
       "127857     1120.99         0      1298  \n",
       "44805      998.999         1      1296  \n",
       "179038        5389         0  12175397  \n",
       "210164  15.120.039         0      1405  \n",
       "80448   15.120.039         0      1405  "
      ]
     },
     "execution_count": 34,
     "metadata": {},
     "output_type": "execute_result"
    }
   ],
   "source": [
    "corr_check.loc[ corr & ~(apple_filter) , :].sample(10)"
   ]
  },
  {
   "cell_type": "markdown",
   "id": "5a561a5c-e83d-4e40-ae74-bea5a8d8d236",
   "metadata": {},
   "source": [
    "The corrupted prices concentrated are in important product categories (for example high-value items like Apple products)\n",
    "So:\n",
    "\n",
    "*I decide to keep them* :)))))"
   ]
  },
  {
   "cell_type": "markdown",
   "id": "06369a7b-5805-44d7-9550-bc54ea75d6bd",
   "metadata": {},
   "source": [
    "for this purpose I want to use this method:\n",
    "\n",
    "**x.replace('.', '', n)**: Removes n occurrences of the dot from the left."
   ]
  },
  {
   "cell_type": "code",
   "execution_count": 36,
   "id": "967e13aa-2994-47fb-a54b-e7fb902a484f",
   "metadata": {},
   "outputs": [],
   "source": [
    "orderlines['unit_price'] = orderlines['unit_price'].apply(lambda x: x.replace('.', '', x.count('.') - 1))"
   ]
  },
  {
   "cell_type": "markdown",
   "id": "4dca6c73-691c-47e6-934b-862c3e1676e7",
   "metadata": {},
   "source": [
    "Explanation:\n",
    "\n",
    "\n",
    "    x.count('.') - 1: Counts the total dots and subtracts 1, so only the last dot is kept.\n",
    "    x.replace('.', '', n): Removes n occurrences of the dot from the left."
   ]
  },
  {
   "cell_type": "markdown",
   "id": "b861a41a-766b-47d5-832a-7311ea3cc3b6",
   "metadata": {},
   "source": [
    "Now, let's try again"
   ]
  },
  {
   "cell_type": "code",
   "execution_count": 38,
   "id": "ed81100e-df26-405d-9ed8-c042da4e9324",
   "metadata": {},
   "outputs": [],
   "source": [
    "orderlines['unit_price'] = orderlines['unit_price'].astype(float)"
   ]
  },
  {
   "cell_type": "code",
   "execution_count": 40,
   "id": "33f6ece9-c962-46fa-9cc5-0ee7577db6a1",
   "metadata": {},
   "outputs": [
    {
     "name": "stdout",
     "output_type": "stream",
     "text": [
      "<class 'pandas.core.frame.DataFrame'>\n",
      "RangeIndex: 293983 entries, 0 to 293982\n",
      "Data columns (total 7 columns):\n",
      " #   Column            Non-Null Count   Dtype         \n",
      "---  ------            --------------   -----         \n",
      " 0   id                293983 non-null  int64         \n",
      " 1   id_order          293983 non-null  int64         \n",
      " 2   product_id        293983 non-null  int64         \n",
      " 3   product_quantity  293983 non-null  int64         \n",
      " 4   sku               293983 non-null  object        \n",
      " 5   unit_price        293983 non-null  float64       \n",
      " 6   date              293983 non-null  datetime64[ns]\n",
      "dtypes: datetime64[ns](1), float64(1), int64(4), object(1)\n",
      "memory usage: 15.7+ MB\n"
     ]
    }
   ],
   "source": [
    "orderlines.info()"
   ]
  },
  {
   "cell_type": "markdown",
   "id": "c054fa2e-2388-4f61-a5bb-135236d437ec",
   "metadata": {},
   "source": [
    "*Congratulations to ourselves! It worked!!* :)))"
   ]
  },
  {
   "cell_type": "markdown",
   "id": "72009175-4b70-4652-9aea-53485291616d",
   "metadata": {},
   "source": [
    "Now, I want to check name of columns to make sure there is not any white space in their name"
   ]
  },
  {
   "cell_type": "code",
   "execution_count": 42,
   "id": "b25c58aa-8872-40fa-8097-d68718cee0c6",
   "metadata": {},
   "outputs": [
    {
     "data": {
      "text/plain": [
       "Index(['id', 'id_order', 'product_id', 'product_quantity', 'sku', 'unit_price',\n",
       "       'date'],\n",
       "      dtype='object')"
      ]
     },
     "execution_count": 42,
     "metadata": {},
     "output_type": "execute_result"
    }
   ],
   "source": [
    "orderlines.columns"
   ]
  },
  {
   "cell_type": "markdown",
   "id": "72047c90-f764-4a48-984c-567c90951470",
   "metadata": {},
   "source": [
    "As you can see there is not null values, but let's check duplicates"
   ]
  },
  {
   "cell_type": "code",
   "execution_count": 44,
   "id": "d9c97b6a-ba63-4bd5-ace8-94483cc2c2ed",
   "metadata": {},
   "outputs": [
    {
     "data": {
      "text/plain": [
       "0"
      ]
     },
     "execution_count": 44,
     "metadata": {},
     "output_type": "execute_result"
    }
   ],
   "source": [
    "# incorrect code (with count() ):\n",
    "# orderlines.duplicated().count()\n",
    "\n",
    "# correct code:\n",
    "orderlines.duplicated().sum()"
   ]
  },
  {
   "cell_type": "markdown",
   "id": "efe3f1a8-d347-4d51-8187-6f075edbbf23",
   "metadata": {},
   "source": [
    "Now, we can get sample from table to final control"
   ]
  },
  {
   "cell_type": "code",
   "execution_count": 46,
   "id": "ad74ef8f-d45f-4ca5-b1fb-b43ef31778f0",
   "metadata": {},
   "outputs": [
    {
     "data": {
      "text/html": [
       "<div>\n",
       "<style scoped>\n",
       "    .dataframe tbody tr th:only-of-type {\n",
       "        vertical-align: middle;\n",
       "    }\n",
       "\n",
       "    .dataframe tbody tr th {\n",
       "        vertical-align: top;\n",
       "    }\n",
       "\n",
       "    .dataframe thead th {\n",
       "        text-align: right;\n",
       "    }\n",
       "</style>\n",
       "<table border=\"1\" class=\"dataframe\">\n",
       "  <thead>\n",
       "    <tr style=\"text-align: right;\">\n",
       "      <th></th>\n",
       "      <th>id</th>\n",
       "      <th>id_order</th>\n",
       "      <th>product_id</th>\n",
       "      <th>product_quantity</th>\n",
       "      <th>sku</th>\n",
       "      <th>unit_price</th>\n",
       "      <th>date</th>\n",
       "    </tr>\n",
       "  </thead>\n",
       "  <tbody>\n",
       "    <tr>\n",
       "      <th>53394</th>\n",
       "      <td>1227355</td>\n",
       "      <td>345845</td>\n",
       "      <td>0</td>\n",
       "      <td>1</td>\n",
       "      <td>IFX0055</td>\n",
       "      <td>82.64</td>\n",
       "      <td>2017-04-12 23:42:21</td>\n",
       "    </tr>\n",
       "    <tr>\n",
       "      <th>74011</th>\n",
       "      <td>1263410</td>\n",
       "      <td>363261</td>\n",
       "      <td>0</td>\n",
       "      <td>1</td>\n",
       "      <td>OWC0195</td>\n",
       "      <td>474.99</td>\n",
       "      <td>2017-06-07 17:42:18</td>\n",
       "    </tr>\n",
       "    <tr>\n",
       "      <th>147453</th>\n",
       "      <td>1407711</td>\n",
       "      <td>426884</td>\n",
       "      <td>0</td>\n",
       "      <td>1</td>\n",
       "      <td>HOC0010</td>\n",
       "      <td>24.99</td>\n",
       "      <td>2017-11-14 19:07:29</td>\n",
       "    </tr>\n",
       "    <tr>\n",
       "      <th>217790</th>\n",
       "      <td>1525877</td>\n",
       "      <td>476688</td>\n",
       "      <td>0</td>\n",
       "      <td>1</td>\n",
       "      <td>GTE0140</td>\n",
       "      <td>57.99</td>\n",
       "      <td>2017-12-29 19:17:49</td>\n",
       "    </tr>\n",
       "    <tr>\n",
       "      <th>223897</th>\n",
       "      <td>1537754</td>\n",
       "      <td>482122</td>\n",
       "      <td>0</td>\n",
       "      <td>1</td>\n",
       "      <td>APP1216</td>\n",
       "      <td>130.00</td>\n",
       "      <td>2018-01-04 16:55:10</td>\n",
       "    </tr>\n",
       "    <tr>\n",
       "      <th>105886</th>\n",
       "      <td>1320521</td>\n",
       "      <td>390678</td>\n",
       "      <td>0</td>\n",
       "      <td>1</td>\n",
       "      <td>SPE0191</td>\n",
       "      <td>39.99</td>\n",
       "      <td>2017-08-19 12:17:04</td>\n",
       "    </tr>\n",
       "    <tr>\n",
       "      <th>141380</th>\n",
       "      <td>1396764</td>\n",
       "      <td>421570</td>\n",
       "      <td>0</td>\n",
       "      <td>1</td>\n",
       "      <td>CEL0044</td>\n",
       "      <td>8.09</td>\n",
       "      <td>2017-11-03 16:21:55</td>\n",
       "    </tr>\n",
       "    <tr>\n",
       "      <th>197184</th>\n",
       "      <td>1488998</td>\n",
       "      <td>459890</td>\n",
       "      <td>0</td>\n",
       "      <td>1</td>\n",
       "      <td>NTE0062</td>\n",
       "      <td>105.99</td>\n",
       "      <td>2017-12-11 14:31:32</td>\n",
       "    </tr>\n",
       "  </tbody>\n",
       "</table>\n",
       "</div>"
      ],
      "text/plain": [
       "             id  id_order  product_id  product_quantity      sku  unit_price  \\\n",
       "53394   1227355    345845           0                 1  IFX0055       82.64   \n",
       "74011   1263410    363261           0                 1  OWC0195      474.99   \n",
       "147453  1407711    426884           0                 1  HOC0010       24.99   \n",
       "217790  1525877    476688           0                 1  GTE0140       57.99   \n",
       "223897  1537754    482122           0                 1  APP1216      130.00   \n",
       "105886  1320521    390678           0                 1  SPE0191       39.99   \n",
       "141380  1396764    421570           0                 1  CEL0044        8.09   \n",
       "197184  1488998    459890           0                 1  NTE0062      105.99   \n",
       "\n",
       "                      date  \n",
       "53394  2017-04-12 23:42:21  \n",
       "74011  2017-06-07 17:42:18  \n",
       "147453 2017-11-14 19:07:29  \n",
       "217790 2017-12-29 19:17:49  \n",
       "223897 2018-01-04 16:55:10  \n",
       "105886 2017-08-19 12:17:04  \n",
       "141380 2017-11-03 16:21:55  \n",
       "197184 2017-12-11 14:31:32  "
      ]
     },
     "execution_count": 46,
     "metadata": {},
     "output_type": "execute_result"
    }
   ],
   "source": [
    "orderlines.sample(8)"
   ]
  },
  {
   "cell_type": "markdown",
   "id": "768d4859-0343-4b6f-8566-278714218abd",
   "metadata": {},
   "source": [
    "#### 2: Orders"
   ]
  },
  {
   "cell_type": "code",
   "execution_count": 48,
   "id": "ea5d93da-78bb-4bf3-9410-caf7f5aa058e",
   "metadata": {},
   "outputs": [
    {
     "data": {
      "text/html": [
       "<div>\n",
       "<style scoped>\n",
       "    .dataframe tbody tr th:only-of-type {\n",
       "        vertical-align: middle;\n",
       "    }\n",
       "\n",
       "    .dataframe tbody tr th {\n",
       "        vertical-align: top;\n",
       "    }\n",
       "\n",
       "    .dataframe thead th {\n",
       "        text-align: right;\n",
       "    }\n",
       "</style>\n",
       "<table border=\"1\" class=\"dataframe\">\n",
       "  <thead>\n",
       "    <tr style=\"text-align: right;\">\n",
       "      <th></th>\n",
       "      <th>order_id</th>\n",
       "      <th>created_date</th>\n",
       "      <th>total_paid</th>\n",
       "      <th>state</th>\n",
       "    </tr>\n",
       "  </thead>\n",
       "  <tbody>\n",
       "    <tr>\n",
       "      <th>2460</th>\n",
       "      <td>301916</td>\n",
       "      <td>2017-01-03 19:04:52</td>\n",
       "      <td>59.99</td>\n",
       "      <td>Shopping Basket</td>\n",
       "    </tr>\n",
       "    <tr>\n",
       "      <th>17917</th>\n",
       "      <td>317397</td>\n",
       "      <td>2017-01-30 12:31:43</td>\n",
       "      <td>22.98</td>\n",
       "      <td>Completed</td>\n",
       "    </tr>\n",
       "    <tr>\n",
       "      <th>202643</th>\n",
       "      <td>503129</td>\n",
       "      <td>2018-01-31 18:37:46</td>\n",
       "      <td>1099.00</td>\n",
       "      <td>Place Order</td>\n",
       "    </tr>\n",
       "    <tr>\n",
       "      <th>3029</th>\n",
       "      <td>302496</td>\n",
       "      <td>2017-01-04 14:45:04</td>\n",
       "      <td>71.97</td>\n",
       "      <td>Cancelled</td>\n",
       "    </tr>\n",
       "    <tr>\n",
       "      <th>68230</th>\n",
       "      <td>367776</td>\n",
       "      <td>2017-06-21 12:13:52</td>\n",
       "      <td>274.77</td>\n",
       "      <td>Pending</td>\n",
       "    </tr>\n",
       "    <tr>\n",
       "      <th>40591</th>\n",
       "      <td>340079</td>\n",
       "      <td>2017-03-28 15:27:43</td>\n",
       "      <td>574.99</td>\n",
       "      <td>Cancelled</td>\n",
       "    </tr>\n",
       "    <tr>\n",
       "      <th>23068</th>\n",
       "      <td>322548</td>\n",
       "      <td>2017-02-11 11:36:57</td>\n",
       "      <td>25.98</td>\n",
       "      <td>Completed</td>\n",
       "    </tr>\n",
       "  </tbody>\n",
       "</table>\n",
       "</div>"
      ],
      "text/plain": [
       "        order_id         created_date  total_paid            state\n",
       "2460      301916  2017-01-03 19:04:52       59.99  Shopping Basket\n",
       "17917     317397  2017-01-30 12:31:43       22.98        Completed\n",
       "202643    503129  2018-01-31 18:37:46     1099.00      Place Order\n",
       "3029      302496  2017-01-04 14:45:04       71.97        Cancelled\n",
       "68230     367776  2017-06-21 12:13:52      274.77          Pending\n",
       "40591     340079  2017-03-28 15:27:43      574.99        Cancelled\n",
       "23068     322548  2017-02-11 11:36:57       25.98        Completed"
      ]
     },
     "execution_count": 48,
     "metadata": {},
     "output_type": "execute_result"
    }
   ],
   "source": [
    "orders.sample(7)"
   ]
  },
  {
   "cell_type": "code",
   "execution_count": 50,
   "id": "408fa970-6f36-4326-908d-4047992cad2a",
   "metadata": {},
   "outputs": [
    {
     "name": "stdout",
     "output_type": "stream",
     "text": [
      "<class 'pandas.core.frame.DataFrame'>\n",
      "RangeIndex: 226909 entries, 0 to 226908\n",
      "Data columns (total 4 columns):\n",
      " #   Column        Non-Null Count   Dtype  \n",
      "---  ------        --------------   -----  \n",
      " 0   order_id      226909 non-null  int64  \n",
      " 1   created_date  226909 non-null  object \n",
      " 2   total_paid    226904 non-null  float64\n",
      " 3   state         226909 non-null  object \n",
      "dtypes: float64(1), int64(1), object(2)\n",
      "memory usage: 6.9+ MB\n"
     ]
    }
   ],
   "source": [
    "orders.info()"
   ]
  },
  {
   "cell_type": "markdown",
   "id": "7d8f31fe-7f26-4ee3-aabd-3d619b95279e",
   "metadata": {},
   "source": [
    "I want to change data type of `created_date`"
   ]
  },
  {
   "cell_type": "code",
   "execution_count": 52,
   "id": "7497b685-7ac9-48c3-b091-9ca706c76c4f",
   "metadata": {},
   "outputs": [],
   "source": [
    "orders['created_date'] = pd.to_datetime(orders['created_date'])"
   ]
  },
  {
   "cell_type": "code",
   "execution_count": 54,
   "id": "21fb5f10-dbab-43ff-8780-ec275256fb91",
   "metadata": {},
   "outputs": [
    {
     "name": "stdout",
     "output_type": "stream",
     "text": [
      "<class 'pandas.core.frame.DataFrame'>\n",
      "RangeIndex: 226909 entries, 0 to 226908\n",
      "Data columns (total 4 columns):\n",
      " #   Column        Non-Null Count   Dtype         \n",
      "---  ------        --------------   -----         \n",
      " 0   order_id      226909 non-null  int64         \n",
      " 1   created_date  226909 non-null  datetime64[ns]\n",
      " 2   total_paid    226904 non-null  float64       \n",
      " 3   state         226909 non-null  object        \n",
      "dtypes: datetime64[ns](1), float64(1), int64(1), object(1)\n",
      "memory usage: 6.9+ MB\n"
     ]
    }
   ],
   "source": [
    "orders.info()"
   ]
  },
  {
   "cell_type": "markdown",
   "id": "95855d03-de5b-4639-ade9-211567aedcd6",
   "metadata": {},
   "source": [
    "*Now, I want to check null values*"
   ]
  },
  {
   "cell_type": "code",
   "execution_count": 56,
   "id": "d8ce7980-e3f5-4259-8dc0-3faee48bc212",
   "metadata": {},
   "outputs": [
    {
     "data": {
      "text/plain": [
       "order_id        0\n",
       "created_date    0\n",
       "total_paid      5\n",
       "state           0\n",
       "dtype: int64"
      ]
     },
     "execution_count": 56,
     "metadata": {},
     "output_type": "execute_result"
    }
   ],
   "source": [
    "orders.isnull().sum()"
   ]
  },
  {
   "cell_type": "markdown",
   "id": "3f555824-748a-4b2f-9776-06720e3a7615",
   "metadata": {},
   "source": [
    "*Very simply I want to remove them*"
   ]
  },
  {
   "cell_type": "code",
   "execution_count": 58,
   "id": "3aa7f82b-7722-4067-a170-f0f9298b525a",
   "metadata": {},
   "outputs": [],
   "source": [
    "orders.dropna(inplace = True)"
   ]
  },
  {
   "cell_type": "code",
   "execution_count": 60,
   "id": "f77a380a-df1d-45eb-a84b-00bc9961231e",
   "metadata": {},
   "outputs": [
    {
     "name": "stdout",
     "output_type": "stream",
     "text": [
      "<class 'pandas.core.frame.DataFrame'>\n",
      "Index: 226904 entries, 0 to 226908\n",
      "Data columns (total 4 columns):\n",
      " #   Column        Non-Null Count   Dtype         \n",
      "---  ------        --------------   -----         \n",
      " 0   order_id      226904 non-null  int64         \n",
      " 1   created_date  226904 non-null  datetime64[ns]\n",
      " 2   total_paid    226904 non-null  float64       \n",
      " 3   state         226904 non-null  object        \n",
      "dtypes: datetime64[ns](1), float64(1), int64(1), object(1)\n",
      "memory usage: 8.7+ MB\n"
     ]
    }
   ],
   "source": [
    "orders.info()"
   ]
  },
  {
   "cell_type": "markdown",
   "id": "f43e38b8-047d-4d87-b505-c49a1a995ca2",
   "metadata": {},
   "source": [
    "*And finally let's check duplicates*"
   ]
  },
  {
   "cell_type": "code",
   "execution_count": 62,
   "id": "c62ae32e-f847-4aef-a89b-f8b2f1f701fe",
   "metadata": {},
   "outputs": [
    {
     "data": {
      "text/plain": [
       "0"
      ]
     },
     "execution_count": 62,
     "metadata": {},
     "output_type": "execute_result"
    }
   ],
   "source": [
    "orders.duplicated().sum()"
   ]
  },
  {
   "cell_type": "markdown",
   "id": "c239ef85-1eac-488b-9760-243311cfeef2",
   "metadata": {},
   "source": [
    "#### 3: products"
   ]
  },
  {
   "cell_type": "code",
   "execution_count": 64,
   "id": "8a6c3aa7-9fa6-4f3d-9c88-f24bfae56be7",
   "metadata": {},
   "outputs": [
    {
     "data": {
      "text/html": [
       "<div>\n",
       "<style scoped>\n",
       "    .dataframe tbody tr th:only-of-type {\n",
       "        vertical-align: middle;\n",
       "    }\n",
       "\n",
       "    .dataframe tbody tr th {\n",
       "        vertical-align: top;\n",
       "    }\n",
       "\n",
       "    .dataframe thead th {\n",
       "        text-align: right;\n",
       "    }\n",
       "</style>\n",
       "<table border=\"1\" class=\"dataframe\">\n",
       "  <thead>\n",
       "    <tr style=\"text-align: right;\">\n",
       "      <th></th>\n",
       "      <th>sku</th>\n",
       "      <th>name</th>\n",
       "      <th>desc</th>\n",
       "      <th>price</th>\n",
       "      <th>promo_price</th>\n",
       "      <th>in_stock</th>\n",
       "      <th>type</th>\n",
       "    </tr>\n",
       "  </thead>\n",
       "  <tbody>\n",
       "    <tr>\n",
       "      <th>0</th>\n",
       "      <td>RAI0007</td>\n",
       "      <td>Silver Rain Design mStand Support</td>\n",
       "      <td>Aluminum support compatible with all MacBook</td>\n",
       "      <td>59.99</td>\n",
       "      <td>499.899</td>\n",
       "      <td>1</td>\n",
       "      <td>8696</td>\n",
       "    </tr>\n",
       "    <tr>\n",
       "      <th>1</th>\n",
       "      <td>APP0023</td>\n",
       "      <td>Apple Mac Keyboard Keypad Spanish</td>\n",
       "      <td>USB ultrathin keyboard Apple Mac Spanish.</td>\n",
       "      <td>59</td>\n",
       "      <td>589.996</td>\n",
       "      <td>0</td>\n",
       "      <td>13855401</td>\n",
       "    </tr>\n",
       "    <tr>\n",
       "      <th>2</th>\n",
       "      <td>APP0025</td>\n",
       "      <td>Mighty Mouse Apple Mouse for Mac</td>\n",
       "      <td>mouse Apple USB cable.</td>\n",
       "      <td>59</td>\n",
       "      <td>569.898</td>\n",
       "      <td>0</td>\n",
       "      <td>1387</td>\n",
       "    </tr>\n",
       "    <tr>\n",
       "      <th>3</th>\n",
       "      <td>APP0072</td>\n",
       "      <td>Apple Dock to USB Cable iPhone and iPod white</td>\n",
       "      <td>IPhone dock and USB Cable Apple iPod.</td>\n",
       "      <td>25</td>\n",
       "      <td>229.997</td>\n",
       "      <td>0</td>\n",
       "      <td>1230</td>\n",
       "    </tr>\n",
       "    <tr>\n",
       "      <th>4</th>\n",
       "      <td>KIN0007</td>\n",
       "      <td>Mac Memory Kingston 2GB 667MHz DDR2 SO-DIMM</td>\n",
       "      <td>2GB RAM Mac mini and iMac (2006/07) MacBook Pr...</td>\n",
       "      <td>34.99</td>\n",
       "      <td>31.99</td>\n",
       "      <td>1</td>\n",
       "      <td>1364</td>\n",
       "    </tr>\n",
       "  </tbody>\n",
       "</table>\n",
       "</div>"
      ],
      "text/plain": [
       "       sku                                           name  \\\n",
       "0  RAI0007              Silver Rain Design mStand Support   \n",
       "1  APP0023              Apple Mac Keyboard Keypad Spanish   \n",
       "2  APP0025               Mighty Mouse Apple Mouse for Mac   \n",
       "3  APP0072  Apple Dock to USB Cable iPhone and iPod white   \n",
       "4  KIN0007    Mac Memory Kingston 2GB 667MHz DDR2 SO-DIMM   \n",
       "\n",
       "                                                desc  price promo_price  \\\n",
       "0       Aluminum support compatible with all MacBook  59.99     499.899   \n",
       "1          USB ultrathin keyboard Apple Mac Spanish.     59     589.996   \n",
       "2                             mouse Apple USB cable.     59     569.898   \n",
       "3              IPhone dock and USB Cable Apple iPod.     25     229.997   \n",
       "4  2GB RAM Mac mini and iMac (2006/07) MacBook Pr...  34.99       31.99   \n",
       "\n",
       "   in_stock      type  \n",
       "0         1      8696  \n",
       "1         0  13855401  \n",
       "2         0      1387  \n",
       "3         0      1230  \n",
       "4         1      1364  "
      ]
     },
     "execution_count": 64,
     "metadata": {},
     "output_type": "execute_result"
    }
   ],
   "source": [
    "products.head()"
   ]
  },
  {
   "cell_type": "code",
   "execution_count": 74,
   "id": "ac2d29ac-ddce-4db2-b4d7-410c89f3df44",
   "metadata": {},
   "outputs": [
    {
     "name": "stdout",
     "output_type": "stream",
     "text": [
      "<class 'pandas.core.frame.DataFrame'>\n",
      "RangeIndex: 19326 entries, 0 to 19325\n",
      "Data columns (total 6 columns):\n",
      " #   Column       Non-Null Count  Dtype \n",
      "---  ------       --------------  ----- \n",
      " 0   sku          19326 non-null  object\n",
      " 1   name         19326 non-null  object\n",
      " 2   desc         19319 non-null  object\n",
      " 3   price        19280 non-null  object\n",
      " 4   promo_price  19326 non-null  object\n",
      " 5   in_stock     19326 non-null  int64 \n",
      "dtypes: int64(1), object(5)\n",
      "memory usage: 906.0+ KB\n"
     ]
    }
   ],
   "source": [
    "products.info()"
   ]
  },
  {
   "cell_type": "markdown",
   "id": "3ff5ee1f-1162-4be2-a796-4a5b31ffa200",
   "metadata": {},
   "source": [
    "First of all let's fix `NaN values`"
   ]
  },
  {
   "cell_type": "code",
   "execution_count": 123,
   "id": "7c781225-7f77-478d-8ef0-bc36b99d5a52",
   "metadata": {},
   "outputs": [
    {
     "data": {
      "text/plain": [
       "sku             0\n",
       "name            0\n",
       "desc            7\n",
       "price          46\n",
       "promo_price     0\n",
       "in_stock        0\n",
       "dtype: int64"
      ]
     },
     "execution_count": 123,
     "metadata": {},
     "output_type": "execute_result"
    }
   ],
   "source": [
    "products.isna().sum()"
   ]
  },
  {
   "cell_type": "markdown",
   "id": "342c95e9-8d9d-454f-ac3b-bab22b83df1d",
   "metadata": {},
   "source": [
    "*I drop them:*"
   ]
  },
  {
   "cell_type": "code",
   "execution_count": 126,
   "id": "52667db0-2983-41ff-9c3e-b1e12a7f6059",
   "metadata": {},
   "outputs": [],
   "source": [
    "products.dropna(inplace = True)"
   ]
  },
  {
   "cell_type": "code",
   "execution_count": 128,
   "id": "c588387c-9c50-49b2-a5e9-1b6702809182",
   "metadata": {},
   "outputs": [
    {
     "name": "stdout",
     "output_type": "stream",
     "text": [
      "<class 'pandas.core.frame.DataFrame'>\n",
      "Index: 19273 entries, 0 to 19325\n",
      "Data columns (total 6 columns):\n",
      " #   Column       Non-Null Count  Dtype \n",
      "---  ------       --------------  ----- \n",
      " 0   sku          19273 non-null  object\n",
      " 1   name         19273 non-null  object\n",
      " 2   desc         19273 non-null  object\n",
      " 3   price        19273 non-null  object\n",
      " 4   promo_price  19273 non-null  object\n",
      " 5   in_stock     19273 non-null  int64 \n",
      "dtypes: int64(1), object(5)\n",
      "memory usage: 1.0+ MB\n"
     ]
    }
   ],
   "source": [
    "products.info()"
   ]
  },
  {
   "cell_type": "markdown",
   "id": "be5b1a2d-833d-46d3-9ffe-5929ee034658",
   "metadata": {},
   "source": [
    "**Next problem**:"
   ]
  },
  {
   "cell_type": "markdown",
   "id": "dda4f665-94b7-4462-9d52-311054c7c503",
   "metadata": {},
   "source": [
    "*As you can see, we have a problem with these three columns:*\n",
    "\n",
    "`price`, `promo_price`, and `type`.\n",
    "\n",
    "*Their data types need to be changed.*\n",
    "\n",
    "*But do we really need the type column?*\n",
    "*Each product is assigned a number, but is it necessary for our project?*\n",
    "*My answer is no! So, I simply want to remove this column and focus on fixing the data types of the other two columns.*\n",
    "\n",
    "*Let’s do it!*"
   ]
  },
  {
   "cell_type": "markdown",
   "id": "d251ad77-0bef-4c5a-9d09-f204d9a332e9",
   "metadata": {},
   "source": [
    "1: droping columns `type`"
   ]
  },
  {
   "cell_type": "code",
   "execution_count": 72,
   "id": "86129771-03b4-4061-a47c-ec7e0d369bee",
   "metadata": {},
   "outputs": [],
   "source": [
    "products.drop(columns = 'type' , inplace = True)"
   ]
  },
  {
   "cell_type": "markdown",
   "id": "48d3b3ce-a404-4cfd-a9ae-63b26dce2a3d",
   "metadata": {},
   "source": [
    "2: change data type of column `price`"
   ]
  },
  {
   "cell_type": "code",
   "execution_count": 132,
   "id": "04c0b1ca-73f9-4c70-a3ff-93bc97917049",
   "metadata": {},
   "outputs": [
    {
     "ename": "ValueError",
     "evalue": "could not convert string to float: '1.639.792'",
     "output_type": "error",
     "traceback": [
      "\u001b[1;31m---------------------------------------------------------------------------\u001b[0m",
      "\u001b[1;31mValueError\u001b[0m                                Traceback (most recent call last)",
      "Cell \u001b[1;32mIn[132], line 1\u001b[0m\n\u001b[1;32m----> 1\u001b[0m products[\u001b[38;5;124m'\u001b[39m\u001b[38;5;124mprice\u001b[39m\u001b[38;5;124m'\u001b[39m] \u001b[38;5;241m=\u001b[39m products[\u001b[38;5;124m'\u001b[39m\u001b[38;5;124mprice\u001b[39m\u001b[38;5;124m'\u001b[39m]\u001b[38;5;241m.\u001b[39mastype(\u001b[38;5;28mfloat\u001b[39m)\n",
      "File \u001b[1;32m~\\anaconda3\\Lib\\site-packages\\pandas\\core\\generic.py:6643\u001b[0m, in \u001b[0;36mNDFrame.astype\u001b[1;34m(self, dtype, copy, errors)\u001b[0m\n\u001b[0;32m   6637\u001b[0m     results \u001b[38;5;241m=\u001b[39m [\n\u001b[0;32m   6638\u001b[0m         ser\u001b[38;5;241m.\u001b[39mastype(dtype, copy\u001b[38;5;241m=\u001b[39mcopy, errors\u001b[38;5;241m=\u001b[39merrors) \u001b[38;5;28;01mfor\u001b[39;00m _, ser \u001b[38;5;129;01min\u001b[39;00m \u001b[38;5;28mself\u001b[39m\u001b[38;5;241m.\u001b[39mitems()\n\u001b[0;32m   6639\u001b[0m     ]\n\u001b[0;32m   6641\u001b[0m \u001b[38;5;28;01melse\u001b[39;00m:\n\u001b[0;32m   6642\u001b[0m     \u001b[38;5;66;03m# else, only a single dtype is given\u001b[39;00m\n\u001b[1;32m-> 6643\u001b[0m     new_data \u001b[38;5;241m=\u001b[39m \u001b[38;5;28mself\u001b[39m\u001b[38;5;241m.\u001b[39m_mgr\u001b[38;5;241m.\u001b[39mastype(dtype\u001b[38;5;241m=\u001b[39mdtype, copy\u001b[38;5;241m=\u001b[39mcopy, errors\u001b[38;5;241m=\u001b[39merrors)\n\u001b[0;32m   6644\u001b[0m     res \u001b[38;5;241m=\u001b[39m \u001b[38;5;28mself\u001b[39m\u001b[38;5;241m.\u001b[39m_constructor_from_mgr(new_data, axes\u001b[38;5;241m=\u001b[39mnew_data\u001b[38;5;241m.\u001b[39maxes)\n\u001b[0;32m   6645\u001b[0m     \u001b[38;5;28;01mreturn\u001b[39;00m res\u001b[38;5;241m.\u001b[39m__finalize__(\u001b[38;5;28mself\u001b[39m, method\u001b[38;5;241m=\u001b[39m\u001b[38;5;124m\"\u001b[39m\u001b[38;5;124mastype\u001b[39m\u001b[38;5;124m\"\u001b[39m)\n",
      "File \u001b[1;32m~\\anaconda3\\Lib\\site-packages\\pandas\\core\\internals\\managers.py:430\u001b[0m, in \u001b[0;36mBaseBlockManager.astype\u001b[1;34m(self, dtype, copy, errors)\u001b[0m\n\u001b[0;32m    427\u001b[0m \u001b[38;5;28;01melif\u001b[39;00m using_copy_on_write():\n\u001b[0;32m    428\u001b[0m     copy \u001b[38;5;241m=\u001b[39m \u001b[38;5;28;01mFalse\u001b[39;00m\n\u001b[1;32m--> 430\u001b[0m \u001b[38;5;28;01mreturn\u001b[39;00m \u001b[38;5;28mself\u001b[39m\u001b[38;5;241m.\u001b[39mapply(\n\u001b[0;32m    431\u001b[0m     \u001b[38;5;124m\"\u001b[39m\u001b[38;5;124mastype\u001b[39m\u001b[38;5;124m\"\u001b[39m,\n\u001b[0;32m    432\u001b[0m     dtype\u001b[38;5;241m=\u001b[39mdtype,\n\u001b[0;32m    433\u001b[0m     copy\u001b[38;5;241m=\u001b[39mcopy,\n\u001b[0;32m    434\u001b[0m     errors\u001b[38;5;241m=\u001b[39merrors,\n\u001b[0;32m    435\u001b[0m     using_cow\u001b[38;5;241m=\u001b[39musing_copy_on_write(),\n\u001b[0;32m    436\u001b[0m )\n",
      "File \u001b[1;32m~\\anaconda3\\Lib\\site-packages\\pandas\\core\\internals\\managers.py:363\u001b[0m, in \u001b[0;36mBaseBlockManager.apply\u001b[1;34m(self, f, align_keys, **kwargs)\u001b[0m\n\u001b[0;32m    361\u001b[0m         applied \u001b[38;5;241m=\u001b[39m b\u001b[38;5;241m.\u001b[39mapply(f, \u001b[38;5;241m*\u001b[39m\u001b[38;5;241m*\u001b[39mkwargs)\n\u001b[0;32m    362\u001b[0m     \u001b[38;5;28;01melse\u001b[39;00m:\n\u001b[1;32m--> 363\u001b[0m         applied \u001b[38;5;241m=\u001b[39m \u001b[38;5;28mgetattr\u001b[39m(b, f)(\u001b[38;5;241m*\u001b[39m\u001b[38;5;241m*\u001b[39mkwargs)\n\u001b[0;32m    364\u001b[0m     result_blocks \u001b[38;5;241m=\u001b[39m extend_blocks(applied, result_blocks)\n\u001b[0;32m    366\u001b[0m out \u001b[38;5;241m=\u001b[39m \u001b[38;5;28mtype\u001b[39m(\u001b[38;5;28mself\u001b[39m)\u001b[38;5;241m.\u001b[39mfrom_blocks(result_blocks, \u001b[38;5;28mself\u001b[39m\u001b[38;5;241m.\u001b[39maxes)\n",
      "File \u001b[1;32m~\\anaconda3\\Lib\\site-packages\\pandas\\core\\internals\\blocks.py:758\u001b[0m, in \u001b[0;36mBlock.astype\u001b[1;34m(self, dtype, copy, errors, using_cow, squeeze)\u001b[0m\n\u001b[0;32m    755\u001b[0m         \u001b[38;5;28;01mraise\u001b[39;00m \u001b[38;5;167;01mValueError\u001b[39;00m(\u001b[38;5;124m\"\u001b[39m\u001b[38;5;124mCan not squeeze with more than one column.\u001b[39m\u001b[38;5;124m\"\u001b[39m)\n\u001b[0;32m    756\u001b[0m     values \u001b[38;5;241m=\u001b[39m values[\u001b[38;5;241m0\u001b[39m, :]  \u001b[38;5;66;03m# type: ignore[call-overload]\u001b[39;00m\n\u001b[1;32m--> 758\u001b[0m new_values \u001b[38;5;241m=\u001b[39m astype_array_safe(values, dtype, copy\u001b[38;5;241m=\u001b[39mcopy, errors\u001b[38;5;241m=\u001b[39merrors)\n\u001b[0;32m    760\u001b[0m new_values \u001b[38;5;241m=\u001b[39m maybe_coerce_values(new_values)\n\u001b[0;32m    762\u001b[0m refs \u001b[38;5;241m=\u001b[39m \u001b[38;5;28;01mNone\u001b[39;00m\n",
      "File \u001b[1;32m~\\anaconda3\\Lib\\site-packages\\pandas\\core\\dtypes\\astype.py:237\u001b[0m, in \u001b[0;36mastype_array_safe\u001b[1;34m(values, dtype, copy, errors)\u001b[0m\n\u001b[0;32m    234\u001b[0m     dtype \u001b[38;5;241m=\u001b[39m dtype\u001b[38;5;241m.\u001b[39mnumpy_dtype\n\u001b[0;32m    236\u001b[0m \u001b[38;5;28;01mtry\u001b[39;00m:\n\u001b[1;32m--> 237\u001b[0m     new_values \u001b[38;5;241m=\u001b[39m astype_array(values, dtype, copy\u001b[38;5;241m=\u001b[39mcopy)\n\u001b[0;32m    238\u001b[0m \u001b[38;5;28;01mexcept\u001b[39;00m (\u001b[38;5;167;01mValueError\u001b[39;00m, \u001b[38;5;167;01mTypeError\u001b[39;00m):\n\u001b[0;32m    239\u001b[0m     \u001b[38;5;66;03m# e.g. _astype_nansafe can fail on object-dtype of strings\u001b[39;00m\n\u001b[0;32m    240\u001b[0m     \u001b[38;5;66;03m#  trying to convert to float\u001b[39;00m\n\u001b[0;32m    241\u001b[0m     \u001b[38;5;28;01mif\u001b[39;00m errors \u001b[38;5;241m==\u001b[39m \u001b[38;5;124m\"\u001b[39m\u001b[38;5;124mignore\u001b[39m\u001b[38;5;124m\"\u001b[39m:\n",
      "File \u001b[1;32m~\\anaconda3\\Lib\\site-packages\\pandas\\core\\dtypes\\astype.py:182\u001b[0m, in \u001b[0;36mastype_array\u001b[1;34m(values, dtype, copy)\u001b[0m\n\u001b[0;32m    179\u001b[0m     values \u001b[38;5;241m=\u001b[39m values\u001b[38;5;241m.\u001b[39mastype(dtype, copy\u001b[38;5;241m=\u001b[39mcopy)\n\u001b[0;32m    181\u001b[0m \u001b[38;5;28;01melse\u001b[39;00m:\n\u001b[1;32m--> 182\u001b[0m     values \u001b[38;5;241m=\u001b[39m _astype_nansafe(values, dtype, copy\u001b[38;5;241m=\u001b[39mcopy)\n\u001b[0;32m    184\u001b[0m \u001b[38;5;66;03m# in pandas we don't store numpy str dtypes, so convert to object\u001b[39;00m\n\u001b[0;32m    185\u001b[0m \u001b[38;5;28;01mif\u001b[39;00m \u001b[38;5;28misinstance\u001b[39m(dtype, np\u001b[38;5;241m.\u001b[39mdtype) \u001b[38;5;129;01mand\u001b[39;00m \u001b[38;5;28missubclass\u001b[39m(values\u001b[38;5;241m.\u001b[39mdtype\u001b[38;5;241m.\u001b[39mtype, \u001b[38;5;28mstr\u001b[39m):\n",
      "File \u001b[1;32m~\\anaconda3\\Lib\\site-packages\\pandas\\core\\dtypes\\astype.py:133\u001b[0m, in \u001b[0;36m_astype_nansafe\u001b[1;34m(arr, dtype, copy, skipna)\u001b[0m\n\u001b[0;32m    129\u001b[0m     \u001b[38;5;28;01mraise\u001b[39;00m \u001b[38;5;167;01mValueError\u001b[39;00m(msg)\n\u001b[0;32m    131\u001b[0m \u001b[38;5;28;01mif\u001b[39;00m copy \u001b[38;5;129;01mor\u001b[39;00m arr\u001b[38;5;241m.\u001b[39mdtype \u001b[38;5;241m==\u001b[39m \u001b[38;5;28mobject\u001b[39m \u001b[38;5;129;01mor\u001b[39;00m dtype \u001b[38;5;241m==\u001b[39m \u001b[38;5;28mobject\u001b[39m:\n\u001b[0;32m    132\u001b[0m     \u001b[38;5;66;03m# Explicit copy, or required since NumPy can't view from / to object.\u001b[39;00m\n\u001b[1;32m--> 133\u001b[0m     \u001b[38;5;28;01mreturn\u001b[39;00m arr\u001b[38;5;241m.\u001b[39mastype(dtype, copy\u001b[38;5;241m=\u001b[39m\u001b[38;5;28;01mTrue\u001b[39;00m)\n\u001b[0;32m    135\u001b[0m \u001b[38;5;28;01mreturn\u001b[39;00m arr\u001b[38;5;241m.\u001b[39mastype(dtype, copy\u001b[38;5;241m=\u001b[39mcopy)\n",
      "\u001b[1;31mValueError\u001b[0m: could not convert string to float: '1.639.792'"
     ]
    }
   ],
   "source": [
    "products['price'] = products['price'].astype(float)"
   ]
  },
  {
   "cell_type": "markdown",
   "id": "64a77777-2339-4de9-9cb0-8e262385584c",
   "metadata": {},
   "source": [
    "*Oh! This is the same problem we had before.*\n",
    "\n",
    "*Let’s check if promo_price has the same issue!*"
   ]
  },
  {
   "cell_type": "code",
   "execution_count": 134,
   "id": "0767f989-bee9-4c96-b7d6-1fc58ad5ff2b",
   "metadata": {},
   "outputs": [
    {
     "ename": "ValueError",
     "evalue": "could not convert string to float: '1.119.976'",
     "output_type": "error",
     "traceback": [
      "\u001b[1;31m---------------------------------------------------------------------------\u001b[0m",
      "\u001b[1;31mValueError\u001b[0m                                Traceback (most recent call last)",
      "Cell \u001b[1;32mIn[134], line 1\u001b[0m\n\u001b[1;32m----> 1\u001b[0m products[\u001b[38;5;124m'\u001b[39m\u001b[38;5;124mpromo_price\u001b[39m\u001b[38;5;124m'\u001b[39m] \u001b[38;5;241m=\u001b[39m products[\u001b[38;5;124m'\u001b[39m\u001b[38;5;124mpromo_price\u001b[39m\u001b[38;5;124m'\u001b[39m]\u001b[38;5;241m.\u001b[39mastype(\u001b[38;5;28mfloat\u001b[39m)\n",
      "File \u001b[1;32m~\\anaconda3\\Lib\\site-packages\\pandas\\core\\generic.py:6643\u001b[0m, in \u001b[0;36mNDFrame.astype\u001b[1;34m(self, dtype, copy, errors)\u001b[0m\n\u001b[0;32m   6637\u001b[0m     results \u001b[38;5;241m=\u001b[39m [\n\u001b[0;32m   6638\u001b[0m         ser\u001b[38;5;241m.\u001b[39mastype(dtype, copy\u001b[38;5;241m=\u001b[39mcopy, errors\u001b[38;5;241m=\u001b[39merrors) \u001b[38;5;28;01mfor\u001b[39;00m _, ser \u001b[38;5;129;01min\u001b[39;00m \u001b[38;5;28mself\u001b[39m\u001b[38;5;241m.\u001b[39mitems()\n\u001b[0;32m   6639\u001b[0m     ]\n\u001b[0;32m   6641\u001b[0m \u001b[38;5;28;01melse\u001b[39;00m:\n\u001b[0;32m   6642\u001b[0m     \u001b[38;5;66;03m# else, only a single dtype is given\u001b[39;00m\n\u001b[1;32m-> 6643\u001b[0m     new_data \u001b[38;5;241m=\u001b[39m \u001b[38;5;28mself\u001b[39m\u001b[38;5;241m.\u001b[39m_mgr\u001b[38;5;241m.\u001b[39mastype(dtype\u001b[38;5;241m=\u001b[39mdtype, copy\u001b[38;5;241m=\u001b[39mcopy, errors\u001b[38;5;241m=\u001b[39merrors)\n\u001b[0;32m   6644\u001b[0m     res \u001b[38;5;241m=\u001b[39m \u001b[38;5;28mself\u001b[39m\u001b[38;5;241m.\u001b[39m_constructor_from_mgr(new_data, axes\u001b[38;5;241m=\u001b[39mnew_data\u001b[38;5;241m.\u001b[39maxes)\n\u001b[0;32m   6645\u001b[0m     \u001b[38;5;28;01mreturn\u001b[39;00m res\u001b[38;5;241m.\u001b[39m__finalize__(\u001b[38;5;28mself\u001b[39m, method\u001b[38;5;241m=\u001b[39m\u001b[38;5;124m\"\u001b[39m\u001b[38;5;124mastype\u001b[39m\u001b[38;5;124m\"\u001b[39m)\n",
      "File \u001b[1;32m~\\anaconda3\\Lib\\site-packages\\pandas\\core\\internals\\managers.py:430\u001b[0m, in \u001b[0;36mBaseBlockManager.astype\u001b[1;34m(self, dtype, copy, errors)\u001b[0m\n\u001b[0;32m    427\u001b[0m \u001b[38;5;28;01melif\u001b[39;00m using_copy_on_write():\n\u001b[0;32m    428\u001b[0m     copy \u001b[38;5;241m=\u001b[39m \u001b[38;5;28;01mFalse\u001b[39;00m\n\u001b[1;32m--> 430\u001b[0m \u001b[38;5;28;01mreturn\u001b[39;00m \u001b[38;5;28mself\u001b[39m\u001b[38;5;241m.\u001b[39mapply(\n\u001b[0;32m    431\u001b[0m     \u001b[38;5;124m\"\u001b[39m\u001b[38;5;124mastype\u001b[39m\u001b[38;5;124m\"\u001b[39m,\n\u001b[0;32m    432\u001b[0m     dtype\u001b[38;5;241m=\u001b[39mdtype,\n\u001b[0;32m    433\u001b[0m     copy\u001b[38;5;241m=\u001b[39mcopy,\n\u001b[0;32m    434\u001b[0m     errors\u001b[38;5;241m=\u001b[39merrors,\n\u001b[0;32m    435\u001b[0m     using_cow\u001b[38;5;241m=\u001b[39musing_copy_on_write(),\n\u001b[0;32m    436\u001b[0m )\n",
      "File \u001b[1;32m~\\anaconda3\\Lib\\site-packages\\pandas\\core\\internals\\managers.py:363\u001b[0m, in \u001b[0;36mBaseBlockManager.apply\u001b[1;34m(self, f, align_keys, **kwargs)\u001b[0m\n\u001b[0;32m    361\u001b[0m         applied \u001b[38;5;241m=\u001b[39m b\u001b[38;5;241m.\u001b[39mapply(f, \u001b[38;5;241m*\u001b[39m\u001b[38;5;241m*\u001b[39mkwargs)\n\u001b[0;32m    362\u001b[0m     \u001b[38;5;28;01melse\u001b[39;00m:\n\u001b[1;32m--> 363\u001b[0m         applied \u001b[38;5;241m=\u001b[39m \u001b[38;5;28mgetattr\u001b[39m(b, f)(\u001b[38;5;241m*\u001b[39m\u001b[38;5;241m*\u001b[39mkwargs)\n\u001b[0;32m    364\u001b[0m     result_blocks \u001b[38;5;241m=\u001b[39m extend_blocks(applied, result_blocks)\n\u001b[0;32m    366\u001b[0m out \u001b[38;5;241m=\u001b[39m \u001b[38;5;28mtype\u001b[39m(\u001b[38;5;28mself\u001b[39m)\u001b[38;5;241m.\u001b[39mfrom_blocks(result_blocks, \u001b[38;5;28mself\u001b[39m\u001b[38;5;241m.\u001b[39maxes)\n",
      "File \u001b[1;32m~\\anaconda3\\Lib\\site-packages\\pandas\\core\\internals\\blocks.py:758\u001b[0m, in \u001b[0;36mBlock.astype\u001b[1;34m(self, dtype, copy, errors, using_cow, squeeze)\u001b[0m\n\u001b[0;32m    755\u001b[0m         \u001b[38;5;28;01mraise\u001b[39;00m \u001b[38;5;167;01mValueError\u001b[39;00m(\u001b[38;5;124m\"\u001b[39m\u001b[38;5;124mCan not squeeze with more than one column.\u001b[39m\u001b[38;5;124m\"\u001b[39m)\n\u001b[0;32m    756\u001b[0m     values \u001b[38;5;241m=\u001b[39m values[\u001b[38;5;241m0\u001b[39m, :]  \u001b[38;5;66;03m# type: ignore[call-overload]\u001b[39;00m\n\u001b[1;32m--> 758\u001b[0m new_values \u001b[38;5;241m=\u001b[39m astype_array_safe(values, dtype, copy\u001b[38;5;241m=\u001b[39mcopy, errors\u001b[38;5;241m=\u001b[39merrors)\n\u001b[0;32m    760\u001b[0m new_values \u001b[38;5;241m=\u001b[39m maybe_coerce_values(new_values)\n\u001b[0;32m    762\u001b[0m refs \u001b[38;5;241m=\u001b[39m \u001b[38;5;28;01mNone\u001b[39;00m\n",
      "File \u001b[1;32m~\\anaconda3\\Lib\\site-packages\\pandas\\core\\dtypes\\astype.py:237\u001b[0m, in \u001b[0;36mastype_array_safe\u001b[1;34m(values, dtype, copy, errors)\u001b[0m\n\u001b[0;32m    234\u001b[0m     dtype \u001b[38;5;241m=\u001b[39m dtype\u001b[38;5;241m.\u001b[39mnumpy_dtype\n\u001b[0;32m    236\u001b[0m \u001b[38;5;28;01mtry\u001b[39;00m:\n\u001b[1;32m--> 237\u001b[0m     new_values \u001b[38;5;241m=\u001b[39m astype_array(values, dtype, copy\u001b[38;5;241m=\u001b[39mcopy)\n\u001b[0;32m    238\u001b[0m \u001b[38;5;28;01mexcept\u001b[39;00m (\u001b[38;5;167;01mValueError\u001b[39;00m, \u001b[38;5;167;01mTypeError\u001b[39;00m):\n\u001b[0;32m    239\u001b[0m     \u001b[38;5;66;03m# e.g. _astype_nansafe can fail on object-dtype of strings\u001b[39;00m\n\u001b[0;32m    240\u001b[0m     \u001b[38;5;66;03m#  trying to convert to float\u001b[39;00m\n\u001b[0;32m    241\u001b[0m     \u001b[38;5;28;01mif\u001b[39;00m errors \u001b[38;5;241m==\u001b[39m \u001b[38;5;124m\"\u001b[39m\u001b[38;5;124mignore\u001b[39m\u001b[38;5;124m\"\u001b[39m:\n",
      "File \u001b[1;32m~\\anaconda3\\Lib\\site-packages\\pandas\\core\\dtypes\\astype.py:182\u001b[0m, in \u001b[0;36mastype_array\u001b[1;34m(values, dtype, copy)\u001b[0m\n\u001b[0;32m    179\u001b[0m     values \u001b[38;5;241m=\u001b[39m values\u001b[38;5;241m.\u001b[39mastype(dtype, copy\u001b[38;5;241m=\u001b[39mcopy)\n\u001b[0;32m    181\u001b[0m \u001b[38;5;28;01melse\u001b[39;00m:\n\u001b[1;32m--> 182\u001b[0m     values \u001b[38;5;241m=\u001b[39m _astype_nansafe(values, dtype, copy\u001b[38;5;241m=\u001b[39mcopy)\n\u001b[0;32m    184\u001b[0m \u001b[38;5;66;03m# in pandas we don't store numpy str dtypes, so convert to object\u001b[39;00m\n\u001b[0;32m    185\u001b[0m \u001b[38;5;28;01mif\u001b[39;00m \u001b[38;5;28misinstance\u001b[39m(dtype, np\u001b[38;5;241m.\u001b[39mdtype) \u001b[38;5;129;01mand\u001b[39;00m \u001b[38;5;28missubclass\u001b[39m(values\u001b[38;5;241m.\u001b[39mdtype\u001b[38;5;241m.\u001b[39mtype, \u001b[38;5;28mstr\u001b[39m):\n",
      "File \u001b[1;32m~\\anaconda3\\Lib\\site-packages\\pandas\\core\\dtypes\\astype.py:133\u001b[0m, in \u001b[0;36m_astype_nansafe\u001b[1;34m(arr, dtype, copy, skipna)\u001b[0m\n\u001b[0;32m    129\u001b[0m     \u001b[38;5;28;01mraise\u001b[39;00m \u001b[38;5;167;01mValueError\u001b[39;00m(msg)\n\u001b[0;32m    131\u001b[0m \u001b[38;5;28;01mif\u001b[39;00m copy \u001b[38;5;129;01mor\u001b[39;00m arr\u001b[38;5;241m.\u001b[39mdtype \u001b[38;5;241m==\u001b[39m \u001b[38;5;28mobject\u001b[39m \u001b[38;5;129;01mor\u001b[39;00m dtype \u001b[38;5;241m==\u001b[39m \u001b[38;5;28mobject\u001b[39m:\n\u001b[0;32m    132\u001b[0m     \u001b[38;5;66;03m# Explicit copy, or required since NumPy can't view from / to object.\u001b[39;00m\n\u001b[1;32m--> 133\u001b[0m     \u001b[38;5;28;01mreturn\u001b[39;00m arr\u001b[38;5;241m.\u001b[39mastype(dtype, copy\u001b[38;5;241m=\u001b[39m\u001b[38;5;28;01mTrue\u001b[39;00m)\n\u001b[0;32m    135\u001b[0m \u001b[38;5;28;01mreturn\u001b[39;00m arr\u001b[38;5;241m.\u001b[39mastype(dtype, copy\u001b[38;5;241m=\u001b[39mcopy)\n",
      "\u001b[1;31mValueError\u001b[0m: could not convert string to float: '1.119.976'"
     ]
    }
   ],
   "source": [
    "products['promo_price'] = products['promo_price'].astype(float)"
   ]
  },
  {
   "cell_type": "markdown",
   "id": "56263063-cdbf-4058-b79a-36e8446e2ef1",
   "metadata": {},
   "source": [
    "*Exactly! Let’s fix them the same way we did before.*"
   ]
  },
  {
   "cell_type": "code",
   "execution_count": 138,
   "id": "7c6d4d33-8a70-4207-bd6d-3163d1a18cd8",
   "metadata": {},
   "outputs": [],
   "source": [
    "products['price'] = products['price'].apply(lambda x: x.replace('.', '', x.count('.') -1))"
   ]
  },
  {
   "cell_type": "code",
   "execution_count": 144,
   "id": "80da2058-dfd6-4c3e-871c-3baa68f31002",
   "metadata": {},
   "outputs": [],
   "source": [
    "products['price'] = products['price'].astype(float)"
   ]
  },
  {
   "cell_type": "code",
   "execution_count": 140,
   "id": "da3d77f7-56b6-497d-beaa-bf225cae75f3",
   "metadata": {},
   "outputs": [],
   "source": [
    "products['promo_price'] = products['promo_price'].apply(lambda x: x.replace('.', '', x.count('.') -1))"
   ]
  },
  {
   "cell_type": "code",
   "execution_count": 146,
   "id": "8043ad6b-e0ca-485b-aa3d-bca0d1b9c9f0",
   "metadata": {},
   "outputs": [],
   "source": [
    "products['promo_price'] = products['promo_price'].astype(float)"
   ]
  },
  {
   "cell_type": "code",
   "execution_count": 148,
   "id": "e3c567a0-b518-45e5-9920-677e8c58b458",
   "metadata": {},
   "outputs": [
    {
     "name": "stdout",
     "output_type": "stream",
     "text": [
      "<class 'pandas.core.frame.DataFrame'>\n",
      "Index: 19273 entries, 0 to 19325\n",
      "Data columns (total 6 columns):\n",
      " #   Column       Non-Null Count  Dtype  \n",
      "---  ------       --------------  -----  \n",
      " 0   sku          19273 non-null  object \n",
      " 1   name         19273 non-null  object \n",
      " 2   desc         19273 non-null  object \n",
      " 3   price        19273 non-null  float64\n",
      " 4   promo_price  19273 non-null  float64\n",
      " 5   in_stock     19273 non-null  int64  \n",
      "dtypes: float64(2), int64(1), object(3)\n",
      "memory usage: 1.0+ MB\n"
     ]
    }
   ],
   "source": [
    "products.info()"
   ]
  },
  {
   "cell_type": "markdown",
   "id": "692e968d-e175-4a60-84af-7227d5a783c6",
   "metadata": {},
   "source": [
    "*It worked. So let's check the last table*"
   ]
  },
  {
   "cell_type": "markdown",
   "id": "e4673887-d103-421a-aa9b-1ecc5e5919b0",
   "metadata": {},
   "source": [
    "#### 4: brands"
   ]
  },
  {
   "cell_type": "code",
   "execution_count": 157,
   "id": "a5d4861a-475b-4cff-9829-0e950b9a98a8",
   "metadata": {},
   "outputs": [
    {
     "data": {
      "text/html": [
       "<div>\n",
       "<style scoped>\n",
       "    .dataframe tbody tr th:only-of-type {\n",
       "        vertical-align: middle;\n",
       "    }\n",
       "\n",
       "    .dataframe tbody tr th {\n",
       "        vertical-align: top;\n",
       "    }\n",
       "\n",
       "    .dataframe thead th {\n",
       "        text-align: right;\n",
       "    }\n",
       "</style>\n",
       "<table border=\"1\" class=\"dataframe\">\n",
       "  <thead>\n",
       "    <tr style=\"text-align: right;\">\n",
       "      <th></th>\n",
       "      <th>short</th>\n",
       "      <th>long</th>\n",
       "    </tr>\n",
       "  </thead>\n",
       "  <tbody>\n",
       "    <tr>\n",
       "      <th>0</th>\n",
       "      <td>8MO</td>\n",
       "      <td>8Mobility</td>\n",
       "    </tr>\n",
       "    <tr>\n",
       "      <th>1</th>\n",
       "      <td>ACM</td>\n",
       "      <td>Acme</td>\n",
       "    </tr>\n",
       "    <tr>\n",
       "      <th>2</th>\n",
       "      <td>ADN</td>\n",
       "      <td>Adonit</td>\n",
       "    </tr>\n",
       "    <tr>\n",
       "      <th>3</th>\n",
       "      <td>AII</td>\n",
       "      <td>Aiino</td>\n",
       "    </tr>\n",
       "    <tr>\n",
       "      <th>4</th>\n",
       "      <td>AKI</td>\n",
       "      <td>Akitio</td>\n",
       "    </tr>\n",
       "  </tbody>\n",
       "</table>\n",
       "</div>"
      ],
      "text/plain": [
       "  short       long\n",
       "0   8MO  8Mobility\n",
       "1   ACM       Acme\n",
       "2   ADN     Adonit\n",
       "3   AII      Aiino\n",
       "4   AKI     Akitio"
      ]
     },
     "execution_count": 157,
     "metadata": {},
     "output_type": "execute_result"
    }
   ],
   "source": [
    "brands.head()"
   ]
  },
  {
   "cell_type": "code",
   "execution_count": 159,
   "id": "58283416-f629-4b2a-9d1b-2e6c88fa7382",
   "metadata": {},
   "outputs": [
    {
     "name": "stdout",
     "output_type": "stream",
     "text": [
      "<class 'pandas.core.frame.DataFrame'>\n",
      "RangeIndex: 187 entries, 0 to 186\n",
      "Data columns (total 2 columns):\n",
      " #   Column  Non-Null Count  Dtype \n",
      "---  ------  --------------  ----- \n",
      " 0   short   187 non-null    object\n",
      " 1   long    187 non-null    object\n",
      "dtypes: object(2)\n",
      "memory usage: 3.1+ KB\n"
     ]
    }
   ],
   "source": [
    "brands.info()"
   ]
  },
  {
   "cell_type": "markdown",
   "id": "c86421f8-e430-438d-9ce1-2204742bb10b",
   "metadata": {},
   "source": [
    "**That's Ok, now I want so save cleaned data**"
   ]
  },
  {
   "cell_type": "code",
   "execution_count": 162,
   "id": "9492bf58-0861-4233-909b-b2dadb008cf6",
   "metadata": {},
   "outputs": [],
   "source": [
    "orders_cleaned = orders.copy()\n",
    "orderlines_cleaned = orderlines.copy()\n",
    "products_cleaned = products.copy()\n",
    "brands_cleaned = brands.copy()"
   ]
  },
  {
   "cell_type": "code",
   "execution_count": 170,
   "id": "768265f1-556d-4c95-990a-273a4fc7b3a1",
   "metadata": {},
   "outputs": [],
   "source": [
    "orders_cleaned.to_csv(f'C:\\\\My projects\\\\pandas\\\\cleaned_data\\\\orders_cleaned')\n",
    "orderlines_cleaned.to_csv(f'C:\\\\My projects\\\\pandas\\\\cleaned_data\\\\orderlines_cleaned')\n",
    "products_cleaned.to_csv(f'C:\\\\My projects\\\\pandas\\\\cleaned_data\\\\products_cleaned')\n",
    "brands_cleaned.to_csv(f'C:\\\\My projects\\\\pandas\\\\cleaned_data\\\\brands_cleaned')"
   ]
  }
 ],
 "metadata": {
  "kernelspec": {
   "display_name": "Python 3 (ipykernel)",
   "language": "python",
   "name": "python3"
  },
  "language_info": {
   "codemirror_mode": {
    "name": "ipython",
    "version": 3
   },
   "file_extension": ".py",
   "mimetype": "text/x-python",
   "name": "python",
   "nbconvert_exporter": "python",
   "pygments_lexer": "ipython3",
   "version": "3.12.4"
  }
 },
 "nbformat": 4,
 "nbformat_minor": 5
}
