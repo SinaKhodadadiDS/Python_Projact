{
 "cells": [
  {
   "cell_type": "markdown",
   "id": "ff703d86-f8b5-42dd-9672-41da889a08e7",
   "metadata": {},
   "source": [
    "## Quality Assessment"
   ]
  },
  {
   "cell_type": "markdown",
   "id": "7f03bbfe-fb90-4809-9475-af78d2707469",
   "metadata": {},
   "source": [
    "##### To achieve quality data, I followed these steps:\n",
    "\n",
    "##### 1: Defined Pandas display formats:\n",
    "*Set the display formats to better view and understand the data.*\n",
    "##### 2: Excluded unwanted data: \n",
    "*Removed irrelevant or unnecessary data to focus on what's important.*\n",
    "##### 3: Merged different tables: \n",
    "*Combined tables based on my goals and business questions to get a complete dataset.*"
   ]
  },
  {
   "cell_type": "markdown",
   "id": "c3b05ea5-60f9-4892-a729-a52cc568a232",
   "metadata": {},
   "source": [
    "### import libraries"
   ]
  },
  {
   "cell_type": "code",
   "execution_count": 2,
   "id": "ebe22b0a-d007-4b45-ad64-a4c423c12ffc",
   "metadata": {},
   "outputs": [],
   "source": [
    "import pandas as pd\n",
    "import numpy as np\n",
    "import seaborn as sns\n",
    "import matplotlib.pyplot as plt"
   ]
  },
  {
   "cell_type": "markdown",
   "id": "9d620f1f-3d24-4bd7-8212-19e0cd482ce4",
   "metadata": {},
   "source": [
    "1: Defined Pandas display formats:"
   ]
  },
  {
   "cell_type": "code",
   "execution_count": 4,
   "id": "0740d50e-e399-455d-8c9e-bade86fab4f4",
   "metadata": {},
   "outputs": [],
   "source": [
    "pd.set_option('display.float_format', lambda x: '%.2f' % x)\n",
    "pd.set_option('display.max_rows', 1000)"
   ]
  },
  {
   "cell_type": "markdown",
   "id": "855300ab-4860-489b-bdb6-d61ca5343b49",
   "metadata": {},
   "source": [
    "2,3: Excluded unwanted data &  Merged different tables:"
   ]
  },
  {
   "cell_type": "markdown",
   "id": "4c097641-4f31-4a11-8944-2f666f6c7898",
   "metadata": {},
   "source": [
    "*Let's review our business questions:*"
   ]
  },
  {
   "cell_type": "markdown",
   "id": "a21a2781-abaa-4d6f-b12c-7f368812b972",
   "metadata": {},
   "source": [
    "**1: How should products be classified into different categories to simplify reports and analysis?**\n",
    "\n",
    "**2: What is the distribution of product prices across different categories?**\n",
    "\n",
    "**3: How many products are being discounted?**\n",
    "\n",
    "**4: How big are the offered discounts as a percentage of the product prices?**\n",
    "\n",
    "**5: How do seasonality and special dates (Christmas, Black Friday) affect sales?**\n",
    "\n",
    "**6: How could data collection be improved?**"
   ]
  },
  {
   "cell_type": "markdown",
   "id": "31a024b7-66bb-4ea7-8e58-75dfe0a4a1de",
   "metadata": {},
   "source": [
    "*Lets import our data*"
   ]
  },
  {
   "cell_type": "code",
   "execution_count": 73,
   "id": "b2f1f008-4949-4cd4-83a3-e34b6aa487a7",
   "metadata": {},
   "outputs": [],
   "source": [
    "orders = pd.read_csv(\"C:\\\\My projects\\\\pandas\\\\cleaned_data\\\\orders_cleaned\")\n",
    "order_lines = pd.read_csv(\"C:\\\\My projects\\\\pandas\\\\cleaned_data\\\\orderlines_cleaned\")\n",
    "products = pd.read_csv(\"C:\\\\My projects\\\\pandas\\\\cleaned_data\\\\products_cleaned\")\n",
    "brands = pd.read_csv(\"C:\\\\My projects\\\\pandas\\\\cleaned_data\\\\brands_cleaned\")"
   ]
  },
  {
   "cell_type": "markdown",
   "id": "97e97305-7c0f-4e5b-8b6a-56c22ced7a2d",
   "metadata": {},
   "source": [
    "*When we want to remove or manipulate data, or when we need to merge tables, we should have domain knowledge about the data or consult someone who is an expert in the business concepts.*"
   ]
  },
  {
   "cell_type": "markdown",
   "id": "332d0a5c-28c1-4da8-9614-2d638ce0b45a",
   "metadata": {},
   "source": [
    "Here’s a description of each table and its columns:\n",
    "\n",
    "**orders.csv** – Every row in this file represents an order.\n",
    "\n",
    "`order_id` – a unique identifier for each order\n",
    "\n",
    "`created_date` – a timestamp for when the order was created\n",
    "\n",
    "`total_paid` – the total amount paid by the customer for this order, in euros\n",
    "state \n",
    "\n",
    "`“Shopping basket”` – products have been placed in the shopping basket\n",
    "\n",
    "`“Place Order”` – the order has been placed, but is awaiting shipment details \n",
    "\n",
    "`“Pending”` – the order is awaiting payment confirmation\n",
    "\n",
    "`“Completed”` – the order has been placed and paid, and the transaction is completed.\n",
    "\n",
    "`“Cancelled”` – the order has been cancelled and the payment returned to the customer.\n",
    "\n",
    "**orderlines.csv** – Every row represents each one of the different products involved in an order.\n",
    "\n",
    "`id` – a unique identifier for each row in this file\n",
    "\n",
    "`id_order` – corresponds to orders.order_id\n",
    "\n",
    "`product_id` – an old identifier for each product, nowadays not in use\n",
    "\n",
    "`product_quantity`– how many units of that product were purchased on that order\n",
    "\n",
    "`sku` – stock keeping unit: a unique identifier for each product\n",
    "\n",
    "`unit_price` – the unitary price (in euros) of each product at the moment of placing that order\n",
    "\n",
    "`date` – timestamp for the processing of that product\n",
    "\n",
    "**products.csv**\n",
    "\n",
    "`sku` – stock keeping unit: a unique identifier for each product\n",
    "\n",
    "`name` – product name\n",
    "\n",
    "`desc` – product description\n",
    "\n",
    "`price` – base price of the product, in euros\n",
    "\n",
    "`promo_price` – promotional price, in euros\n",
    "\n",
    "`in_stock` – whether or not the product was in stock at the moment of the data extraction\n",
    "\n",
    "`type` – a numerical code for product type\n",
    "\n",
    "**brands.csv**\n",
    "\n",
    "`short` – the 3-character code by which the brand can be identified in the first 3 characters of products.sku\n",
    "`long` – brand name"
   ]
  },
  {
   "cell_type": "markdown",
   "id": "901c0744-1050-4efe-97e2-b71763525245",
   "metadata": {},
   "source": [
    "\n",
    "\n",
    "Let's go through it step by step for each table."
   ]
  },
  {
   "cell_type": "markdown",
   "id": "f5660ace-444e-4595-a9af-866a36db150e",
   "metadata": {},
   "source": [
    "##### 1: orders"
   ]
  },
  {
   "cell_type": "code",
   "execution_count": 77,
   "id": "aadbac67-476f-4ae8-a7d4-5906f6cdaa21",
   "metadata": {},
   "outputs": [
    {
     "data": {
      "text/html": [
       "<div>\n",
       "<style scoped>\n",
       "    .dataframe tbody tr th:only-of-type {\n",
       "        vertical-align: middle;\n",
       "    }\n",
       "\n",
       "    .dataframe tbody tr th {\n",
       "        vertical-align: top;\n",
       "    }\n",
       "\n",
       "    .dataframe thead th {\n",
       "        text-align: right;\n",
       "    }\n",
       "</style>\n",
       "<table border=\"1\" class=\"dataframe\">\n",
       "  <thead>\n",
       "    <tr style=\"text-align: right;\">\n",
       "      <th></th>\n",
       "      <th>order_id</th>\n",
       "      <th>created_date</th>\n",
       "      <th>total_paid</th>\n",
       "      <th>state</th>\n",
       "    </tr>\n",
       "  </thead>\n",
       "  <tbody>\n",
       "    <tr>\n",
       "      <th>0</th>\n",
       "      <td>241319</td>\n",
       "      <td>2017-01-02 13:35:40</td>\n",
       "      <td>44.99</td>\n",
       "      <td>Cancelled</td>\n",
       "    </tr>\n",
       "    <tr>\n",
       "      <th>1</th>\n",
       "      <td>241423</td>\n",
       "      <td>2017-11-06 13:10:02</td>\n",
       "      <td>136.15</td>\n",
       "      <td>Completed</td>\n",
       "    </tr>\n",
       "    <tr>\n",
       "      <th>2</th>\n",
       "      <td>242832</td>\n",
       "      <td>2017-12-31 17:40:03</td>\n",
       "      <td>15.76</td>\n",
       "      <td>Completed</td>\n",
       "    </tr>\n",
       "    <tr>\n",
       "      <th>3</th>\n",
       "      <td>243330</td>\n",
       "      <td>2017-02-16 10:59:38</td>\n",
       "      <td>84.98</td>\n",
       "      <td>Completed</td>\n",
       "    </tr>\n",
       "    <tr>\n",
       "      <th>4</th>\n",
       "      <td>243784</td>\n",
       "      <td>2017-11-24 13:35:19</td>\n",
       "      <td>157.86</td>\n",
       "      <td>Cancelled</td>\n",
       "    </tr>\n",
       "  </tbody>\n",
       "</table>\n",
       "</div>"
      ],
      "text/plain": [
       "   order_id         created_date  total_paid      state\n",
       "0    241319  2017-01-02 13:35:40       44.99  Cancelled\n",
       "1    241423  2017-11-06 13:10:02      136.15  Completed\n",
       "2    242832  2017-12-31 17:40:03       15.76  Completed\n",
       "3    243330  2017-02-16 10:59:38       84.98  Completed\n",
       "4    243784  2017-11-24 13:35:19      157.86  Cancelled"
      ]
     },
     "execution_count": 77,
     "metadata": {},
     "output_type": "execute_result"
    }
   ],
   "source": [
    "orders.head()"
   ]
  },
  {
   "cell_type": "markdown",
   "id": "2609371d-9eea-43b5-9b57-539027f07e4a",
   "metadata": {},
   "source": [
    "For the first step, I want to extract the months and years from `created_date` because it helps me interpret the effect of seasonality and special days on sales."
   ]
  },
  {
   "cell_type": "code",
   "execution_count": 83,
   "id": "669a6c41-108f-4bf5-b777-94b434b2c366",
   "metadata": {},
   "outputs": [
    {
     "ename": "AttributeError",
     "evalue": "Can only use .dt accessor with datetimelike values",
     "output_type": "error",
     "traceback": [
      "\u001b[1;31m---------------------------------------------------------------------------\u001b[0m",
      "\u001b[1;31mAttributeError\u001b[0m                            Traceback (most recent call last)",
      "Cell \u001b[1;32mIn[83], line 1\u001b[0m\n\u001b[1;32m----> 1\u001b[0m orders[\u001b[38;5;124m'\u001b[39m\u001b[38;5;124mmonth\u001b[39m\u001b[38;5;124m'\u001b[39m] \u001b[38;5;241m=\u001b[39m orders[\u001b[38;5;124m'\u001b[39m\u001b[38;5;124mcreated_date\u001b[39m\u001b[38;5;124m'\u001b[39m]\u001b[38;5;241m.\u001b[39mdt\u001b[38;5;241m.\u001b[39mmonth\n",
      "File \u001b[1;32m~\\anaconda3\\Lib\\site-packages\\pandas\\core\\generic.py:6299\u001b[0m, in \u001b[0;36mNDFrame.__getattr__\u001b[1;34m(self, name)\u001b[0m\n\u001b[0;32m   6292\u001b[0m \u001b[38;5;28;01mif\u001b[39;00m (\n\u001b[0;32m   6293\u001b[0m     name \u001b[38;5;129;01mnot\u001b[39;00m \u001b[38;5;129;01min\u001b[39;00m \u001b[38;5;28mself\u001b[39m\u001b[38;5;241m.\u001b[39m_internal_names_set\n\u001b[0;32m   6294\u001b[0m     \u001b[38;5;129;01mand\u001b[39;00m name \u001b[38;5;129;01mnot\u001b[39;00m \u001b[38;5;129;01min\u001b[39;00m \u001b[38;5;28mself\u001b[39m\u001b[38;5;241m.\u001b[39m_metadata\n\u001b[0;32m   6295\u001b[0m     \u001b[38;5;129;01mand\u001b[39;00m name \u001b[38;5;129;01mnot\u001b[39;00m \u001b[38;5;129;01min\u001b[39;00m \u001b[38;5;28mself\u001b[39m\u001b[38;5;241m.\u001b[39m_accessors\n\u001b[0;32m   6296\u001b[0m     \u001b[38;5;129;01mand\u001b[39;00m \u001b[38;5;28mself\u001b[39m\u001b[38;5;241m.\u001b[39m_info_axis\u001b[38;5;241m.\u001b[39m_can_hold_identifiers_and_holds_name(name)\n\u001b[0;32m   6297\u001b[0m ):\n\u001b[0;32m   6298\u001b[0m     \u001b[38;5;28;01mreturn\u001b[39;00m \u001b[38;5;28mself\u001b[39m[name]\n\u001b[1;32m-> 6299\u001b[0m \u001b[38;5;28;01mreturn\u001b[39;00m \u001b[38;5;28mobject\u001b[39m\u001b[38;5;241m.\u001b[39m\u001b[38;5;21m__getattribute__\u001b[39m(\u001b[38;5;28mself\u001b[39m, name)\n",
      "File \u001b[1;32m~\\anaconda3\\Lib\\site-packages\\pandas\\core\\accessor.py:224\u001b[0m, in \u001b[0;36mCachedAccessor.__get__\u001b[1;34m(self, obj, cls)\u001b[0m\n\u001b[0;32m    221\u001b[0m \u001b[38;5;28;01mif\u001b[39;00m obj \u001b[38;5;129;01mis\u001b[39;00m \u001b[38;5;28;01mNone\u001b[39;00m:\n\u001b[0;32m    222\u001b[0m     \u001b[38;5;66;03m# we're accessing the attribute of the class, i.e., Dataset.geo\u001b[39;00m\n\u001b[0;32m    223\u001b[0m     \u001b[38;5;28;01mreturn\u001b[39;00m \u001b[38;5;28mself\u001b[39m\u001b[38;5;241m.\u001b[39m_accessor\n\u001b[1;32m--> 224\u001b[0m accessor_obj \u001b[38;5;241m=\u001b[39m \u001b[38;5;28mself\u001b[39m\u001b[38;5;241m.\u001b[39m_accessor(obj)\n\u001b[0;32m    225\u001b[0m \u001b[38;5;66;03m# Replace the property with the accessor object. Inspired by:\u001b[39;00m\n\u001b[0;32m    226\u001b[0m \u001b[38;5;66;03m# https://www.pydanny.com/cached-property.html\u001b[39;00m\n\u001b[0;32m    227\u001b[0m \u001b[38;5;66;03m# We need to use object.__setattr__ because we overwrite __setattr__ on\u001b[39;00m\n\u001b[0;32m    228\u001b[0m \u001b[38;5;66;03m# NDFrame\u001b[39;00m\n\u001b[0;32m    229\u001b[0m \u001b[38;5;28mobject\u001b[39m\u001b[38;5;241m.\u001b[39m\u001b[38;5;21m__setattr__\u001b[39m(obj, \u001b[38;5;28mself\u001b[39m\u001b[38;5;241m.\u001b[39m_name, accessor_obj)\n",
      "File \u001b[1;32m~\\anaconda3\\Lib\\site-packages\\pandas\\core\\indexes\\accessors.py:643\u001b[0m, in \u001b[0;36mCombinedDatetimelikeProperties.__new__\u001b[1;34m(cls, data)\u001b[0m\n\u001b[0;32m    640\u001b[0m \u001b[38;5;28;01melif\u001b[39;00m \u001b[38;5;28misinstance\u001b[39m(data\u001b[38;5;241m.\u001b[39mdtype, PeriodDtype):\n\u001b[0;32m    641\u001b[0m     \u001b[38;5;28;01mreturn\u001b[39;00m PeriodProperties(data, orig)\n\u001b[1;32m--> 643\u001b[0m \u001b[38;5;28;01mraise\u001b[39;00m \u001b[38;5;167;01mAttributeError\u001b[39;00m(\u001b[38;5;124m\"\u001b[39m\u001b[38;5;124mCan only use .dt accessor with datetimelike values\u001b[39m\u001b[38;5;124m\"\u001b[39m)\n",
      "\u001b[1;31mAttributeError\u001b[0m: Can only use .dt accessor with datetimelike values"
     ]
    }
   ],
   "source": [
    "orders['month'] = orders['created_date'].dt.month"
   ]
  },
  {
   "cell_type": "markdown",
   "id": "52f1bb8e-65d6-4f25-8cf4-990463004fc2",
   "metadata": {},
   "source": [
    "What is this error?\n",
    "\n",
    "Let's check `orders.info()`"
   ]
  },
  {
   "cell_type": "code",
   "execution_count": 85,
   "id": "1f793f18-c1bd-43bd-b3ee-fc00fb1266b3",
   "metadata": {},
   "outputs": [
    {
     "name": "stdout",
     "output_type": "stream",
     "text": [
      "<class 'pandas.core.frame.DataFrame'>\n",
      "RangeIndex: 226904 entries, 0 to 226903\n",
      "Data columns (total 4 columns):\n",
      " #   Column        Non-Null Count   Dtype  \n",
      "---  ------        --------------   -----  \n",
      " 0   order_id      226904 non-null  int64  \n",
      " 1   created_date  226904 non-null  object \n",
      " 2   total_paid    226904 non-null  float64\n",
      " 3   state         226904 non-null  object \n",
      "dtypes: float64(1), int64(1), object(2)\n",
      "memory usage: 6.9+ MB\n"
     ]
    }
   ],
   "source": [
    "orders.info()"
   ]
  },
  {
   "cell_type": "markdown",
   "id": "076c0c49-d04a-4112-a955-a981cd2c6b2a",
   "metadata": {},
   "source": [
    "If you remember, in the previous notebook (cleaning), we changed the data type of `created_date` to datetime. However, now it has become \"object\". Why is that?"
   ]
  },
  {
   "cell_type": "markdown",
   "id": "88f9f2c4-3406-44eb-bd4b-50cd9cadd0bd",
   "metadata": {},
   "source": [
    "This happens because, when we save the cleaned data (most likely as a CSV), Pandas includes the index from the original DataFrame as a column by default. When we load the data back into another Jupyter notebook, Pandas interprets that column as regular data instead of the index.\n",
    "\n",
    "This issue occurs because when we save the DataFrame as a CSV file and then load it back, Pandas may not preserve the datetime64 data type by default.\n",
    "\n",
    "Instead, it treats the created_date column as an \"object\" (which is typically a string), losing its original datetime64[ns] format.\n",
    "\n",
    "**Why this happens**:\n",
    "\n",
    "When we save the DataFrame as a CSV, the datetime column is converted into a string format (since CSVs store data as text).\n",
    "\n",
    "When we load the CSV back, Pandas does not automatically convert the string back into a datetime object unless explicitly instructed to do so.\n",
    "\n",
    "\n",
    "\n",
    "\n",
    "\n",
    "\n",
    "\n",
    "\n",
    "**How to fix it**:\n",
    "\n",
    "We convert the created_date column back to datetime after loading the CSV"
   ]
  },
  {
   "cell_type": "code",
   "execution_count": 87,
   "id": "e3b660e4-bfba-4a43-b1fd-9e95daac9b10",
   "metadata": {},
   "outputs": [],
   "source": [
    "orders['created_date'] = pd.to_datetime(orders['created_date'])"
   ]
  },
  {
   "cell_type": "code",
   "execution_count": 89,
   "id": "d3e23f2d-c660-45ae-83e3-e01e63be57a2",
   "metadata": {},
   "outputs": [
    {
     "name": "stdout",
     "output_type": "stream",
     "text": [
      "<class 'pandas.core.frame.DataFrame'>\n",
      "RangeIndex: 226904 entries, 0 to 226903\n",
      "Data columns (total 4 columns):\n",
      " #   Column        Non-Null Count   Dtype         \n",
      "---  ------        --------------   -----         \n",
      " 0   order_id      226904 non-null  int64         \n",
      " 1   created_date  226904 non-null  datetime64[ns]\n",
      " 2   total_paid    226904 non-null  float64       \n",
      " 3   state         226904 non-null  object        \n",
      "dtypes: datetime64[ns](1), float64(1), int64(1), object(1)\n",
      "memory usage: 6.9+ MB\n"
     ]
    }
   ],
   "source": [
    "orders.info()"
   ]
  },
  {
   "cell_type": "code",
   "execution_count": 97,
   "id": "1ccd434a-e164-4709-a941-5d046b38875c",
   "metadata": {},
   "outputs": [],
   "source": [
    "orders['month'] = orders['created_date'].dt.month_name()"
   ]
  },
  {
   "cell_type": "code",
   "execution_count": 99,
   "id": "361ca2fa-300e-4250-9fdf-787a142a5991",
   "metadata": {},
   "outputs": [],
   "source": [
    "orders['year'] = orders['created_date'].dt.year"
   ]
  },
  {
   "cell_type": "code",
   "execution_count": 101,
   "id": "5a6c4418-db94-4a05-9dfa-452d63445633",
   "metadata": {},
   "outputs": [
    {
     "data": {
      "text/html": [
       "<div>\n",
       "<style scoped>\n",
       "    .dataframe tbody tr th:only-of-type {\n",
       "        vertical-align: middle;\n",
       "    }\n",
       "\n",
       "    .dataframe tbody tr th {\n",
       "        vertical-align: top;\n",
       "    }\n",
       "\n",
       "    .dataframe thead th {\n",
       "        text-align: right;\n",
       "    }\n",
       "</style>\n",
       "<table border=\"1\" class=\"dataframe\">\n",
       "  <thead>\n",
       "    <tr style=\"text-align: right;\">\n",
       "      <th></th>\n",
       "      <th>order_id</th>\n",
       "      <th>created_date</th>\n",
       "      <th>total_paid</th>\n",
       "      <th>state</th>\n",
       "      <th>month</th>\n",
       "      <th>year</th>\n",
       "    </tr>\n",
       "  </thead>\n",
       "  <tbody>\n",
       "    <tr>\n",
       "      <th>0</th>\n",
       "      <td>241319</td>\n",
       "      <td>2017-01-02 13:35:40</td>\n",
       "      <td>44.99</td>\n",
       "      <td>Cancelled</td>\n",
       "      <td>January</td>\n",
       "      <td>2017</td>\n",
       "    </tr>\n",
       "    <tr>\n",
       "      <th>1</th>\n",
       "      <td>241423</td>\n",
       "      <td>2017-11-06 13:10:02</td>\n",
       "      <td>136.15</td>\n",
       "      <td>Completed</td>\n",
       "      <td>November</td>\n",
       "      <td>2017</td>\n",
       "    </tr>\n",
       "    <tr>\n",
       "      <th>2</th>\n",
       "      <td>242832</td>\n",
       "      <td>2017-12-31 17:40:03</td>\n",
       "      <td>15.76</td>\n",
       "      <td>Completed</td>\n",
       "      <td>December</td>\n",
       "      <td>2017</td>\n",
       "    </tr>\n",
       "    <tr>\n",
       "      <th>3</th>\n",
       "      <td>243330</td>\n",
       "      <td>2017-02-16 10:59:38</td>\n",
       "      <td>84.98</td>\n",
       "      <td>Completed</td>\n",
       "      <td>February</td>\n",
       "      <td>2017</td>\n",
       "    </tr>\n",
       "    <tr>\n",
       "      <th>4</th>\n",
       "      <td>243784</td>\n",
       "      <td>2017-11-24 13:35:19</td>\n",
       "      <td>157.86</td>\n",
       "      <td>Cancelled</td>\n",
       "      <td>November</td>\n",
       "      <td>2017</td>\n",
       "    </tr>\n",
       "  </tbody>\n",
       "</table>\n",
       "</div>"
      ],
      "text/plain": [
       "   order_id        created_date  total_paid      state     month  year\n",
       "0    241319 2017-01-02 13:35:40       44.99  Cancelled   January  2017\n",
       "1    241423 2017-11-06 13:10:02      136.15  Completed  November  2017\n",
       "2    242832 2017-12-31 17:40:03       15.76  Completed  December  2017\n",
       "3    243330 2017-02-16 10:59:38       84.98  Completed  February  2017\n",
       "4    243784 2017-11-24 13:35:19      157.86  Cancelled  November  2017"
      ]
     },
     "execution_count": 101,
     "metadata": {},
     "output_type": "execute_result"
    }
   ],
   "source": [
    "orders.head()"
   ]
  },
  {
   "cell_type": "code",
   "execution_count": 105,
   "id": "ecb2705b-def3-4922-a292-112254426cf8",
   "metadata": {},
   "outputs": [],
   "source": [
    "orders.drop('created_date' , axis = 1, inplace = True)"
   ]
  },
  {
   "cell_type": "code",
   "execution_count": 107,
   "id": "f486f64f-5ab1-4851-9427-79669936480f",
   "metadata": {},
   "outputs": [
    {
     "data": {
      "text/html": [
       "<div>\n",
       "<style scoped>\n",
       "    .dataframe tbody tr th:only-of-type {\n",
       "        vertical-align: middle;\n",
       "    }\n",
       "\n",
       "    .dataframe tbody tr th {\n",
       "        vertical-align: top;\n",
       "    }\n",
       "\n",
       "    .dataframe thead th {\n",
       "        text-align: right;\n",
       "    }\n",
       "</style>\n",
       "<table border=\"1\" class=\"dataframe\">\n",
       "  <thead>\n",
       "    <tr style=\"text-align: right;\">\n",
       "      <th></th>\n",
       "      <th>order_id</th>\n",
       "      <th>total_paid</th>\n",
       "      <th>state</th>\n",
       "      <th>month</th>\n",
       "      <th>year</th>\n",
       "    </tr>\n",
       "  </thead>\n",
       "  <tbody>\n",
       "    <tr>\n",
       "      <th>0</th>\n",
       "      <td>241319</td>\n",
       "      <td>44.99</td>\n",
       "      <td>Cancelled</td>\n",
       "      <td>January</td>\n",
       "      <td>2017</td>\n",
       "    </tr>\n",
       "    <tr>\n",
       "      <th>1</th>\n",
       "      <td>241423</td>\n",
       "      <td>136.15</td>\n",
       "      <td>Completed</td>\n",
       "      <td>November</td>\n",
       "      <td>2017</td>\n",
       "    </tr>\n",
       "    <tr>\n",
       "      <th>2</th>\n",
       "      <td>242832</td>\n",
       "      <td>15.76</td>\n",
       "      <td>Completed</td>\n",
       "      <td>December</td>\n",
       "      <td>2017</td>\n",
       "    </tr>\n",
       "    <tr>\n",
       "      <th>3</th>\n",
       "      <td>243330</td>\n",
       "      <td>84.98</td>\n",
       "      <td>Completed</td>\n",
       "      <td>February</td>\n",
       "      <td>2017</td>\n",
       "    </tr>\n",
       "    <tr>\n",
       "      <th>4</th>\n",
       "      <td>243784</td>\n",
       "      <td>157.86</td>\n",
       "      <td>Cancelled</td>\n",
       "      <td>November</td>\n",
       "      <td>2017</td>\n",
       "    </tr>\n",
       "  </tbody>\n",
       "</table>\n",
       "</div>"
      ],
      "text/plain": [
       "   order_id  total_paid      state     month  year\n",
       "0    241319       44.99  Cancelled   January  2017\n",
       "1    241423      136.15  Completed  November  2017\n",
       "2    242832       15.76  Completed  December  2017\n",
       "3    243330       84.98  Completed  February  2017\n",
       "4    243784      157.86  Cancelled  November  2017"
      ]
     },
     "execution_count": 107,
     "metadata": {},
     "output_type": "execute_result"
    }
   ],
   "source": [
    "orders.head()"
   ]
  },
  {
   "cell_type": "markdown",
   "id": "629b6698-53c0-4841-aa0b-9ad8787da1cc",
   "metadata": {},
   "source": [
    "#### 2: order_lines"
   ]
  },
  {
   "cell_type": "code",
   "execution_count": 110,
   "id": "82ad6b23-8e46-485a-bf5a-6959a112bd4a",
   "metadata": {},
   "outputs": [
    {
     "data": {
      "text/html": [
       "<div>\n",
       "<style scoped>\n",
       "    .dataframe tbody tr th:only-of-type {\n",
       "        vertical-align: middle;\n",
       "    }\n",
       "\n",
       "    .dataframe tbody tr th {\n",
       "        vertical-align: top;\n",
       "    }\n",
       "\n",
       "    .dataframe thead th {\n",
       "        text-align: right;\n",
       "    }\n",
       "</style>\n",
       "<table border=\"1\" class=\"dataframe\">\n",
       "  <thead>\n",
       "    <tr style=\"text-align: right;\">\n",
       "      <th></th>\n",
       "      <th>id</th>\n",
       "      <th>id_order</th>\n",
       "      <th>product_id</th>\n",
       "      <th>product_quantity</th>\n",
       "      <th>sku</th>\n",
       "      <th>unit_price</th>\n",
       "      <th>date</th>\n",
       "    </tr>\n",
       "  </thead>\n",
       "  <tbody>\n",
       "    <tr>\n",
       "      <th>0</th>\n",
       "      <td>1119109</td>\n",
       "      <td>299539</td>\n",
       "      <td>0</td>\n",
       "      <td>1</td>\n",
       "      <td>OTT0133</td>\n",
       "      <td>18.99</td>\n",
       "      <td>2017-01-01 00:07:19</td>\n",
       "    </tr>\n",
       "    <tr>\n",
       "      <th>1</th>\n",
       "      <td>1119110</td>\n",
       "      <td>299540</td>\n",
       "      <td>0</td>\n",
       "      <td>1</td>\n",
       "      <td>LGE0043</td>\n",
       "      <td>399.00</td>\n",
       "      <td>2017-01-01 00:19:45</td>\n",
       "    </tr>\n",
       "    <tr>\n",
       "      <th>2</th>\n",
       "      <td>1119111</td>\n",
       "      <td>299541</td>\n",
       "      <td>0</td>\n",
       "      <td>1</td>\n",
       "      <td>PAR0071</td>\n",
       "      <td>474.05</td>\n",
       "      <td>2017-01-01 00:20:57</td>\n",
       "    </tr>\n",
       "    <tr>\n",
       "      <th>3</th>\n",
       "      <td>1119112</td>\n",
       "      <td>299542</td>\n",
       "      <td>0</td>\n",
       "      <td>1</td>\n",
       "      <td>WDT0315</td>\n",
       "      <td>68.39</td>\n",
       "      <td>2017-01-01 00:51:40</td>\n",
       "    </tr>\n",
       "    <tr>\n",
       "      <th>4</th>\n",
       "      <td>1119113</td>\n",
       "      <td>299543</td>\n",
       "      <td>0</td>\n",
       "      <td>1</td>\n",
       "      <td>JBL0104</td>\n",
       "      <td>23.74</td>\n",
       "      <td>2017-01-01 01:06:38</td>\n",
       "    </tr>\n",
       "  </tbody>\n",
       "</table>\n",
       "</div>"
      ],
      "text/plain": [
       "        id  id_order  product_id  product_quantity      sku  unit_price  \\\n",
       "0  1119109    299539           0                 1  OTT0133       18.99   \n",
       "1  1119110    299540           0                 1  LGE0043      399.00   \n",
       "2  1119111    299541           0                 1  PAR0071      474.05   \n",
       "3  1119112    299542           0                 1  WDT0315       68.39   \n",
       "4  1119113    299543           0                 1  JBL0104       23.74   \n",
       "\n",
       "                  date  \n",
       "0  2017-01-01 00:07:19  \n",
       "1  2017-01-01 00:19:45  \n",
       "2  2017-01-01 00:20:57  \n",
       "3  2017-01-01 00:51:40  \n",
       "4  2017-01-01 01:06:38  "
      ]
     },
     "execution_count": 110,
     "metadata": {},
     "output_type": "execute_result"
    }
   ],
   "source": [
    "order_lines.head()"
   ]
  },
  {
   "cell_type": "markdown",
   "id": "cb53cd3d-452b-470d-a104-627aa56e718e",
   "metadata": {},
   "source": [
    "We have these information:\n",
    "\n",
    "1- `product_id` is an old identifier for each product, nowadays not in use.\n",
    "\n",
    "2- `id` is a unique identifier for each row in this file\n",
    "\n",
    "3- `date` is timestamp for the processing of that product\n",
    "\n",
    "\n",
    "For this analysis I don't need timestamp of processing, so very simple I delete these columns\n",
    "\n"
   ]
  },
  {
   "cell_type": "code",
   "execution_count": 118,
   "id": "8bd45878-3925-4eda-84ef-c23a1d399510",
   "metadata": {},
   "outputs": [],
   "source": [
    "order_lines.drop(columns= ['product_id', 'id', 'date'] , inplace = True)"
   ]
  },
  {
   "cell_type": "code",
   "execution_count": 120,
   "id": "b92494a7-9b49-4694-b30d-7eae500a7918",
   "metadata": {},
   "outputs": [
    {
     "data": {
      "text/html": [
       "<div>\n",
       "<style scoped>\n",
       "    .dataframe tbody tr th:only-of-type {\n",
       "        vertical-align: middle;\n",
       "    }\n",
       "\n",
       "    .dataframe tbody tr th {\n",
       "        vertical-align: top;\n",
       "    }\n",
       "\n",
       "    .dataframe thead th {\n",
       "        text-align: right;\n",
       "    }\n",
       "</style>\n",
       "<table border=\"1\" class=\"dataframe\">\n",
       "  <thead>\n",
       "    <tr style=\"text-align: right;\">\n",
       "      <th></th>\n",
       "      <th>id_order</th>\n",
       "      <th>product_quantity</th>\n",
       "      <th>sku</th>\n",
       "      <th>unit_price</th>\n",
       "    </tr>\n",
       "  </thead>\n",
       "  <tbody>\n",
       "    <tr>\n",
       "      <th>0</th>\n",
       "      <td>299539</td>\n",
       "      <td>1</td>\n",
       "      <td>OTT0133</td>\n",
       "      <td>18.99</td>\n",
       "    </tr>\n",
       "    <tr>\n",
       "      <th>1</th>\n",
       "      <td>299540</td>\n",
       "      <td>1</td>\n",
       "      <td>LGE0043</td>\n",
       "      <td>399.00</td>\n",
       "    </tr>\n",
       "    <tr>\n",
       "      <th>2</th>\n",
       "      <td>299541</td>\n",
       "      <td>1</td>\n",
       "      <td>PAR0071</td>\n",
       "      <td>474.05</td>\n",
       "    </tr>\n",
       "    <tr>\n",
       "      <th>3</th>\n",
       "      <td>299542</td>\n",
       "      <td>1</td>\n",
       "      <td>WDT0315</td>\n",
       "      <td>68.39</td>\n",
       "    </tr>\n",
       "    <tr>\n",
       "      <th>4</th>\n",
       "      <td>299543</td>\n",
       "      <td>1</td>\n",
       "      <td>JBL0104</td>\n",
       "      <td>23.74</td>\n",
       "    </tr>\n",
       "  </tbody>\n",
       "</table>\n",
       "</div>"
      ],
      "text/plain": [
       "   id_order  product_quantity      sku  unit_price\n",
       "0    299539                 1  OTT0133       18.99\n",
       "1    299540                 1  LGE0043      399.00\n",
       "2    299541                 1  PAR0071      474.05\n",
       "3    299542                 1  WDT0315       68.39\n",
       "4    299543                 1  JBL0104       23.74"
      ]
     },
     "execution_count": 120,
     "metadata": {},
     "output_type": "execute_result"
    }
   ],
   "source": [
    "order_lines.head()"
   ]
  },
  {
   "cell_type": "markdown",
   "id": "c79632d8-c102-4838-a0bf-1dc466f6bae7",
   "metadata": {},
   "source": [
    "#### 3: products"
   ]
  },
  {
   "cell_type": "code",
   "execution_count": 123,
   "id": "5fa8d93e-f73f-43a5-b701-bd0fedc03247",
   "metadata": {},
   "outputs": [
    {
     "data": {
      "text/html": [
       "<div>\n",
       "<style scoped>\n",
       "    .dataframe tbody tr th:only-of-type {\n",
       "        vertical-align: middle;\n",
       "    }\n",
       "\n",
       "    .dataframe tbody tr th {\n",
       "        vertical-align: top;\n",
       "    }\n",
       "\n",
       "    .dataframe thead th {\n",
       "        text-align: right;\n",
       "    }\n",
       "</style>\n",
       "<table border=\"1\" class=\"dataframe\">\n",
       "  <thead>\n",
       "    <tr style=\"text-align: right;\">\n",
       "      <th></th>\n",
       "      <th>sku</th>\n",
       "      <th>name</th>\n",
       "      <th>desc</th>\n",
       "      <th>price</th>\n",
       "      <th>promo_price</th>\n",
       "      <th>in_stock</th>\n",
       "    </tr>\n",
       "  </thead>\n",
       "  <tbody>\n",
       "    <tr>\n",
       "      <th>0</th>\n",
       "      <td>RAI0007</td>\n",
       "      <td>Silver Rain Design mStand Support</td>\n",
       "      <td>Aluminum support compatible with all MacBook</td>\n",
       "      <td>59.99</td>\n",
       "      <td>499.90</td>\n",
       "      <td>1</td>\n",
       "    </tr>\n",
       "    <tr>\n",
       "      <th>1</th>\n",
       "      <td>APP0023</td>\n",
       "      <td>Apple Mac Keyboard Keypad Spanish</td>\n",
       "      <td>USB ultrathin keyboard Apple Mac Spanish.</td>\n",
       "      <td>59.00</td>\n",
       "      <td>590.00</td>\n",
       "      <td>0</td>\n",
       "    </tr>\n",
       "    <tr>\n",
       "      <th>2</th>\n",
       "      <td>APP0025</td>\n",
       "      <td>Mighty Mouse Apple Mouse for Mac</td>\n",
       "      <td>mouse Apple USB cable.</td>\n",
       "      <td>59.00</td>\n",
       "      <td>569.90</td>\n",
       "      <td>0</td>\n",
       "    </tr>\n",
       "    <tr>\n",
       "      <th>3</th>\n",
       "      <td>APP0072</td>\n",
       "      <td>Apple Dock to USB Cable iPhone and iPod white</td>\n",
       "      <td>IPhone dock and USB Cable Apple iPod.</td>\n",
       "      <td>25.00</td>\n",
       "      <td>230.00</td>\n",
       "      <td>0</td>\n",
       "    </tr>\n",
       "    <tr>\n",
       "      <th>4</th>\n",
       "      <td>KIN0007</td>\n",
       "      <td>Mac Memory Kingston 2GB 667MHz DDR2 SO-DIMM</td>\n",
       "      <td>2GB RAM Mac mini and iMac (2006/07) MacBook Pr...</td>\n",
       "      <td>34.99</td>\n",
       "      <td>31.99</td>\n",
       "      <td>1</td>\n",
       "    </tr>\n",
       "  </tbody>\n",
       "</table>\n",
       "</div>"
      ],
      "text/plain": [
       "       sku                                           name  \\\n",
       "0  RAI0007              Silver Rain Design mStand Support   \n",
       "1  APP0023              Apple Mac Keyboard Keypad Spanish   \n",
       "2  APP0025               Mighty Mouse Apple Mouse for Mac   \n",
       "3  APP0072  Apple Dock to USB Cable iPhone and iPod white   \n",
       "4  KIN0007    Mac Memory Kingston 2GB 667MHz DDR2 SO-DIMM   \n",
       "\n",
       "                                                desc  price  promo_price  \\\n",
       "0       Aluminum support compatible with all MacBook  59.99       499.90   \n",
       "1          USB ultrathin keyboard Apple Mac Spanish.  59.00       590.00   \n",
       "2                             mouse Apple USB cable.  59.00       569.90   \n",
       "3              IPhone dock and USB Cable Apple iPod.  25.00       230.00   \n",
       "4  2GB RAM Mac mini and iMac (2006/07) MacBook Pr...  34.99        31.99   \n",
       "\n",
       "   in_stock  \n",
       "0         1  \n",
       "1         0  \n",
       "2         0  \n",
       "3         0  \n",
       "4         1  "
      ]
     },
     "execution_count": 123,
     "metadata": {},
     "output_type": "execute_result"
    }
   ],
   "source": [
    "products.head()"
   ]
  },
  {
   "cell_type": "code",
   "execution_count": 125,
   "id": "e9531b41-8f94-4a5d-ba2c-0a606604d6d0",
   "metadata": {},
   "outputs": [
    {
     "name": "stdout",
     "output_type": "stream",
     "text": [
      "<class 'pandas.core.frame.DataFrame'>\n",
      "RangeIndex: 10477 entries, 0 to 10476\n",
      "Data columns (total 6 columns):\n",
      " #   Column       Non-Null Count  Dtype  \n",
      "---  ------       --------------  -----  \n",
      " 0   sku          10477 non-null  object \n",
      " 1   name         10477 non-null  object \n",
      " 2   desc         10477 non-null  object \n",
      " 3   price        10477 non-null  float64\n",
      " 4   promo_price  10477 non-null  float64\n",
      " 5   in_stock     10477 non-null  int64  \n",
      "dtypes: float64(2), int64(1), object(3)\n",
      "memory usage: 491.2+ KB\n"
     ]
    }
   ],
   "source": [
    "products.info()"
   ]
  },
  {
   "cell_type": "markdown",
   "id": "ef847efa-bc7a-43c4-bdad-b579c7d88f07",
   "metadata": {},
   "source": [
    "*It sounds good, let's look at the last table*"
   ]
  },
  {
   "cell_type": "markdown",
   "id": "56b565da-e3b8-4549-ad8d-c1c30e2140bb",
   "metadata": {},
   "source": [
    "#### 4: brands"
   ]
  },
  {
   "cell_type": "code",
   "execution_count": 129,
   "id": "98d0dc83-c5d4-4760-87a3-6066c9e33f65",
   "metadata": {},
   "outputs": [
    {
     "data": {
      "text/html": [
       "<div>\n",
       "<style scoped>\n",
       "    .dataframe tbody tr th:only-of-type {\n",
       "        vertical-align: middle;\n",
       "    }\n",
       "\n",
       "    .dataframe tbody tr th {\n",
       "        vertical-align: top;\n",
       "    }\n",
       "\n",
       "    .dataframe thead th {\n",
       "        text-align: right;\n",
       "    }\n",
       "</style>\n",
       "<table border=\"1\" class=\"dataframe\">\n",
       "  <thead>\n",
       "    <tr style=\"text-align: right;\">\n",
       "      <th></th>\n",
       "      <th>short</th>\n",
       "      <th>long</th>\n",
       "    </tr>\n",
       "  </thead>\n",
       "  <tbody>\n",
       "    <tr>\n",
       "      <th>0</th>\n",
       "      <td>8MO</td>\n",
       "      <td>8Mobility</td>\n",
       "    </tr>\n",
       "    <tr>\n",
       "      <th>1</th>\n",
       "      <td>ACM</td>\n",
       "      <td>Acme</td>\n",
       "    </tr>\n",
       "    <tr>\n",
       "      <th>2</th>\n",
       "      <td>ADN</td>\n",
       "      <td>Adonit</td>\n",
       "    </tr>\n",
       "    <tr>\n",
       "      <th>3</th>\n",
       "      <td>AII</td>\n",
       "      <td>Aiino</td>\n",
       "    </tr>\n",
       "    <tr>\n",
       "      <th>4</th>\n",
       "      <td>AKI</td>\n",
       "      <td>Akitio</td>\n",
       "    </tr>\n",
       "  </tbody>\n",
       "</table>\n",
       "</div>"
      ],
      "text/plain": [
       "  short       long\n",
       "0   8MO  8Mobility\n",
       "1   ACM       Acme\n",
       "2   ADN     Adonit\n",
       "3   AII      Aiino\n",
       "4   AKI     Akitio"
      ]
     },
     "execution_count": 129,
     "metadata": {},
     "output_type": "execute_result"
    }
   ],
   "source": [
    "brands.head()"
   ]
  },
  {
   "cell_type": "markdown",
   "id": "db41cb08-8e1f-4d64-9750-558868c8d4c9",
   "metadata": {},
   "source": [
    "This thable also is good. Now, I want to save them as `quality_data`"
   ]
  },
  {
   "cell_type": "code",
   "execution_count": null,
   "id": "1fb2b45b-5451-4d85-b97c-9d7f3a6493d9",
   "metadata": {},
   "outputs": [],
   "source": [
    "orders.to_csv(f'C:\\\\My projects\\\\pandas\\\\quality_data\\\\orders_q')\n",
    "order_lines.to_csv(f'C:\\\\My projects\\\\pandas\\\\quality_data\\\\orderlines_q')\n",
    "products.to_csv(f'C:\\\\My projects\\\\pandas\\\\quality_data\\\\products_q')\n",
    "brands.to_csv(order_lines.to_csv(f'C:\\\\My projects\\\\pandas\\\\quality_data\\\\orderlines_q')"
   ]
  }
 ],
 "metadata": {
  "kernelspec": {
   "display_name": "Python 3 (ipykernel)",
   "language": "python",
   "name": "python3"
  },
  "language_info": {
   "codemirror_mode": {
    "name": "ipython",
    "version": 3
   },
   "file_extension": ".py",
   "mimetype": "text/x-python",
   "name": "python",
   "nbconvert_exporter": "python",
   "pygments_lexer": "ipython3",
   "version": "3.12.4"
  }
 },
 "nbformat": 4,
 "nbformat_minor": 5
}
