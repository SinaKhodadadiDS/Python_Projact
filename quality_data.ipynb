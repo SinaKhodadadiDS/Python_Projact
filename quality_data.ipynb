{
 "cells": [
  {
   "cell_type": "markdown",
   "id": "ff703d86-f8b5-42dd-9672-41da889a08e7",
   "metadata": {},
   "source": [
    "## Quality Assessment"
   ]
  },
  {
   "cell_type": "markdown",
   "id": "7f03bbfe-fb90-4809-9475-af78d2707469",
   "metadata": {},
   "source": [
    "To have high-quality data, I want to follow these 4 steps:\n",
    "\n",
    "\n",
    "🧩 **Step 1**: Define the pandas display format.\n",
    "\n",
    "🧩 **Step 2**: Exclude unwanted orders.\n",
    "\n",
    "🧩 **Step 3**: Exclude orders with unknown products.\n",
    "\n",
    "🧩 **Step 4**: Explore the revenue from different tables.\n",
    "\n",
    "🧩 **Step 5**: Become confident about your dataset."
   ]
  },
  {
   "cell_type": "markdown",
   "id": "c3b05ea5-60f9-4892-a729-a52cc568a232",
   "metadata": {},
   "source": [
    "### import libraries"
   ]
  },
  {
   "cell_type": "code",
   "execution_count": 1,
   "id": "ebe22b0a-d007-4b45-ad64-a4c423c12ffc",
   "metadata": {},
   "outputs": [],
   "source": [
    "import pandas as pd\n",
    "import numpy as np\n",
    "import seaborn as sns\n",
    "import matplotlib.pyplot as plt"
   ]
  },
  {
   "cell_type": "markdown",
   "id": "9d620f1f-3d24-4bd7-8212-19e0cd482ce4",
   "metadata": {},
   "source": [
    "### Step 1. Defined Pandas display formats"
   ]
  },
  {
   "cell_type": "code",
   "execution_count": 3,
   "id": "0740d50e-e399-455d-8c9e-bade86fab4f4",
   "metadata": {},
   "outputs": [],
   "source": [
    "pd.set_option('display.float_format', lambda x: '%.2f' % x)\n",
    "pd.set_option('display.max_rows', 1000)"
   ]
  },
  {
   "cell_type": "markdown",
   "id": "855300ab-4860-489b-bdb6-d61ca5343b49",
   "metadata": {},
   "source": [
    "### Step2. Exclude unwanted orders\n"
   ]
  },
  {
   "cell_type": "markdown",
   "id": "31a024b7-66bb-4ea7-8e58-75dfe0a4a1de",
   "metadata": {},
   "source": [
    "*Let's import our data*"
   ]
  },
  {
   "cell_type": "code",
   "execution_count": 5,
   "id": "b2f1f008-4949-4cd4-83a3-e34b6aa487a7",
   "metadata": {},
   "outputs": [],
   "source": [
    "orders = pd.read_csv(\"C:\\\\My projects\\\\pandas\\\\cleaned_data\\\\orders_cleaned\")\n",
    "orderlines = pd.read_csv(\"C:\\\\My projects\\\\pandas\\\\cleaned_data\\\\orderlines_cleaned\")\n",
    "products = pd.read_csv(\"C:\\\\My projects\\\\pandas\\\\cleaned_data\\\\products_cleaned\")\n",
    "brands = pd.read_csv(\"C:\\\\My projects\\\\pandas\\\\cleaned_data\\\\brands_cleaned\")"
   ]
  },
  {
   "cell_type": "markdown",
   "id": "97e97305-7c0f-4e5b-8b6a-56c22ced7a2d",
   "metadata": {},
   "source": [
    "*When we want to remove or manipulate data, or when we need to merge tables, we should have domain knowledge about the data or consult someone who is an expert in the business concepts.*"
   ]
  },
  {
   "cell_type": "markdown",
   "id": "332d0a5c-28c1-4da8-9614-2d638ce0b45a",
   "metadata": {},
   "source": [
    "Here’s a description of each table and its columns:\n",
    "\n",
    "**orders.csv** – Every row in this file represents an order.\n",
    "\n",
    "`order_id` – a unique identifier for each order\n",
    "\n",
    "`created_date` – a timestamp for when the order was created\n",
    "\n",
    "`total_paid` – the total amount paid by the customer for this order, in euros\n",
    "state \n",
    "\n",
    "`“Shopping basket”` – products have been placed in the shopping basket\n",
    "\n",
    "`“Place Order”` – the order has been placed, but is awaiting shipment details \n",
    "\n",
    "`“Pending”` – the order is awaiting payment confirmation\n",
    "\n",
    "`“Completed”` – the order has been placed and paid, and the transaction is completed.\n",
    "\n",
    "`“Cancelled”` – the order has been cancelled and the payment returned to the customer.\n",
    "\n",
    "**orderlines.csv** – Every row represents each one of the different products involved in an order.\n",
    "\n",
    "`id` – a unique identifier for each row in this file\n",
    "\n",
    "`id_order` – corresponds to orders.order_id\n",
    "\n",
    "`product_id` – an old identifier for each product, nowadays not in use\n",
    "\n",
    "`product_quantity`– how many units of that product were purchased on that order\n",
    "\n",
    "`sku` – stock keeping unit: a unique identifier for each product\n",
    "\n",
    "`unit_price` – the unitary price (in euros) of each product at the moment of placing that order\n",
    "\n",
    "`date` – timestamp for the processing of that product\n",
    "\n",
    "**products.csv**\n",
    "\n",
    "`sku` – stock keeping unit: a unique identifier for each product\n",
    "\n",
    "`name` – product name\n",
    "\n",
    "`desc` – product description\n",
    "\n",
    "`price` – base price of the product, in euros\n",
    "\n",
    "`promo_price` – promotional price, in euros\n",
    "\n",
    "`in_stock` – whether or not the product was in stock at the moment of the data extraction\n",
    "\n",
    "`type` – a numerical code for product type\n",
    "\n",
    "**brands.csv**\n",
    "\n",
    "`short` – the 3-character code by which the brand can be identified in the first 3 characters of products.sku\n",
    "`long` – brand name"
   ]
  },
  {
   "cell_type": "code",
   "execution_count": 17,
   "id": "aadbac67-476f-4ae8-a7d4-5906f6cdaa21",
   "metadata": {},
   "outputs": [
    {
     "data": {
      "text/html": [
       "<div>\n",
       "<style scoped>\n",
       "    .dataframe tbody tr th:only-of-type {\n",
       "        vertical-align: middle;\n",
       "    }\n",
       "\n",
       "    .dataframe tbody tr th {\n",
       "        vertical-align: top;\n",
       "    }\n",
       "\n",
       "    .dataframe thead th {\n",
       "        text-align: right;\n",
       "    }\n",
       "</style>\n",
       "<table border=\"1\" class=\"dataframe\">\n",
       "  <thead>\n",
       "    <tr style=\"text-align: right;\">\n",
       "      <th></th>\n",
       "      <th>order_id</th>\n",
       "      <th>created_date</th>\n",
       "      <th>total_paid</th>\n",
       "      <th>state</th>\n",
       "    </tr>\n",
       "  </thead>\n",
       "  <tbody>\n",
       "    <tr>\n",
       "      <th>165232</th>\n",
       "      <td>465536</td>\n",
       "      <td>2017-12-18 11:37:46</td>\n",
       "      <td>149.99</td>\n",
       "      <td>Shopping Basket</td>\n",
       "    </tr>\n",
       "    <tr>\n",
       "      <th>194467</th>\n",
       "      <td>494955</td>\n",
       "      <td>2018-01-20 10:39:38</td>\n",
       "      <td>481.98</td>\n",
       "      <td>Completed</td>\n",
       "    </tr>\n",
       "    <tr>\n",
       "      <th>52061</th>\n",
       "      <td>351556</td>\n",
       "      <td>2017-05-01 16:52:26</td>\n",
       "      <td>114.96</td>\n",
       "      <td>Shopping Basket</td>\n",
       "    </tr>\n",
       "    <tr>\n",
       "      <th>48281</th>\n",
       "      <td>347774</td>\n",
       "      <td>2017-04-20 12:32:48</td>\n",
       "      <td>36.99</td>\n",
       "      <td>Cancelled</td>\n",
       "    </tr>\n",
       "    <tr>\n",
       "      <th>100057</th>\n",
       "      <td>399641</td>\n",
       "      <td>2017-09-13 15:13:12</td>\n",
       "      <td>49.99</td>\n",
       "      <td>Shopping Basket</td>\n",
       "    </tr>\n",
       "    <tr>\n",
       "      <th>11832</th>\n",
       "      <td>311307</td>\n",
       "      <td>2017-01-17 23:50:35</td>\n",
       "      <td>3.99</td>\n",
       "      <td>Place Order</td>\n",
       "    </tr>\n",
       "    <tr>\n",
       "      <th>129820</th>\n",
       "      <td>429438</td>\n",
       "      <td>2017-11-20 17:35:05</td>\n",
       "      <td>0.00</td>\n",
       "      <td>Shopping Basket</td>\n",
       "    </tr>\n",
       "    <tr>\n",
       "      <th>219028</th>\n",
       "      <td>519524</td>\n",
       "      <td>2018-03-01 16:44:06</td>\n",
       "      <td>389.58</td>\n",
       "      <td>Shopping Basket</td>\n",
       "    </tr>\n",
       "    <tr>\n",
       "      <th>189672</th>\n",
       "      <td>490157</td>\n",
       "      <td>2018-01-13 15:48:51</td>\n",
       "      <td>34.98</td>\n",
       "      <td>Completed</td>\n",
       "    </tr>\n",
       "    <tr>\n",
       "      <th>197075</th>\n",
       "      <td>497564</td>\n",
       "      <td>2018-01-24 10:31:17</td>\n",
       "      <td>25.99</td>\n",
       "      <td>Shopping Basket</td>\n",
       "    </tr>\n",
       "  </tbody>\n",
       "</table>\n",
       "</div>"
      ],
      "text/plain": [
       "        order_id         created_date  total_paid            state\n",
       "165232    465536  2017-12-18 11:37:46      149.99  Shopping Basket\n",
       "194467    494955  2018-01-20 10:39:38      481.98        Completed\n",
       "52061     351556  2017-05-01 16:52:26      114.96  Shopping Basket\n",
       "48281     347774  2017-04-20 12:32:48       36.99        Cancelled\n",
       "100057    399641  2017-09-13 15:13:12       49.99  Shopping Basket\n",
       "11832     311307  2017-01-17 23:50:35        3.99      Place Order\n",
       "129820    429438  2017-11-20 17:35:05        0.00  Shopping Basket\n",
       "219028    519524  2018-03-01 16:44:06      389.58  Shopping Basket\n",
       "189672    490157  2018-01-13 15:48:51       34.98        Completed\n",
       "197075    497564  2018-01-24 10:31:17       25.99  Shopping Basket"
      ]
     },
     "execution_count": 17,
     "metadata": {},
     "output_type": "execute_result"
    }
   ],
   "source": [
    "orders.sample(10)"
   ]
  },
  {
   "cell_type": "markdown",
   "id": "63332fb2-3ec1-4fb0-84ab-ea67ea21359a",
   "metadata": {},
   "source": [
    "Look at column `state`. Some of the orders present in the dataset were left in the shopping cart or cancelled.\n",
    "As the first step of data cleaning, we should consider excluding them so that, when we analyse the dataset, we deal with **actual purchases** from which the company is making **actual money**. \n",
    "Analysing why some orders were cancelled could be very importatnt, but it is out of the scope of this project."
   ]
  },
  {
   "cell_type": "code",
   "execution_count": 7,
   "id": "fa9e9d29-03dd-456f-9d0c-39b185752f8b",
   "metadata": {},
   "outputs": [
    {
     "data": {
      "text/plain": [
       "array(['Cancelled', 'Completed', 'Pending', 'Shopping Basket',\n",
       "       'Place Order'], dtype=object)"
      ]
     },
     "execution_count": 7,
     "metadata": {},
     "output_type": "execute_result"
    }
   ],
   "source": [
    "orders['state'].unique()"
   ]
  },
  {
   "cell_type": "code",
   "execution_count": 9,
   "id": "ce543970-be7f-4e7b-ac51-7c8c684ea669",
   "metadata": {},
   "outputs": [],
   "source": [
    "state_filter = orders['state'] == 'Completed'"
   ]
  },
  {
   "cell_type": "code",
   "execution_count": 11,
   "id": "2ee6ef85-235a-4f09-9bd7-014466ea70a7",
   "metadata": {},
   "outputs": [],
   "source": [
    "orders = orders.loc[state_filter, : ]"
   ]
  },
  {
   "cell_type": "code",
   "execution_count": 14,
   "id": "524f2e80-9270-473f-a9f1-1762c2d83791",
   "metadata": {},
   "outputs": [
    {
     "data": {
      "text/html": [
       "<div>\n",
       "<style scoped>\n",
       "    .dataframe tbody tr th:only-of-type {\n",
       "        vertical-align: middle;\n",
       "    }\n",
       "\n",
       "    .dataframe tbody tr th {\n",
       "        vertical-align: top;\n",
       "    }\n",
       "\n",
       "    .dataframe thead th {\n",
       "        text-align: right;\n",
       "    }\n",
       "</style>\n",
       "<table border=\"1\" class=\"dataframe\">\n",
       "  <thead>\n",
       "    <tr style=\"text-align: right;\">\n",
       "      <th></th>\n",
       "      <th>order_id</th>\n",
       "      <th>created_date</th>\n",
       "      <th>total_paid</th>\n",
       "      <th>state</th>\n",
       "    </tr>\n",
       "  </thead>\n",
       "  <tbody>\n",
       "    <tr>\n",
       "      <th>1</th>\n",
       "      <td>241423</td>\n",
       "      <td>2017-11-06 13:10:02</td>\n",
       "      <td>136.15</td>\n",
       "      <td>Completed</td>\n",
       "    </tr>\n",
       "    <tr>\n",
       "      <th>2</th>\n",
       "      <td>242832</td>\n",
       "      <td>2017-12-31 17:40:03</td>\n",
       "      <td>15.76</td>\n",
       "      <td>Completed</td>\n",
       "    </tr>\n",
       "    <tr>\n",
       "      <th>3</th>\n",
       "      <td>243330</td>\n",
       "      <td>2017-02-16 10:59:38</td>\n",
       "      <td>84.98</td>\n",
       "      <td>Completed</td>\n",
       "    </tr>\n",
       "    <tr>\n",
       "      <th>5</th>\n",
       "      <td>245275</td>\n",
       "      <td>2017-06-28 11:35:37</td>\n",
       "      <td>149.00</td>\n",
       "      <td>Completed</td>\n",
       "    </tr>\n",
       "    <tr>\n",
       "      <th>6</th>\n",
       "      <td>245595</td>\n",
       "      <td>2017-01-21 12:52:47</td>\n",
       "      <td>112.97</td>\n",
       "      <td>Completed</td>\n",
       "    </tr>\n",
       "  </tbody>\n",
       "</table>\n",
       "</div>"
      ],
      "text/plain": [
       "   order_id         created_date  total_paid      state\n",
       "1    241423  2017-11-06 13:10:02      136.15  Completed\n",
       "2    242832  2017-12-31 17:40:03       15.76  Completed\n",
       "3    243330  2017-02-16 10:59:38       84.98  Completed\n",
       "5    245275  2017-06-28 11:35:37      149.00  Completed\n",
       "6    245595  2017-01-21 12:52:47      112.97  Completed"
      ]
     },
     "execution_count": 14,
     "metadata": {},
     "output_type": "execute_result"
    }
   ],
   "source": [
    "orders.head()"
   ]
  },
  {
   "cell_type": "code",
   "execution_count": 98,
   "id": "0e8e30e6-aab4-4dfe-94f7-912d49bfe944",
   "metadata": {},
   "outputs": [
    {
     "data": {
      "text/plain": [
       "array(['Completed'], dtype=object)"
      ]
     },
     "execution_count": 98,
     "metadata": {},
     "output_type": "execute_result"
    }
   ],
   "source": [
    "orders['state'].unique()"
   ]
  },
  {
   "cell_type": "markdown",
   "id": "ade17ac8-d75e-4195-990b-dc4275c20383",
   "metadata": {},
   "source": [
    "Secondly, we should make sure that orders in the dataset are in both `orders` and `orderlines`.\n",
    "\n",
    "But **why is it important?**\n",
    "\n",
    "Because we might consider orders that do not have products associated with them or products sold without an order that links them with the customers and sellers involved."
   ]
  },
  {
   "attachments": {
    "0103a361-cd2f-4f27-9e7f-05fe747a3689.png": {
     "image/png": "[encoded data removed]"
    }
   },
   "cell_type": "markdown",
   "id": "22b09ecf-1c38-44cc-873b-afe47fc29577",
   "metadata": {},
   "source": [
    "![image.png](attachment:0103a361-cd2f-4f27-9e7f-05fe747a3689.png)"
   ]
  },
  {
   "cell_type": "markdown",
   "id": "4295107b-7f57-4ccb-a982-e9e811cc39cf",
   "metadata": {},
   "source": [
    "*We should do these steps:*\n",
    "\n",
    "1: About `orderlines` we should keep only orders present in `orders`\n",
    "\n",
    "2: About `orders` we should keep only orders present in `orderlines`"
   ]
  },
  {
   "cell_type": "code",
   "execution_count": 69,
   "id": "58205019-994b-4c6c-a37f-c7145988aa01",
   "metadata": {},
   "outputs": [
    {
     "data": {
      "text/html": [
       "<div>\n",
       "<style scoped>\n",
       "    .dataframe tbody tr th:only-of-type {\n",
       "        vertical-align: middle;\n",
       "    }\n",
       "\n",
       "    .dataframe tbody tr th {\n",
       "        vertical-align: top;\n",
       "    }\n",
       "\n",
       "    .dataframe thead th {\n",
       "        text-align: right;\n",
       "    }\n",
       "</style>\n",
       "<table border=\"1\" class=\"dataframe\">\n",
       "  <thead>\n",
       "    <tr style=\"text-align: right;\">\n",
       "      <th></th>\n",
       "      <th>id</th>\n",
       "      <th>id_order</th>\n",
       "      <th>product_id</th>\n",
       "      <th>product_quantity</th>\n",
       "      <th>sku</th>\n",
       "      <th>unit_price</th>\n",
       "      <th>date</th>\n",
       "    </tr>\n",
       "  </thead>\n",
       "  <tbody>\n",
       "    <tr>\n",
       "      <th>0</th>\n",
       "      <td>1119109</td>\n",
       "      <td>299539</td>\n",
       "      <td>0</td>\n",
       "      <td>1</td>\n",
       "      <td>OTT0133</td>\n",
       "      <td>18.99</td>\n",
       "      <td>2017-01-01 00:07:19</td>\n",
       "    </tr>\n",
       "    <tr>\n",
       "      <th>1</th>\n",
       "      <td>1119110</td>\n",
       "      <td>299540</td>\n",
       "      <td>0</td>\n",
       "      <td>1</td>\n",
       "      <td>LGE0043</td>\n",
       "      <td>399.00</td>\n",
       "      <td>2017-01-01 00:19:45</td>\n",
       "    </tr>\n",
       "    <tr>\n",
       "      <th>2</th>\n",
       "      <td>1119111</td>\n",
       "      <td>299541</td>\n",
       "      <td>0</td>\n",
       "      <td>1</td>\n",
       "      <td>PAR0071</td>\n",
       "      <td>474.05</td>\n",
       "      <td>2017-01-01 00:20:57</td>\n",
       "    </tr>\n",
       "    <tr>\n",
       "      <th>3</th>\n",
       "      <td>1119112</td>\n",
       "      <td>299542</td>\n",
       "      <td>0</td>\n",
       "      <td>1</td>\n",
       "      <td>WDT0315</td>\n",
       "      <td>68.39</td>\n",
       "      <td>2017-01-01 00:51:40</td>\n",
       "    </tr>\n",
       "    <tr>\n",
       "      <th>4</th>\n",
       "      <td>1119113</td>\n",
       "      <td>299543</td>\n",
       "      <td>0</td>\n",
       "      <td>1</td>\n",
       "      <td>JBL0104</td>\n",
       "      <td>23.74</td>\n",
       "      <td>2017-01-01 01:06:38</td>\n",
       "    </tr>\n",
       "  </tbody>\n",
       "</table>\n",
       "</div>"
      ],
      "text/plain": [
       "        id  id_order  product_id  product_quantity      sku  unit_price  \\\n",
       "0  1119109    299539           0                 1  OTT0133       18.99   \n",
       "1  1119110    299540           0                 1  LGE0043      399.00   \n",
       "2  1119111    299541           0                 1  PAR0071      474.05   \n",
       "3  1119112    299542           0                 1  WDT0315       68.39   \n",
       "4  1119113    299543           0                 1  JBL0104       23.74   \n",
       "\n",
       "                  date  \n",
       "0  2017-01-01 00:07:19  \n",
       "1  2017-01-01 00:19:45  \n",
       "2  2017-01-01 00:20:57  \n",
       "3  2017-01-01 00:51:40  \n",
       "4  2017-01-01 01:06:38  "
      ]
     },
     "execution_count": 69,
     "metadata": {},
     "output_type": "execute_result"
    }
   ],
   "source": [
    "orderlines.head()"
   ]
  },
  {
   "cell_type": "code",
   "execution_count": 13,
   "id": "7f6b4567-7a02-4023-8911-7e8ab0c93140",
   "metadata": {},
   "outputs": [],
   "source": [
    "# We know that:\n",
    "# id_order corresponds to orders.order_id\n",
    "\n",
    "common_products = orders.merge(orderlines,\n",
    "                               left_on = 'order_id',\n",
    "                               right_on = 'id_order',\n",
    "                               how = 'inner')"
   ]
  },
  {
   "cell_type": "code",
   "execution_count": 102,
   "id": "7b3547e3-6097-4b63-9ede-e77b57048dc8",
   "metadata": {},
   "outputs": [
    {
     "data": {
      "text/html": [
       "<div>\n",
       "<style scoped>\n",
       "    .dataframe tbody tr th:only-of-type {\n",
       "        vertical-align: middle;\n",
       "    }\n",
       "\n",
       "    .dataframe tbody tr th {\n",
       "        vertical-align: top;\n",
       "    }\n",
       "\n",
       "    .dataframe thead th {\n",
       "        text-align: right;\n",
       "    }\n",
       "</style>\n",
       "<table border=\"1\" class=\"dataframe\">\n",
       "  <thead>\n",
       "    <tr style=\"text-align: right;\">\n",
       "      <th></th>\n",
       "      <th>order_id</th>\n",
       "      <th>created_date</th>\n",
       "      <th>total_paid</th>\n",
       "      <th>state</th>\n",
       "      <th>id</th>\n",
       "      <th>id_order</th>\n",
       "      <th>product_id</th>\n",
       "      <th>product_quantity</th>\n",
       "      <th>sku</th>\n",
       "      <th>unit_price</th>\n",
       "      <th>date</th>\n",
       "    </tr>\n",
       "  </thead>\n",
       "  <tbody>\n",
       "    <tr>\n",
       "      <th>0</th>\n",
       "      <td>241423</td>\n",
       "      <td>2017-11-06 13:10:02</td>\n",
       "      <td>136.15</td>\n",
       "      <td>Completed</td>\n",
       "      <td>1398738</td>\n",
       "      <td>241423</td>\n",
       "      <td>0</td>\n",
       "      <td>1</td>\n",
       "      <td>LAC0212</td>\n",
       "      <td>129.16</td>\n",
       "      <td>2017-11-06 12:47:20</td>\n",
       "    </tr>\n",
       "    <tr>\n",
       "      <th>1</th>\n",
       "      <td>242832</td>\n",
       "      <td>2017-12-31 17:40:03</td>\n",
       "      <td>15.76</td>\n",
       "      <td>Completed</td>\n",
       "      <td>1529178</td>\n",
       "      <td>242832</td>\n",
       "      <td>0</td>\n",
       "      <td>1</td>\n",
       "      <td>PAR0074</td>\n",
       "      <td>10.77</td>\n",
       "      <td>2017-12-31 17:26:40</td>\n",
       "    </tr>\n",
       "    <tr>\n",
       "      <th>2</th>\n",
       "      <td>243330</td>\n",
       "      <td>2017-02-16 10:59:38</td>\n",
       "      <td>84.98</td>\n",
       "      <td>Completed</td>\n",
       "      <td>1181923</td>\n",
       "      <td>243330</td>\n",
       "      <td>0</td>\n",
       "      <td>1</td>\n",
       "      <td>OWC0074</td>\n",
       "      <td>77.99</td>\n",
       "      <td>2017-02-15 17:07:44</td>\n",
       "    </tr>\n",
       "    <tr>\n",
       "      <th>3</th>\n",
       "      <td>245275</td>\n",
       "      <td>2017-06-28 11:35:37</td>\n",
       "      <td>149.00</td>\n",
       "      <td>Completed</td>\n",
       "      <td>1276706</td>\n",
       "      <td>245275</td>\n",
       "      <td>0</td>\n",
       "      <td>1</td>\n",
       "      <td>TAD0007</td>\n",
       "      <td>149.00</td>\n",
       "      <td>2017-06-28 11:12:30</td>\n",
       "    </tr>\n",
       "    <tr>\n",
       "      <th>4</th>\n",
       "      <td>245595</td>\n",
       "      <td>2017-01-21 12:52:47</td>\n",
       "      <td>112.97</td>\n",
       "      <td>Completed</td>\n",
       "      <td>1154394</td>\n",
       "      <td>245595</td>\n",
       "      <td>0</td>\n",
       "      <td>2</td>\n",
       "      <td>PAC1561</td>\n",
       "      <td>52.99</td>\n",
       "      <td>2017-01-21 12:49:00</td>\n",
       "    </tr>\n",
       "  </tbody>\n",
       "</table>\n",
       "</div>"
      ],
      "text/plain": [
       "   order_id         created_date  total_paid      state       id  id_order  \\\n",
       "0    241423  2017-11-06 13:10:02      136.15  Completed  1398738    241423   \n",
       "1    242832  2017-12-31 17:40:03       15.76  Completed  1529178    242832   \n",
       "2    243330  2017-02-16 10:59:38       84.98  Completed  1181923    243330   \n",
       "3    245275  2017-06-28 11:35:37      149.00  Completed  1276706    245275   \n",
       "4    245595  2017-01-21 12:52:47      112.97  Completed  1154394    245595   \n",
       "\n",
       "   product_id  product_quantity      sku  unit_price                 date  \n",
       "0           0                 1  LAC0212      129.16  2017-11-06 12:47:20  \n",
       "1           0                 1  PAR0074       10.77  2017-12-31 17:26:40  \n",
       "2           0                 1  OWC0074       77.99  2017-02-15 17:07:44  \n",
       "3           0                 1  TAD0007      149.00  2017-06-28 11:12:30  \n",
       "4           0                 2  PAC1561       52.99  2017-01-21 12:49:00  "
      ]
     },
     "execution_count": 102,
     "metadata": {},
     "output_type": "execute_result"
    }
   ],
   "source": [
    "common_products.head()"
   ]
  },
  {
   "cell_type": "code",
   "execution_count": 104,
   "id": "cad56b0c-98b2-469c-9acb-0db1d0464052",
   "metadata": {},
   "outputs": [
    {
     "name": "stdout",
     "output_type": "stream",
     "text": [
      "<class 'pandas.core.frame.DataFrame'>\n",
      "RangeIndex: 62103 entries, 0 to 62102\n",
      "Data columns (total 11 columns):\n",
      " #   Column            Non-Null Count  Dtype  \n",
      "---  ------            --------------  -----  \n",
      " 0   order_id          62103 non-null  int64  \n",
      " 1   created_date      62103 non-null  object \n",
      " 2   total_paid        62103 non-null  float64\n",
      " 3   state             62103 non-null  object \n",
      " 4   id                62103 non-null  int64  \n",
      " 5   id_order          62103 non-null  int64  \n",
      " 6   product_id        62103 non-null  int64  \n",
      " 7   product_quantity  62103 non-null  int64  \n",
      " 8   sku               62103 non-null  object \n",
      " 9   unit_price        62103 non-null  float64\n",
      " 10  date              62103 non-null  object \n",
      "dtypes: float64(2), int64(5), object(4)\n",
      "memory usage: 5.2+ MB\n"
     ]
    }
   ],
   "source": [
    "common_products.info()"
   ]
  },
  {
   "cell_type": "markdown",
   "id": "e8ff827a-6e8c-4e71-bfad-12c4b443ec38",
   "metadata": {},
   "source": [
    "### Step 3. Exclude orders with unknown products"
   ]
  },
  {
   "cell_type": "markdown",
   "id": "2ae4c733-9595-4d7a-83c5-99dc05202c7f",
   "metadata": {},
   "source": [
    "The `products` table should be the primary reference for all the products being sold. It is likely that, during the Data Cleaning phase, we deleted many rows from products.\n",
    "\n",
    "Any order involving products not present there is susceptible to containing corrupted information.\n",
    "\n",
    "I want to delete all of the potentially corrupted rows."
   ]
  },
  {
   "cell_type": "code",
   "execution_count": 108,
   "id": "e4c021a6-b1a3-43a9-a50e-bf1c98573e14",
   "metadata": {},
   "outputs": [
    {
     "data": {
      "text/html": [
       "<div>\n",
       "<style scoped>\n",
       "    .dataframe tbody tr th:only-of-type {\n",
       "        vertical-align: middle;\n",
       "    }\n",
       "\n",
       "    .dataframe tbody tr th {\n",
       "        vertical-align: top;\n",
       "    }\n",
       "\n",
       "    .dataframe thead th {\n",
       "        text-align: right;\n",
       "    }\n",
       "</style>\n",
       "<table border=\"1\" class=\"dataframe\">\n",
       "  <thead>\n",
       "    <tr style=\"text-align: right;\">\n",
       "      <th></th>\n",
       "      <th>sku</th>\n",
       "      <th>name</th>\n",
       "      <th>desc</th>\n",
       "      <th>price</th>\n",
       "      <th>promo_price</th>\n",
       "      <th>in_stock</th>\n",
       "      <th>type</th>\n",
       "    </tr>\n",
       "  </thead>\n",
       "  <tbody>\n",
       "    <tr>\n",
       "      <th>0</th>\n",
       "      <td>RAI0007</td>\n",
       "      <td>Silver Rain Design mStand Support</td>\n",
       "      <td>Aluminum support compatible with all MacBook</td>\n",
       "      <td>59.99</td>\n",
       "      <td>499.90</td>\n",
       "      <td>1</td>\n",
       "      <td>8696</td>\n",
       "    </tr>\n",
       "    <tr>\n",
       "      <th>1</th>\n",
       "      <td>APP0023</td>\n",
       "      <td>Apple Mac Keyboard Keypad Spanish</td>\n",
       "      <td>USB ultrathin keyboard Apple Mac Spanish.</td>\n",
       "      <td>59.00</td>\n",
       "      <td>590.00</td>\n",
       "      <td>0</td>\n",
       "      <td>13855401</td>\n",
       "    </tr>\n",
       "    <tr>\n",
       "      <th>2</th>\n",
       "      <td>APP0025</td>\n",
       "      <td>Mighty Mouse Apple Mouse for Mac</td>\n",
       "      <td>mouse Apple USB cable.</td>\n",
       "      <td>59.00</td>\n",
       "      <td>569.90</td>\n",
       "      <td>0</td>\n",
       "      <td>1387</td>\n",
       "    </tr>\n",
       "    <tr>\n",
       "      <th>3</th>\n",
       "      <td>APP0072</td>\n",
       "      <td>Apple Dock to USB Cable iPhone and iPod white</td>\n",
       "      <td>IPhone dock and USB Cable Apple iPod.</td>\n",
       "      <td>25.00</td>\n",
       "      <td>230.00</td>\n",
       "      <td>0</td>\n",
       "      <td>1230</td>\n",
       "    </tr>\n",
       "    <tr>\n",
       "      <th>4</th>\n",
       "      <td>KIN0007</td>\n",
       "      <td>Mac Memory Kingston 2GB 667MHz DDR2 SO-DIMM</td>\n",
       "      <td>2GB RAM Mac mini and iMac (2006/07) MacBook Pr...</td>\n",
       "      <td>34.99</td>\n",
       "      <td>31.99</td>\n",
       "      <td>1</td>\n",
       "      <td>1364</td>\n",
       "    </tr>\n",
       "  </tbody>\n",
       "</table>\n",
       "</div>"
      ],
      "text/plain": [
       "       sku                                           name  \\\n",
       "0  RAI0007              Silver Rain Design mStand Support   \n",
       "1  APP0023              Apple Mac Keyboard Keypad Spanish   \n",
       "2  APP0025               Mighty Mouse Apple Mouse for Mac   \n",
       "3  APP0072  Apple Dock to USB Cable iPhone and iPod white   \n",
       "4  KIN0007    Mac Memory Kingston 2GB 667MHz DDR2 SO-DIMM   \n",
       "\n",
       "                                                desc  price  promo_price  \\\n",
       "0       Aluminum support compatible with all MacBook  59.99       499.90   \n",
       "1          USB ultrathin keyboard Apple Mac Spanish.  59.00       590.00   \n",
       "2                             mouse Apple USB cable.  59.00       569.90   \n",
       "3              IPhone dock and USB Cable Apple iPod.  25.00       230.00   \n",
       "4  2GB RAM Mac mini and iMac (2006/07) MacBook Pr...  34.99        31.99   \n",
       "\n",
       "   in_stock      type  \n",
       "0         1      8696  \n",
       "1         0  13855401  \n",
       "2         0      1387  \n",
       "3         0      1230  \n",
       "4         1      1364  "
      ]
     },
     "execution_count": 108,
     "metadata": {},
     "output_type": "execute_result"
    }
   ],
   "source": [
    "products.head()"
   ]
  },
  {
   "cell_type": "code",
   "execution_count": 112,
   "id": "df857158-1d71-4382-a11a-f747d93ecd25",
   "metadata": {},
   "outputs": [
    {
     "name": "stdout",
     "output_type": "stream",
     "text": [
      "<class 'pandas.core.frame.DataFrame'>\n",
      "RangeIndex: 10477 entries, 0 to 10476\n",
      "Data columns (total 7 columns):\n",
      " #   Column       Non-Null Count  Dtype  \n",
      "---  ------       --------------  -----  \n",
      " 0   sku          10477 non-null  object \n",
      " 1   name         10477 non-null  object \n",
      " 2   desc         10477 non-null  object \n",
      " 3   price        10477 non-null  float64\n",
      " 4   promo_price  10477 non-null  float64\n",
      " 5   in_stock     10477 non-null  int64  \n",
      " 6   type         10477 non-null  object \n",
      "dtypes: float64(2), int64(1), object(4)\n",
      "memory usage: 573.1+ KB\n"
     ]
    }
   ],
   "source": [
    "products.info()"
   ]
  },
  {
   "cell_type": "code",
   "execution_count": 15,
   "id": "915c8d68-108f-44e8-b1f7-3268179ec6f8",
   "metadata": {},
   "outputs": [],
   "source": [
    "all_tables = common_products.merge(products,\n",
    "                                   on = 'sku',\n",
    "                                   how = 'inner')"
   ]
  },
  {
   "cell_type": "code",
   "execution_count": 20,
   "id": "ea9a93db-b12f-4732-a628-b12b4575c3c6",
   "metadata": {},
   "outputs": [
    {
     "name": "stdout",
     "output_type": "stream",
     "text": [
      "<class 'pandas.core.frame.DataFrame'>\n",
      "RangeIndex: 61693 entries, 0 to 61692\n",
      "Data columns (total 17 columns):\n",
      " #   Column            Non-Null Count  Dtype  \n",
      "---  ------            --------------  -----  \n",
      " 0   order_id          61693 non-null  int64  \n",
      " 1   created_date      61693 non-null  object \n",
      " 2   total_paid        61693 non-null  float64\n",
      " 3   state             61693 non-null  object \n",
      " 4   id                61693 non-null  int64  \n",
      " 5   id_order          61693 non-null  int64  \n",
      " 6   product_id        61693 non-null  int64  \n",
      " 7   product_quantity  61693 non-null  int64  \n",
      " 8   sku               61693 non-null  object \n",
      " 9   unit_price        61693 non-null  float64\n",
      " 10  date              61693 non-null  object \n",
      " 11  name              61693 non-null  object \n",
      " 12  desc              61693 non-null  object \n",
      " 13  price             61693 non-null  float64\n",
      " 14  promo_price       61693 non-null  float64\n",
      " 15  in_stock          61693 non-null  int64  \n",
      " 16  type              61693 non-null  object \n",
      "dtypes: float64(4), int64(6), object(7)\n",
      "memory usage: 8.0+ MB\n"
     ]
    }
   ],
   "source": [
    "all_tables.info()"
   ]
  },
  {
   "cell_type": "markdown",
   "id": "21fa5f1e-6307-4be3-8487-5a938576403d",
   "metadata": {},
   "source": [
    "### Step 4. Explore the revenue from different tables"
   ]
  },
  {
   "cell_type": "markdown",
   "id": "37a22cbc-0eff-45ec-9161-3ec1c9bcb30b",
   "metadata": {},
   "source": [
    "All three tables we have seen (products, orderlines and orders) contain information about prices. \n",
    "\n",
    "Shouldn’t this information match? Well… yes and no. \n",
    "\n",
    "Let's have a look to **price columns**:\n",
    " \n",
    "`products.price` : This is the original price of a product, **without any discount or promotion**.\n",
    "\n",
    "`orderlines.unit_price` : This is the **actual price** at which a product has been **sold**. It should roughly match the price in the `products` table, but there might be deviations, as discounts get applied here.\n",
    "\n",
    "`orders.total_paid` : This is the total amount of the **full order**. It should roughly translate to the sum of all unitary prices, multiplied by the amount of each product purchased (**orderlines.product_quantity**).\n",
    "\n",
    "The key word here is, again, roughly: \n",
    "\n",
    "The total amount of the order might include shipping costs or vouchers."
   ]
  },
  {
   "cell_type": "markdown",
   "id": "2c94a7b5-e1dd-46ec-a8cb-8a9de0313084",
   "metadata": {},
   "source": [
    "In fact, we should ask ourselves the following questions:\n",
    "\n",
    "**1 - What is the average difference between total_paid and unit_price_total?**\n",
    "\n",
    "**2- What is the distribution of these differences?**\n",
    "\n",
    "**3- Can all the differences be explained by shipping costs? If not, what are other plausible explanations?**\n",
    "\n",
    "**4- If there are differences that cannot be explained, what should be done with these orders?**"
   ]
  },
  {
   "cell_type": "code",
   "execution_count": 17,
   "id": "9ed6ee60-392c-427e-bf74-a705cda72b50",
   "metadata": {},
   "outputs": [
    {
     "data": {
      "text/html": [
       "<div>\n",
       "<style scoped>\n",
       "    .dataframe tbody tr th:only-of-type {\n",
       "        vertical-align: middle;\n",
       "    }\n",
       "\n",
       "    .dataframe tbody tr th {\n",
       "        vertical-align: top;\n",
       "    }\n",
       "\n",
       "    .dataframe thead th {\n",
       "        text-align: right;\n",
       "    }\n",
       "</style>\n",
       "<table border=\"1\" class=\"dataframe\">\n",
       "  <thead>\n",
       "    <tr style=\"text-align: right;\">\n",
       "      <th></th>\n",
       "      <th>sku</th>\n",
       "      <th>product_quantity</th>\n",
       "      <th>unit_price</th>\n",
       "      <th>price</th>\n",
       "      <th>total_paid</th>\n",
       "    </tr>\n",
       "  </thead>\n",
       "  <tbody>\n",
       "    <tr>\n",
       "      <th>0</th>\n",
       "      <td>LAC0212</td>\n",
       "      <td>1</td>\n",
       "      <td>129.16</td>\n",
       "      <td>139.99</td>\n",
       "      <td>136.15</td>\n",
       "    </tr>\n",
       "    <tr>\n",
       "      <th>1</th>\n",
       "      <td>PAR0074</td>\n",
       "      <td>1</td>\n",
       "      <td>10.77</td>\n",
       "      <td>17.99</td>\n",
       "      <td>15.76</td>\n",
       "    </tr>\n",
       "    <tr>\n",
       "      <th>2</th>\n",
       "      <td>OWC0074</td>\n",
       "      <td>1</td>\n",
       "      <td>77.99</td>\n",
       "      <td>99.99</td>\n",
       "      <td>84.98</td>\n",
       "    </tr>\n",
       "    <tr>\n",
       "      <th>3</th>\n",
       "      <td>TAD0007</td>\n",
       "      <td>1</td>\n",
       "      <td>149.00</td>\n",
       "      <td>179.00</td>\n",
       "      <td>149.00</td>\n",
       "    </tr>\n",
       "    <tr>\n",
       "      <th>4</th>\n",
       "      <td>PAC1561</td>\n",
       "      <td>2</td>\n",
       "      <td>52.99</td>\n",
       "      <td>103.95</td>\n",
       "      <td>112.97</td>\n",
       "    </tr>\n",
       "  </tbody>\n",
       "</table>\n",
       "</div>"
      ],
      "text/plain": [
       "       sku  product_quantity  unit_price  price  total_paid\n",
       "0  LAC0212                 1      129.16 139.99      136.15\n",
       "1  PAR0074                 1       10.77  17.99       15.76\n",
       "2  OWC0074                 1       77.99  99.99       84.98\n",
       "3  TAD0007                 1      149.00 179.00      149.00\n",
       "4  PAC1561                 2       52.99 103.95      112.97"
      ]
     },
     "execution_count": 17,
     "metadata": {},
     "output_type": "execute_result"
    }
   ],
   "source": [
    "all_tables.loc[: , ['sku', 'product_quantity','unit_price','price', 'total_paid' ]].head()"
   ]
  },
  {
   "cell_type": "markdown",
   "id": "c430c137-6539-45a7-912e-5fb59a63cd71",
   "metadata": {},
   "source": [
    "#### 1: checking `price` & `unit_price`"
   ]
  },
  {
   "cell_type": "markdown",
   "id": "8bc0c5c9-642f-4dc7-bd14-59f03f834894",
   "metadata": {},
   "source": [
    "I know that `price` and `unit_price` are rughly matched. \n",
    "\n",
    "I want to allow a maximum discount of 99% for the product. If there is a difference of more than 99% between the actual price (unit_price) and the original price (price), I will consider these cases as outliers and remove them."
   ]
  },
  {
   "cell_type": "code",
   "execution_count": 19,
   "id": "ddecb682-3457-4eb5-ab66-c0dbec9f65ea",
   "metadata": {},
   "outputs": [],
   "source": [
    "mask1 = (all_tables['price'] - 0.99 * (all_tables['price'])) > (all_tables['unit_price'])"
   ]
  },
  {
   "cell_type": "code",
   "execution_count": 21,
   "id": "2a3bb4e7-c117-4876-8f9d-5650e0d1f541",
   "metadata": {},
   "outputs": [
    {
     "data": {
      "text/plain": [
       "293"
      ]
     },
     "execution_count": 21,
     "metadata": {},
     "output_type": "execute_result"
    }
   ],
   "source": [
    "all_tables.loc[mask1, ['sku', 'product_quantity','unit_price','price', 'total_paid', 'promo_price' ]].shape[0]"
   ]
  },
  {
   "cell_type": "markdown",
   "id": "9068bacb-40f7-4667-af03-4d4ec45b7e6f",
   "metadata": {},
   "source": [
    "It does not make sense for us to apply more than a 99% discount on our products.\n",
    "\n",
    "Let's remove these 293 rows.\n"
   ]
  },
  {
   "cell_type": "code",
   "execution_count": 23,
   "id": "5857e9fe-af86-4a23-81fa-f0ec0b52b301",
   "metadata": {},
   "outputs": [],
   "source": [
    "all_tables = all_tables.loc[~mask1, :]"
   ]
  },
  {
   "cell_type": "code",
   "execution_count": 25,
   "id": "84cfd207-c11c-49af-ae43-e8a32ecc3c2e",
   "metadata": {},
   "outputs": [
    {
     "name": "stdout",
     "output_type": "stream",
     "text": [
      "<class 'pandas.core.frame.DataFrame'>\n",
      "Index: 61400 entries, 0 to 61692\n",
      "Data columns (total 17 columns):\n",
      " #   Column            Non-Null Count  Dtype  \n",
      "---  ------            --------------  -----  \n",
      " 0   order_id          61400 non-null  int64  \n",
      " 1   created_date      61400 non-null  object \n",
      " 2   total_paid        61400 non-null  float64\n",
      " 3   state             61400 non-null  object \n",
      " 4   id                61400 non-null  int64  \n",
      " 5   id_order          61400 non-null  int64  \n",
      " 6   product_id        61400 non-null  int64  \n",
      " 7   product_quantity  61400 non-null  int64  \n",
      " 8   sku               61400 non-null  object \n",
      " 9   unit_price        61400 non-null  float64\n",
      " 10  date              61400 non-null  object \n",
      " 11  name              61400 non-null  object \n",
      " 12  desc              61400 non-null  object \n",
      " 13  price             61400 non-null  float64\n",
      " 14  promo_price       61400 non-null  float64\n",
      " 15  in_stock          61400 non-null  int64  \n",
      " 16  type              61400 non-null  object \n",
      "dtypes: float64(4), int64(6), object(7)\n",
      "memory usage: 8.4+ MB\n"
     ]
    }
   ],
   "source": [
    "all_tables .info()"
   ]
  },
  {
   "cell_type": "markdown",
   "id": "cfc10c4a-f29a-46f7-841e-fa5d2aaa5812",
   "metadata": {},
   "source": [
    "#### 2: checking `total_paid`"
   ]
  },
  {
   "cell_type": "markdown",
   "id": "5db2ad4b-1819-47b8-8924-556f3ecffd78",
   "metadata": {},
   "source": [
    "This is the total amount of the full order. It should roughly translate to the sum of all unitary prices, multiplied by the amount of each product purchased (orderlines.product_quantity).\r\n",
    "\r\n",
    "The key word here is, again, roughly:\r\n",
    "\r\n",
    "The total amount of the order might include shipping costs or vouchers."
   ]
  },
  {
   "cell_type": "code",
   "execution_count": 27,
   "id": "d0c40ca1-0c3e-4287-aca6-2998420bb59a",
   "metadata": {},
   "outputs": [],
   "source": [
    "all_tables.loc[: , 'quant_price'] = (all_tables['product_quantity']* all_tables['unit_price'])"
   ]
  },
  {
   "cell_type": "code",
   "execution_count": 29,
   "id": "36e14db3-e4c8-4205-bade-b268fcae7d3f",
   "metadata": {},
   "outputs": [],
   "source": [
    "all_tables.loc[:, 'shipping_vochers'] = abs((all_tables['total_paid']) -(all_tables['quant_price']))"
   ]
  },
  {
   "cell_type": "code",
   "execution_count": 31,
   "id": "55604073-1732-4e49-ac9a-7761e24aa70b",
   "metadata": {},
   "outputs": [
    {
     "data": {
      "text/html": [
       "<div>\n",
       "<style scoped>\n",
       "    .dataframe tbody tr th:only-of-type {\n",
       "        vertical-align: middle;\n",
       "    }\n",
       "\n",
       "    .dataframe tbody tr th {\n",
       "        vertical-align: top;\n",
       "    }\n",
       "\n",
       "    .dataframe thead th {\n",
       "        text-align: right;\n",
       "    }\n",
       "</style>\n",
       "<table border=\"1\" class=\"dataframe\">\n",
       "  <thead>\n",
       "    <tr style=\"text-align: right;\">\n",
       "      <th></th>\n",
       "      <th>total_paid</th>\n",
       "      <th>quant_price</th>\n",
       "      <th>shipping_vochers</th>\n",
       "      <th>product_quantity</th>\n",
       "      <th>unit_price</th>\n",
       "    </tr>\n",
       "  </thead>\n",
       "  <tbody>\n",
       "    <tr>\n",
       "      <th>10077</th>\n",
       "      <td>9987.76</td>\n",
       "      <td>63.20</td>\n",
       "      <td>9924.56</td>\n",
       "      <td>1</td>\n",
       "      <td>63.20</td>\n",
       "    </tr>\n",
       "    <tr>\n",
       "      <th>10074</th>\n",
       "      <td>9987.76</td>\n",
       "      <td>429.00</td>\n",
       "      <td>9558.76</td>\n",
       "      <td>1</td>\n",
       "      <td>429.00</td>\n",
       "    </tr>\n",
       "    <tr>\n",
       "      <th>10076</th>\n",
       "      <td>9987.76</td>\n",
       "      <td>429.60</td>\n",
       "      <td>9558.16</td>\n",
       "      <td>3</td>\n",
       "      <td>143.20</td>\n",
       "    </tr>\n",
       "    <tr>\n",
       "      <th>9882</th>\n",
       "      <td>9423.90</td>\n",
       "      <td>6.99</td>\n",
       "      <td>9416.91</td>\n",
       "      <td>1</td>\n",
       "      <td>6.99</td>\n",
       "    </tr>\n",
       "    <tr>\n",
       "      <th>9887</th>\n",
       "      <td>9423.90</td>\n",
       "      <td>23.99</td>\n",
       "      <td>9399.91</td>\n",
       "      <td>1</td>\n",
       "      <td>23.99</td>\n",
       "    </tr>\n",
       "  </tbody>\n",
       "</table>\n",
       "</div>"
      ],
      "text/plain": [
       "       total_paid  quant_price  shipping_vochers  product_quantity  unit_price\n",
       "10077     9987.76        63.20           9924.56                 1       63.20\n",
       "10074     9987.76       429.00           9558.76                 1      429.00\n",
       "10076     9987.76       429.60           9558.16                 3      143.20\n",
       "9882      9423.90         6.99           9416.91                 1        6.99\n",
       "9887      9423.90        23.99           9399.91                 1       23.99"
      ]
     },
     "execution_count": 31,
     "metadata": {},
     "output_type": "execute_result"
    }
   ],
   "source": [
    "all_tables.loc[:, ['total_paid','quant_price' ,'shipping_vochers', 'product_quantity', 'unit_price' ]].sort_values(by = 'shipping_vochers' , ascending = False).head()"
   ]
  },
  {
   "cell_type": "markdown",
   "id": "8069e442-9f6e-4139-9d27-f50eebed1436",
   "metadata": {},
   "source": [
    "##### Let's consider maximum 30% of `total_paid` of each product as (shipping/vocher)."
   ]
  },
  {
   "cell_type": "code",
   "execution_count": 43,
   "id": "1ade187c-2857-4460-be14-d42d442e6315",
   "metadata": {},
   "outputs": [],
   "source": [
    "mask1 = (all_tables['shipping_vochers']) >  (1.3 * all_tables['total_paid'])"
   ]
  },
  {
   "cell_type": "code",
   "execution_count": 45,
   "id": "0b64b224-7c12-436f-b49a-902707c14ec1",
   "metadata": {},
   "outputs": [
    {
     "data": {
      "text/plain": [
       "17"
      ]
     },
     "execution_count": 45,
     "metadata": {},
     "output_type": "execute_result"
    }
   ],
   "source": [
    "all_tables.loc[mask1 ,['total_paid','quant_price' ,'shipping_vochers']].shape[0]"
   ]
  },
  {
   "cell_type": "markdown",
   "id": "60571da4-002f-4ab4-94f9-ef81e06ce077",
   "metadata": {},
   "source": [
    "*Let's remove them*"
   ]
  },
  {
   "cell_type": "code",
   "execution_count": 54,
   "id": "08b9e079-5531-4ee3-848d-84bd74742738",
   "metadata": {},
   "outputs": [],
   "source": [
    "all_tables = all_tables.loc[~mask1, :]"
   ]
  },
  {
   "cell_type": "code",
   "execution_count": 56,
   "id": "ade61ba4-2336-4ee6-bb9b-863ac5fb7091",
   "metadata": {},
   "outputs": [
    {
     "name": "stdout",
     "output_type": "stream",
     "text": [
      "<class 'pandas.core.frame.DataFrame'>\n",
      "Index: 61383 entries, 0 to 61692\n",
      "Data columns (total 19 columns):\n",
      " #   Column            Non-Null Count  Dtype  \n",
      "---  ------            --------------  -----  \n",
      " 0   order_id          61383 non-null  int64  \n",
      " 1   created_date      61383 non-null  object \n",
      " 2   total_paid        61383 non-null  float64\n",
      " 3   state             61383 non-null  object \n",
      " 4   id                61383 non-null  int64  \n",
      " 5   id_order          61383 non-null  int64  \n",
      " 6   product_id        61383 non-null  int64  \n",
      " 7   product_quantity  61383 non-null  int64  \n",
      " 8   sku               61383 non-null  object \n",
      " 9   unit_price        61383 non-null  float64\n",
      " 10  date              61383 non-null  object \n",
      " 11  name              61383 non-null  object \n",
      " 12  desc              61383 non-null  object \n",
      " 13  price             61383 non-null  float64\n",
      " 14  promo_price       61383 non-null  float64\n",
      " 15  in_stock          61383 non-null  int64  \n",
      " 16  type              61383 non-null  object \n",
      " 17  quant_price       61383 non-null  float64\n",
      " 18  shipping_vochers  61383 non-null  float64\n",
      "dtypes: float64(6), int64(6), object(7)\n",
      "memory usage: 9.4+ MB\n"
     ]
    }
   ],
   "source": [
    "all_tables.info()"
   ]
  },
  {
   "cell_type": "markdown",
   "id": "d9d259ce-6dbe-48ae-85f0-adb7a54cd2b7",
   "metadata": {},
   "source": [
    "*Now, I want to extract `products` ,`orders` and `orderlines` from common_products*"
   ]
  },
  {
   "cell_type": "code",
   "execution_count": 58,
   "id": "a91d4827-4cec-4828-b313-601340ad98f3",
   "metadata": {},
   "outputs": [
    {
     "data": {
      "text/plain": [
       "Index(['order_id', 'created_date', 'total_paid', 'state'], dtype='object')"
      ]
     },
     "execution_count": 58,
     "metadata": {},
     "output_type": "execute_result"
    }
   ],
   "source": [
    "orders.columns"
   ]
  },
  {
   "cell_type": "code",
   "execution_count": 60,
   "id": "55674ed3-d732-4740-adfa-c3d3d6165300",
   "metadata": {},
   "outputs": [
    {
     "data": {
      "text/plain": [
       "Index(['id', 'id_order', 'product_id', 'product_quantity', 'sku', 'unit_price',\n",
       "       'date'],\n",
       "      dtype='object')"
      ]
     },
     "execution_count": 60,
     "metadata": {},
     "output_type": "execute_result"
    }
   ],
   "source": [
    "orderlines.columns"
   ]
  },
  {
   "cell_type": "code",
   "execution_count": 62,
   "id": "d71ba257-4f60-4f5f-9381-14906459c29f",
   "metadata": {},
   "outputs": [
    {
     "data": {
      "text/plain": [
       "Index(['sku', 'name', 'desc', 'price', 'promo_price', 'in_stock', 'type'], dtype='object')"
      ]
     },
     "execution_count": 62,
     "metadata": {},
     "output_type": "execute_result"
    }
   ],
   "source": [
    "products.columns"
   ]
  },
  {
   "cell_type": "code",
   "execution_count": 64,
   "id": "081f6723-4910-4c77-9fcb-e2912a65a845",
   "metadata": {},
   "outputs": [],
   "source": [
    "orders = all_tables.loc[: , ['order_id', 'created_date', 'total_paid', 'state']]\n",
    "orderlines = all_tables.loc[: , ['id', 'id_order', 'product_id', 'product_quantity', 'sku', 'unit_price',\n",
    "       'date']]\n",
    "products = all_tables.loc[: , ['sku', 'name', 'desc', 'price', 'promo_price', 'in_stock', 'type']]"
   ]
  },
  {
   "cell_type": "code",
   "execution_count": 66,
   "id": "03c53c02-4989-44a4-b55f-a96a723d7353",
   "metadata": {},
   "outputs": [
    {
     "name": "stdout",
     "output_type": "stream",
     "text": [
      "<class 'pandas.core.frame.DataFrame'>\n",
      "Index: 61383 entries, 0 to 61692\n",
      "Data columns (total 4 columns):\n",
      " #   Column        Non-Null Count  Dtype  \n",
      "---  ------        --------------  -----  \n",
      " 0   order_id      61383 non-null  int64  \n",
      " 1   created_date  61383 non-null  object \n",
      " 2   total_paid    61383 non-null  float64\n",
      " 3   state         61383 non-null  object \n",
      "dtypes: float64(1), int64(1), object(2)\n",
      "memory usage: 2.3+ MB\n"
     ]
    }
   ],
   "source": [
    "orders.info()"
   ]
  },
  {
   "cell_type": "code",
   "execution_count": 68,
   "id": "be688f69-5601-40e5-bded-5fa54f459230",
   "metadata": {},
   "outputs": [
    {
     "name": "stdout",
     "output_type": "stream",
     "text": [
      "<class 'pandas.core.frame.DataFrame'>\n",
      "Index: 61383 entries, 0 to 61692\n",
      "Data columns (total 7 columns):\n",
      " #   Column            Non-Null Count  Dtype  \n",
      "---  ------            --------------  -----  \n",
      " 0   id                61383 non-null  int64  \n",
      " 1   id_order          61383 non-null  int64  \n",
      " 2   product_id        61383 non-null  int64  \n",
      " 3   product_quantity  61383 non-null  int64  \n",
      " 4   sku               61383 non-null  object \n",
      " 5   unit_price        61383 non-null  float64\n",
      " 6   date              61383 non-null  object \n",
      "dtypes: float64(1), int64(4), object(2)\n",
      "memory usage: 3.7+ MB\n"
     ]
    }
   ],
   "source": [
    "orderlines.info()"
   ]
  },
  {
   "cell_type": "code",
   "execution_count": 70,
   "id": "601c74c0-e1c9-436c-8946-7e8438edd753",
   "metadata": {},
   "outputs": [
    {
     "name": "stdout",
     "output_type": "stream",
     "text": [
      "<class 'pandas.core.frame.DataFrame'>\n",
      "Index: 61383 entries, 0 to 61692\n",
      "Data columns (total 7 columns):\n",
      " #   Column       Non-Null Count  Dtype  \n",
      "---  ------       --------------  -----  \n",
      " 0   sku          61383 non-null  object \n",
      " 1   name         61383 non-null  object \n",
      " 2   desc         61383 non-null  object \n",
      " 3   price        61383 non-null  float64\n",
      " 4   promo_price  61383 non-null  float64\n",
      " 5   in_stock     61383 non-null  int64  \n",
      " 6   type         61383 non-null  object \n",
      "dtypes: float64(2), int64(1), object(4)\n",
      "memory usage: 3.7+ MB\n"
     ]
    }
   ],
   "source": [
    "products.info()"
   ]
  },
  {
   "cell_type": "markdown",
   "id": "2609371d-9eea-43b5-9b57-539027f07e4a",
   "metadata": {},
   "source": [
    "Now, I want to extract the months and years from `created_date` because it helps me interpret the effect of seasonality and special days on sales."
   ]
  },
  {
   "cell_type": "code",
   "execution_count": 73,
   "id": "669a6c41-108f-4bf5-b777-94b434b2c366",
   "metadata": {},
   "outputs": [
    {
     "ename": "AttributeError",
     "evalue": "Can only use .dt accessor with datetimelike values",
     "output_type": "error",
     "traceback": [
      "\u001b[1;31m---------------------------------------------------------------------------\u001b[0m",
      "\u001b[1;31mAttributeError\u001b[0m                            Traceback (most recent call last)",
      "Cell \u001b[1;32mIn[73], line 1\u001b[0m\n\u001b[1;32m----> 1\u001b[0m orders[\u001b[38;5;124m'\u001b[39m\u001b[38;5;124mmonth\u001b[39m\u001b[38;5;124m'\u001b[39m] \u001b[38;5;241m=\u001b[39m orders[\u001b[38;5;124m'\u001b[39m\u001b[38;5;124mcreated_date\u001b[39m\u001b[38;5;124m'\u001b[39m]\u001b[38;5;241m.\u001b[39mdt\u001b[38;5;241m.\u001b[39mmonth\n",
      "File \u001b[1;32m~\\anaconda3\\Lib\\site-packages\\pandas\\core\\generic.py:6299\u001b[0m, in \u001b[0;36mNDFrame.__getattr__\u001b[1;34m(self, name)\u001b[0m\n\u001b[0;32m   6292\u001b[0m \u001b[38;5;28;01mif\u001b[39;00m (\n\u001b[0;32m   6293\u001b[0m     name \u001b[38;5;129;01mnot\u001b[39;00m \u001b[38;5;129;01min\u001b[39;00m \u001b[38;5;28mself\u001b[39m\u001b[38;5;241m.\u001b[39m_internal_names_set\n\u001b[0;32m   6294\u001b[0m     \u001b[38;5;129;01mand\u001b[39;00m name \u001b[38;5;129;01mnot\u001b[39;00m \u001b[38;5;129;01min\u001b[39;00m \u001b[38;5;28mself\u001b[39m\u001b[38;5;241m.\u001b[39m_metadata\n\u001b[0;32m   6295\u001b[0m     \u001b[38;5;129;01mand\u001b[39;00m name \u001b[38;5;129;01mnot\u001b[39;00m \u001b[38;5;129;01min\u001b[39;00m \u001b[38;5;28mself\u001b[39m\u001b[38;5;241m.\u001b[39m_accessors\n\u001b[0;32m   6296\u001b[0m     \u001b[38;5;129;01mand\u001b[39;00m \u001b[38;5;28mself\u001b[39m\u001b[38;5;241m.\u001b[39m_info_axis\u001b[38;5;241m.\u001b[39m_can_hold_identifiers_and_holds_name(name)\n\u001b[0;32m   6297\u001b[0m ):\n\u001b[0;32m   6298\u001b[0m     \u001b[38;5;28;01mreturn\u001b[39;00m \u001b[38;5;28mself\u001b[39m[name]\n\u001b[1;32m-> 6299\u001b[0m \u001b[38;5;28;01mreturn\u001b[39;00m \u001b[38;5;28mobject\u001b[39m\u001b[38;5;241m.\u001b[39m\u001b[38;5;21m__getattribute__\u001b[39m(\u001b[38;5;28mself\u001b[39m, name)\n",
      "File \u001b[1;32m~\\anaconda3\\Lib\\site-packages\\pandas\\core\\accessor.py:224\u001b[0m, in \u001b[0;36mCachedAccessor.__get__\u001b[1;34m(self, obj, cls)\u001b[0m\n\u001b[0;32m    221\u001b[0m \u001b[38;5;28;01mif\u001b[39;00m obj \u001b[38;5;129;01mis\u001b[39;00m \u001b[38;5;28;01mNone\u001b[39;00m:\n\u001b[0;32m    222\u001b[0m     \u001b[38;5;66;03m# we're accessing the attribute of the class, i.e., Dataset.geo\u001b[39;00m\n\u001b[0;32m    223\u001b[0m     \u001b[38;5;28;01mreturn\u001b[39;00m \u001b[38;5;28mself\u001b[39m\u001b[38;5;241m.\u001b[39m_accessor\n\u001b[1;32m--> 224\u001b[0m accessor_obj \u001b[38;5;241m=\u001b[39m \u001b[38;5;28mself\u001b[39m\u001b[38;5;241m.\u001b[39m_accessor(obj)\n\u001b[0;32m    225\u001b[0m \u001b[38;5;66;03m# Replace the property with the accessor object. Inspired by:\u001b[39;00m\n\u001b[0;32m    226\u001b[0m \u001b[38;5;66;03m# https://www.pydanny.com/cached-property.html\u001b[39;00m\n\u001b[0;32m    227\u001b[0m \u001b[38;5;66;03m# We need to use object.__setattr__ because we overwrite __setattr__ on\u001b[39;00m\n\u001b[0;32m    228\u001b[0m \u001b[38;5;66;03m# NDFrame\u001b[39;00m\n\u001b[0;32m    229\u001b[0m \u001b[38;5;28mobject\u001b[39m\u001b[38;5;241m.\u001b[39m\u001b[38;5;21m__setattr__\u001b[39m(obj, \u001b[38;5;28mself\u001b[39m\u001b[38;5;241m.\u001b[39m_name, accessor_obj)\n",
      "File \u001b[1;32m~\\anaconda3\\Lib\\site-packages\\pandas\\core\\indexes\\accessors.py:643\u001b[0m, in \u001b[0;36mCombinedDatetimelikeProperties.__new__\u001b[1;34m(cls, data)\u001b[0m\n\u001b[0;32m    640\u001b[0m \u001b[38;5;28;01melif\u001b[39;00m \u001b[38;5;28misinstance\u001b[39m(data\u001b[38;5;241m.\u001b[39mdtype, PeriodDtype):\n\u001b[0;32m    641\u001b[0m     \u001b[38;5;28;01mreturn\u001b[39;00m PeriodProperties(data, orig)\n\u001b[1;32m--> 643\u001b[0m \u001b[38;5;28;01mraise\u001b[39;00m \u001b[38;5;167;01mAttributeError\u001b[39;00m(\u001b[38;5;124m\"\u001b[39m\u001b[38;5;124mCan only use .dt accessor with datetimelike values\u001b[39m\u001b[38;5;124m\"\u001b[39m)\n",
      "\u001b[1;31mAttributeError\u001b[0m: Can only use .dt accessor with datetimelike values"
     ]
    }
   ],
   "source": [
    "orders['month'] = orders['created_date'].dt.month"
   ]
  },
  {
   "cell_type": "markdown",
   "id": "52f1bb8e-65d6-4f25-8cf4-990463004fc2",
   "metadata": {},
   "source": [
    "What is this error?\n",
    "\n",
    "Let's check `orders.info()`"
   ]
  },
  {
   "cell_type": "code",
   "execution_count": 75,
   "id": "1f793f18-c1bd-43bd-b3ee-fc00fb1266b3",
   "metadata": {},
   "outputs": [
    {
     "name": "stdout",
     "output_type": "stream",
     "text": [
      "<class 'pandas.core.frame.DataFrame'>\n",
      "Index: 61383 entries, 0 to 61692\n",
      "Data columns (total 4 columns):\n",
      " #   Column        Non-Null Count  Dtype  \n",
      "---  ------        --------------  -----  \n",
      " 0   order_id      61383 non-null  int64  \n",
      " 1   created_date  61383 non-null  object \n",
      " 2   total_paid    61383 non-null  float64\n",
      " 3   state         61383 non-null  object \n",
      "dtypes: float64(1), int64(1), object(2)\n",
      "memory usage: 2.3+ MB\n"
     ]
    }
   ],
   "source": [
    "orders.info()"
   ]
  },
  {
   "cell_type": "markdown",
   "id": "076c0c49-d04a-4112-a955-a981cd2c6b2a",
   "metadata": {},
   "source": [
    "If you remember, in the previous notebook (cleaning), we changed the data type of `created_date` to datetime. However, now it has become \"object\". Why is that?"
   ]
  },
  {
   "cell_type": "markdown",
   "id": "88f9f2c4-3406-44eb-bd4b-50cd9cadd0bd",
   "metadata": {},
   "source": [
    "This happens because, when we save the cleaned data (most likely as a CSV), Pandas includes the index from the original DataFrame as a column by default. When we load the data back into another Jupyter notebook, Pandas interprets that column as regular data instead of the index.\n",
    "\n",
    "This issue occurs because when we save the DataFrame as a CSV file and then load it back, Pandas may not preserve the datetime64 data type by default.\n",
    "\n",
    "Instead, it treats the created_date column as an \"object\" (which is typically a string), losing its original datetime64[ns] format.\n",
    "\n",
    "**Why this happens**:\n",
    "\n",
    "When we save the DataFrame as a CSV, the datetime column is converted into a string format (since CSVs store data as text).\n",
    "\n",
    "When we load the CSV back, Pandas does not automatically convert the string back into a datetime object unless explicitly instructed to do so.\n",
    "\n",
    "\n",
    "\n",
    "\n",
    "\n",
    "\n",
    "\n",
    "\n",
    "**How to fix it**:\n",
    "\n",
    "We convert the created_date column back to datetime after loading the CSV"
   ]
  },
  {
   "cell_type": "code",
   "execution_count": 77,
   "id": "e3b660e4-bfba-4a43-b1fd-9e95daac9b10",
   "metadata": {},
   "outputs": [],
   "source": [
    "orders['created_date'] = pd.to_datetime(orders['created_date'])"
   ]
  },
  {
   "cell_type": "code",
   "execution_count": 79,
   "id": "d3e23f2d-c660-45ae-83e3-e01e63be57a2",
   "metadata": {},
   "outputs": [
    {
     "name": "stdout",
     "output_type": "stream",
     "text": [
      "<class 'pandas.core.frame.DataFrame'>\n",
      "Index: 61383 entries, 0 to 61692\n",
      "Data columns (total 4 columns):\n",
      " #   Column        Non-Null Count  Dtype         \n",
      "---  ------        --------------  -----         \n",
      " 0   order_id      61383 non-null  int64         \n",
      " 1   created_date  61383 non-null  datetime64[ns]\n",
      " 2   total_paid    61383 non-null  float64       \n",
      " 3   state         61383 non-null  object        \n",
      "dtypes: datetime64[ns](1), float64(1), int64(1), object(1)\n",
      "memory usage: 2.3+ MB\n"
     ]
    }
   ],
   "source": [
    "orders.info()"
   ]
  },
  {
   "cell_type": "code",
   "execution_count": 81,
   "id": "1ccd434a-e164-4709-a941-5d046b38875c",
   "metadata": {},
   "outputs": [],
   "source": [
    "orders['month'] = orders['created_date'].dt.month_name()"
   ]
  },
  {
   "cell_type": "code",
   "execution_count": 83,
   "id": "361ca2fa-300e-4250-9fdf-787a142a5991",
   "metadata": {},
   "outputs": [],
   "source": [
    "orders['year'] = orders['created_date'].dt.year"
   ]
  },
  {
   "cell_type": "code",
   "execution_count": 85,
   "id": "5a6c4418-db94-4a05-9dfa-452d63445633",
   "metadata": {},
   "outputs": [
    {
     "data": {
      "text/html": [
       "<div>\n",
       "<style scoped>\n",
       "    .dataframe tbody tr th:only-of-type {\n",
       "        vertical-align: middle;\n",
       "    }\n",
       "\n",
       "    .dataframe tbody tr th {\n",
       "        vertical-align: top;\n",
       "    }\n",
       "\n",
       "    .dataframe thead th {\n",
       "        text-align: right;\n",
       "    }\n",
       "</style>\n",
       "<table border=\"1\" class=\"dataframe\">\n",
       "  <thead>\n",
       "    <tr style=\"text-align: right;\">\n",
       "      <th></th>\n",
       "      <th>order_id</th>\n",
       "      <th>created_date</th>\n",
       "      <th>total_paid</th>\n",
       "      <th>state</th>\n",
       "      <th>month</th>\n",
       "      <th>year</th>\n",
       "    </tr>\n",
       "  </thead>\n",
       "  <tbody>\n",
       "    <tr>\n",
       "      <th>0</th>\n",
       "      <td>241423</td>\n",
       "      <td>2017-11-06 13:10:02</td>\n",
       "      <td>136.15</td>\n",
       "      <td>Completed</td>\n",
       "      <td>November</td>\n",
       "      <td>2017</td>\n",
       "    </tr>\n",
       "    <tr>\n",
       "      <th>1</th>\n",
       "      <td>242832</td>\n",
       "      <td>2017-12-31 17:40:03</td>\n",
       "      <td>15.76</td>\n",
       "      <td>Completed</td>\n",
       "      <td>December</td>\n",
       "      <td>2017</td>\n",
       "    </tr>\n",
       "    <tr>\n",
       "      <th>2</th>\n",
       "      <td>243330</td>\n",
       "      <td>2017-02-16 10:59:38</td>\n",
       "      <td>84.98</td>\n",
       "      <td>Completed</td>\n",
       "      <td>February</td>\n",
       "      <td>2017</td>\n",
       "    </tr>\n",
       "    <tr>\n",
       "      <th>3</th>\n",
       "      <td>245275</td>\n",
       "      <td>2017-06-28 11:35:37</td>\n",
       "      <td>149.00</td>\n",
       "      <td>Completed</td>\n",
       "      <td>June</td>\n",
       "      <td>2017</td>\n",
       "    </tr>\n",
       "    <tr>\n",
       "      <th>4</th>\n",
       "      <td>245595</td>\n",
       "      <td>2017-01-21 12:52:47</td>\n",
       "      <td>112.97</td>\n",
       "      <td>Completed</td>\n",
       "      <td>January</td>\n",
       "      <td>2017</td>\n",
       "    </tr>\n",
       "  </tbody>\n",
       "</table>\n",
       "</div>"
      ],
      "text/plain": [
       "   order_id        created_date  total_paid      state     month  year\n",
       "0    241423 2017-11-06 13:10:02      136.15  Completed  November  2017\n",
       "1    242832 2017-12-31 17:40:03       15.76  Completed  December  2017\n",
       "2    243330 2017-02-16 10:59:38       84.98  Completed  February  2017\n",
       "3    245275 2017-06-28 11:35:37      149.00  Completed      June  2017\n",
       "4    245595 2017-01-21 12:52:47      112.97  Completed   January  2017"
      ]
     },
     "execution_count": 85,
     "metadata": {},
     "output_type": "execute_result"
    }
   ],
   "source": [
    "orders.head()"
   ]
  },
  {
   "cell_type": "code",
   "execution_count": 87,
   "id": "ecb2705b-def3-4922-a292-112254426cf8",
   "metadata": {},
   "outputs": [],
   "source": [
    "orders.drop('created_date' , axis = 1, inplace = True)"
   ]
  },
  {
   "cell_type": "code",
   "execution_count": 89,
   "id": "f486f64f-5ab1-4851-9427-79669936480f",
   "metadata": {},
   "outputs": [
    {
     "data": {
      "text/html": [
       "<div>\n",
       "<style scoped>\n",
       "    .dataframe tbody tr th:only-of-type {\n",
       "        vertical-align: middle;\n",
       "    }\n",
       "\n",
       "    .dataframe tbody tr th {\n",
       "        vertical-align: top;\n",
       "    }\n",
       "\n",
       "    .dataframe thead th {\n",
       "        text-align: right;\n",
       "    }\n",
       "</style>\n",
       "<table border=\"1\" class=\"dataframe\">\n",
       "  <thead>\n",
       "    <tr style=\"text-align: right;\">\n",
       "      <th></th>\n",
       "      <th>order_id</th>\n",
       "      <th>total_paid</th>\n",
       "      <th>state</th>\n",
       "      <th>month</th>\n",
       "      <th>year</th>\n",
       "    </tr>\n",
       "  </thead>\n",
       "  <tbody>\n",
       "    <tr>\n",
       "      <th>0</th>\n",
       "      <td>241423</td>\n",
       "      <td>136.15</td>\n",
       "      <td>Completed</td>\n",
       "      <td>November</td>\n",
       "      <td>2017</td>\n",
       "    </tr>\n",
       "    <tr>\n",
       "      <th>1</th>\n",
       "      <td>242832</td>\n",
       "      <td>15.76</td>\n",
       "      <td>Completed</td>\n",
       "      <td>December</td>\n",
       "      <td>2017</td>\n",
       "    </tr>\n",
       "    <tr>\n",
       "      <th>2</th>\n",
       "      <td>243330</td>\n",
       "      <td>84.98</td>\n",
       "      <td>Completed</td>\n",
       "      <td>February</td>\n",
       "      <td>2017</td>\n",
       "    </tr>\n",
       "    <tr>\n",
       "      <th>3</th>\n",
       "      <td>245275</td>\n",
       "      <td>149.00</td>\n",
       "      <td>Completed</td>\n",
       "      <td>June</td>\n",
       "      <td>2017</td>\n",
       "    </tr>\n",
       "    <tr>\n",
       "      <th>4</th>\n",
       "      <td>245595</td>\n",
       "      <td>112.97</td>\n",
       "      <td>Completed</td>\n",
       "      <td>January</td>\n",
       "      <td>2017</td>\n",
       "    </tr>\n",
       "  </tbody>\n",
       "</table>\n",
       "</div>"
      ],
      "text/plain": [
       "   order_id  total_paid      state     month  year\n",
       "0    241423      136.15  Completed  November  2017\n",
       "1    242832       15.76  Completed  December  2017\n",
       "2    243330       84.98  Completed  February  2017\n",
       "3    245275      149.00  Completed      June  2017\n",
       "4    245595      112.97  Completed   January  2017"
      ]
     },
     "execution_count": 89,
     "metadata": {},
     "output_type": "execute_result"
    }
   ],
   "source": [
    "orders.head()"
   ]
  },
  {
   "cell_type": "markdown",
   "id": "629b6698-53c0-4841-aa0b-9ad8787da1cc",
   "metadata": {},
   "source": [
    "#### 2: orderlines"
   ]
  },
  {
   "cell_type": "code",
   "execution_count": 93,
   "id": "82ad6b23-8e46-485a-bf5a-6959a112bd4a",
   "metadata": {},
   "outputs": [
    {
     "data": {
      "text/html": [
       "<div>\n",
       "<style scoped>\n",
       "    .dataframe tbody tr th:only-of-type {\n",
       "        vertical-align: middle;\n",
       "    }\n",
       "\n",
       "    .dataframe tbody tr th {\n",
       "        vertical-align: top;\n",
       "    }\n",
       "\n",
       "    .dataframe thead th {\n",
       "        text-align: right;\n",
       "    }\n",
       "</style>\n",
       "<table border=\"1\" class=\"dataframe\">\n",
       "  <thead>\n",
       "    <tr style=\"text-align: right;\">\n",
       "      <th></th>\n",
       "      <th>id</th>\n",
       "      <th>id_order</th>\n",
       "      <th>product_id</th>\n",
       "      <th>product_quantity</th>\n",
       "      <th>sku</th>\n",
       "      <th>unit_price</th>\n",
       "      <th>date</th>\n",
       "    </tr>\n",
       "  </thead>\n",
       "  <tbody>\n",
       "    <tr>\n",
       "      <th>0</th>\n",
       "      <td>1398738</td>\n",
       "      <td>241423</td>\n",
       "      <td>0</td>\n",
       "      <td>1</td>\n",
       "      <td>LAC0212</td>\n",
       "      <td>129.16</td>\n",
       "      <td>2017-11-06 12:47:20</td>\n",
       "    </tr>\n",
       "    <tr>\n",
       "      <th>1</th>\n",
       "      <td>1529178</td>\n",
       "      <td>242832</td>\n",
       "      <td>0</td>\n",
       "      <td>1</td>\n",
       "      <td>PAR0074</td>\n",
       "      <td>10.77</td>\n",
       "      <td>2017-12-31 17:26:40</td>\n",
       "    </tr>\n",
       "    <tr>\n",
       "      <th>2</th>\n",
       "      <td>1181923</td>\n",
       "      <td>243330</td>\n",
       "      <td>0</td>\n",
       "      <td>1</td>\n",
       "      <td>OWC0074</td>\n",
       "      <td>77.99</td>\n",
       "      <td>2017-02-15 17:07:44</td>\n",
       "    </tr>\n",
       "    <tr>\n",
       "      <th>3</th>\n",
       "      <td>1276706</td>\n",
       "      <td>245275</td>\n",
       "      <td>0</td>\n",
       "      <td>1</td>\n",
       "      <td>TAD0007</td>\n",
       "      <td>149.00</td>\n",
       "      <td>2017-06-28 11:12:30</td>\n",
       "    </tr>\n",
       "    <tr>\n",
       "      <th>4</th>\n",
       "      <td>1154394</td>\n",
       "      <td>245595</td>\n",
       "      <td>0</td>\n",
       "      <td>2</td>\n",
       "      <td>PAC1561</td>\n",
       "      <td>52.99</td>\n",
       "      <td>2017-01-21 12:49:00</td>\n",
       "    </tr>\n",
       "  </tbody>\n",
       "</table>\n",
       "</div>"
      ],
      "text/plain": [
       "        id  id_order  product_id  product_quantity      sku  unit_price  \\\n",
       "0  1398738    241423           0                 1  LAC0212      129.16   \n",
       "1  1529178    242832           0                 1  PAR0074       10.77   \n",
       "2  1181923    243330           0                 1  OWC0074       77.99   \n",
       "3  1276706    245275           0                 1  TAD0007      149.00   \n",
       "4  1154394    245595           0                 2  PAC1561       52.99   \n",
       "\n",
       "                  date  \n",
       "0  2017-11-06 12:47:20  \n",
       "1  2017-12-31 17:26:40  \n",
       "2  2017-02-15 17:07:44  \n",
       "3  2017-06-28 11:12:30  \n",
       "4  2017-01-21 12:49:00  "
      ]
     },
     "execution_count": 93,
     "metadata": {},
     "output_type": "execute_result"
    }
   ],
   "source": [
    "orderlines.head()"
   ]
  },
  {
   "cell_type": "markdown",
   "id": "cb53cd3d-452b-470d-a104-627aa56e718e",
   "metadata": {},
   "source": [
    "We have these information:\n",
    "\n",
    "1- `product_id` is an old identifier for each product, nowadays not in use.\n",
    "\n",
    "2- `id` is a unique identifier for each row in this file\n",
    "\n",
    "3- `date` is timestamp for the processing of that product\n",
    "\n",
    "\n",
    "For this analysis I don't need timestamp of processing, so very simple I delete these columns\n",
    "\n"
   ]
  },
  {
   "cell_type": "code",
   "execution_count": 96,
   "id": "8bd45878-3925-4eda-84ef-c23a1d399510",
   "metadata": {},
   "outputs": [],
   "source": [
    "orderlines.drop(columns= ['product_id', 'id', 'date'] , inplace = True)"
   ]
  },
  {
   "cell_type": "code",
   "execution_count": 98,
   "id": "b92494a7-9b49-4694-b30d-7eae500a7918",
   "metadata": {},
   "outputs": [
    {
     "data": {
      "text/html": [
       "<div>\n",
       "<style scoped>\n",
       "    .dataframe tbody tr th:only-of-type {\n",
       "        vertical-align: middle;\n",
       "    }\n",
       "\n",
       "    .dataframe tbody tr th {\n",
       "        vertical-align: top;\n",
       "    }\n",
       "\n",
       "    .dataframe thead th {\n",
       "        text-align: right;\n",
       "    }\n",
       "</style>\n",
       "<table border=\"1\" class=\"dataframe\">\n",
       "  <thead>\n",
       "    <tr style=\"text-align: right;\">\n",
       "      <th></th>\n",
       "      <th>id_order</th>\n",
       "      <th>product_quantity</th>\n",
       "      <th>sku</th>\n",
       "      <th>unit_price</th>\n",
       "    </tr>\n",
       "  </thead>\n",
       "  <tbody>\n",
       "    <tr>\n",
       "      <th>0</th>\n",
       "      <td>241423</td>\n",
       "      <td>1</td>\n",
       "      <td>LAC0212</td>\n",
       "      <td>129.16</td>\n",
       "    </tr>\n",
       "    <tr>\n",
       "      <th>1</th>\n",
       "      <td>242832</td>\n",
       "      <td>1</td>\n",
       "      <td>PAR0074</td>\n",
       "      <td>10.77</td>\n",
       "    </tr>\n",
       "    <tr>\n",
       "      <th>2</th>\n",
       "      <td>243330</td>\n",
       "      <td>1</td>\n",
       "      <td>OWC0074</td>\n",
       "      <td>77.99</td>\n",
       "    </tr>\n",
       "    <tr>\n",
       "      <th>3</th>\n",
       "      <td>245275</td>\n",
       "      <td>1</td>\n",
       "      <td>TAD0007</td>\n",
       "      <td>149.00</td>\n",
       "    </tr>\n",
       "    <tr>\n",
       "      <th>4</th>\n",
       "      <td>245595</td>\n",
       "      <td>2</td>\n",
       "      <td>PAC1561</td>\n",
       "      <td>52.99</td>\n",
       "    </tr>\n",
       "  </tbody>\n",
       "</table>\n",
       "</div>"
      ],
      "text/plain": [
       "   id_order  product_quantity      sku  unit_price\n",
       "0    241423                 1  LAC0212      129.16\n",
       "1    242832                 1  PAR0074       10.77\n",
       "2    243330                 1  OWC0074       77.99\n",
       "3    245275                 1  TAD0007      149.00\n",
       "4    245595                 2  PAC1561       52.99"
      ]
     },
     "execution_count": 98,
     "metadata": {},
     "output_type": "execute_result"
    }
   ],
   "source": [
    "orderlines.head()"
   ]
  },
  {
   "cell_type": "markdown",
   "id": "db41cb08-8e1f-4d64-9750-558868c8d4c9",
   "metadata": {},
   "source": [
    "This thable also is good. Now, I want to save them as `quality_data`"
   ]
  },
  {
   "cell_type": "code",
   "execution_count": 41,
   "id": "1fb2b45b-5451-4d85-b97c-9d7f3a6493d9",
   "metadata": {},
   "outputs": [],
   "source": [
    "orders.to_csv(f'C:\\\\My projects\\\\pandas\\\\quality_data\\\\orders_q', index = False)\n",
    "order_lines.to_csv(f'C:\\\\My projects\\\\pandas\\\\quality_data\\\\orderlines_q', index = False)\n",
    "products.to_csv(f'C:\\\\My projects\\\\pandas\\\\quality_data\\\\products_q', index = False)\n",
    "brands.to_csv(f'C:\\\\My projects\\\\pandas\\\\quality_data\\\\brands_q', index = False)"
   ]
  }
 ],
 "metadata": {
  "kernelspec": {
   "display_name": "Python 3 (ipykernel)",
   "language": "python",
   "name": "python3"
  },
  "language_info": {
   "codemirror_mode": {
    "name": "ipython",
    "version": 3
   },
   "file_extension": ".py",
   "mimetype": "text/x-python",
   "name": "python",
   "nbconvert_exporter": "python",
   "pygments_lexer": "ipython3",
   "version": "3.12.4"
  }
 },
 "nbformat": 4,
 "nbformat_minor": 5
}
